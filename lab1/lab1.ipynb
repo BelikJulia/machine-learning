{
 "cells": [
  {
   "cell_type": "code",
   "execution_count": 1,
   "id": "3d5478d7",
   "metadata": {},
   "outputs": [],
   "source": [
    "import numpy as np\n",
    "import matplotlib.pyplot as plt\n",
    "%matplotlib inline \n",
    "import pandas as pd\n",
    "import seaborn as sns\n",
    "import sklearn"
   ]
  },
  {
   "cell_type": "markdown",
   "id": "cc7ddf3f",
   "metadata": {},
   "source": [
    "# 0. Описание задачи\n",
    "Определение диапозона цен на телефоны при известных параметрах: емкость батареи, поддержка bluetooth, количество симкарт и других.\n",
    "## 1. Загрузка и чтение данных\n",
    "Весь датасет находится в репозитории для сдачи лабораторный работ в папке DataSet"
   ]
  },
  {
   "cell_type": "code",
   "execution_count": 2,
   "id": "9bd499c0",
   "metadata": {},
   "outputs": [
    {
     "data": {
      "text/plain": [
       "(3000, 21)"
      ]
     },
     "execution_count": 2,
     "metadata": {},
     "output_type": "execute_result"
    }
   ],
   "source": [
    "url = \"https://raw.githubusercontent.com/BelikJulia/machine-learning/main/DataSet/MP.csv\"\n",
    "data_raw = pd.read_csv(url)\n",
    "data_raw.shape"
   ]
  },
  {
   "cell_type": "markdown",
   "id": "d9b5f93c",
   "metadata": {},
   "source": [
    "Таблица содержит данный о 3000 моделей телефонов с описанием 20 параметров"
   ]
  },
  {
   "cell_type": "code",
   "execution_count": 3,
   "id": "bd419b83",
   "metadata": {},
   "outputs": [
    {
     "data": {
      "text/html": [
       "<div>\n",
       "<style scoped>\n",
       "    .dataframe tbody tr th:only-of-type {\n",
       "        vertical-align: middle;\n",
       "    }\n",
       "\n",
       "    .dataframe tbody tr th {\n",
       "        vertical-align: top;\n",
       "    }\n",
       "\n",
       "    .dataframe thead th {\n",
       "        text-align: right;\n",
       "    }\n",
       "</style>\n",
       "<table border=\"1\" class=\"dataframe\">\n",
       "  <thead>\n",
       "    <tr style=\"text-align: right;\">\n",
       "      <th></th>\n",
       "      <th>battery_power</th>\n",
       "      <th>blue</th>\n",
       "      <th>clock_speed</th>\n",
       "      <th>dual_sim</th>\n",
       "      <th>fc</th>\n",
       "      <th>four_g</th>\n",
       "      <th>int_memory</th>\n",
       "      <th>m_dep</th>\n",
       "      <th>mobile_wt</th>\n",
       "      <th>n_cores</th>\n",
       "      <th>...</th>\n",
       "      <th>px_height</th>\n",
       "      <th>px_width</th>\n",
       "      <th>ram</th>\n",
       "      <th>sc_h</th>\n",
       "      <th>sc_w</th>\n",
       "      <th>talk_time</th>\n",
       "      <th>three_g</th>\n",
       "      <th>touch_screen</th>\n",
       "      <th>wifi</th>\n",
       "      <th>price_range</th>\n",
       "    </tr>\n",
       "  </thead>\n",
       "  <tbody>\n",
       "    <tr>\n",
       "      <th>0</th>\n",
       "      <td>NaN</td>\n",
       "      <td>NaN</td>\n",
       "      <td>2.2</td>\n",
       "      <td>0.0</td>\n",
       "      <td>1.0</td>\n",
       "      <td>0.0</td>\n",
       "      <td>7.0</td>\n",
       "      <td>0.6</td>\n",
       "      <td>188.0</td>\n",
       "      <td>2.0</td>\n",
       "      <td>...</td>\n",
       "      <td>20.0</td>\n",
       "      <td>756.0</td>\n",
       "      <td>2549.0</td>\n",
       "      <td>9.0</td>\n",
       "      <td>7.0</td>\n",
       "      <td>19.0</td>\n",
       "      <td>0.0</td>\n",
       "      <td>0.0</td>\n",
       "      <td>1.0</td>\n",
       "      <td>1</td>\n",
       "    </tr>\n",
       "    <tr>\n",
       "      <th>1</th>\n",
       "      <td>1021.0</td>\n",
       "      <td>1.0</td>\n",
       "      <td>0.5</td>\n",
       "      <td>1.0</td>\n",
       "      <td>0.0</td>\n",
       "      <td>1.0</td>\n",
       "      <td>53.0</td>\n",
       "      <td>0.7</td>\n",
       "      <td>136.0</td>\n",
       "      <td>3.0</td>\n",
       "      <td>...</td>\n",
       "      <td>905.0</td>\n",
       "      <td>1988.0</td>\n",
       "      <td>2631.0</td>\n",
       "      <td>17.0</td>\n",
       "      <td>3.0</td>\n",
       "      <td>7.0</td>\n",
       "      <td>1.0</td>\n",
       "      <td>1.0</td>\n",
       "      <td>0.0</td>\n",
       "      <td>2</td>\n",
       "    </tr>\n",
       "    <tr>\n",
       "      <th>2</th>\n",
       "      <td>563.0</td>\n",
       "      <td>1.0</td>\n",
       "      <td>0.5</td>\n",
       "      <td>1.0</td>\n",
       "      <td>2.0</td>\n",
       "      <td>1.0</td>\n",
       "      <td>41.0</td>\n",
       "      <td>0.9</td>\n",
       "      <td>145.0</td>\n",
       "      <td>5.0</td>\n",
       "      <td>...</td>\n",
       "      <td>1263.0</td>\n",
       "      <td>1716.0</td>\n",
       "      <td>2603.0</td>\n",
       "      <td>11.0</td>\n",
       "      <td>2.0</td>\n",
       "      <td>9.0</td>\n",
       "      <td>1.0</td>\n",
       "      <td>1.0</td>\n",
       "      <td>0.0</td>\n",
       "      <td>2</td>\n",
       "    </tr>\n",
       "    <tr>\n",
       "      <th>3</th>\n",
       "      <td>615.0</td>\n",
       "      <td>1.0</td>\n",
       "      <td>2.5</td>\n",
       "      <td>0.0</td>\n",
       "      <td>0.0</td>\n",
       "      <td>0.0</td>\n",
       "      <td>10.0</td>\n",
       "      <td>0.8</td>\n",
       "      <td>131.0</td>\n",
       "      <td>6.0</td>\n",
       "      <td>...</td>\n",
       "      <td>1216.0</td>\n",
       "      <td>1786.0</td>\n",
       "      <td>2769.0</td>\n",
       "      <td>16.0</td>\n",
       "      <td>8.0</td>\n",
       "      <td>11.0</td>\n",
       "      <td>1.0</td>\n",
       "      <td>0.0</td>\n",
       "      <td>0.0</td>\n",
       "      <td>2</td>\n",
       "    </tr>\n",
       "    <tr>\n",
       "      <th>4</th>\n",
       "      <td>1821.0</td>\n",
       "      <td>1.0</td>\n",
       "      <td>1.2</td>\n",
       "      <td>0.0</td>\n",
       "      <td>13.0</td>\n",
       "      <td>1.0</td>\n",
       "      <td>44.0</td>\n",
       "      <td>0.6</td>\n",
       "      <td>141.0</td>\n",
       "      <td>2.0</td>\n",
       "      <td>...</td>\n",
       "      <td>1208.0</td>\n",
       "      <td>1212.0</td>\n",
       "      <td>1411.0</td>\n",
       "      <td>8.0</td>\n",
       "      <td>2.0</td>\n",
       "      <td>15.0</td>\n",
       "      <td>1.0</td>\n",
       "      <td>1.0</td>\n",
       "      <td>0.0</td>\n",
       "      <td>1</td>\n",
       "    </tr>\n",
       "  </tbody>\n",
       "</table>\n",
       "<p>5 rows × 21 columns</p>\n",
       "</div>"
      ],
      "text/plain": [
       "   battery_power  blue  clock_speed  dual_sim    fc  four_g  int_memory  \\\n",
       "0            NaN   NaN          2.2       0.0   1.0     0.0         7.0   \n",
       "1         1021.0   1.0          0.5       1.0   0.0     1.0        53.0   \n",
       "2          563.0   1.0          0.5       1.0   2.0     1.0        41.0   \n",
       "3          615.0   1.0          2.5       0.0   0.0     0.0        10.0   \n",
       "4         1821.0   1.0          1.2       0.0  13.0     1.0        44.0   \n",
       "\n",
       "   m_dep  mobile_wt  n_cores  ...  px_height  px_width     ram  sc_h  sc_w  \\\n",
       "0    0.6      188.0      2.0  ...       20.0     756.0  2549.0   9.0   7.0   \n",
       "1    0.7      136.0      3.0  ...      905.0    1988.0  2631.0  17.0   3.0   \n",
       "2    0.9      145.0      5.0  ...     1263.0    1716.0  2603.0  11.0   2.0   \n",
       "3    0.8      131.0      6.0  ...     1216.0    1786.0  2769.0  16.0   8.0   \n",
       "4    0.6      141.0      2.0  ...     1208.0    1212.0  1411.0   8.0   2.0   \n",
       "\n",
       "   talk_time  three_g  touch_screen  wifi  price_range  \n",
       "0       19.0      0.0           0.0   1.0            1  \n",
       "1        7.0      1.0           1.0   0.0            2  \n",
       "2        9.0      1.0           1.0   0.0            2  \n",
       "3       11.0      1.0           0.0   0.0            2  \n",
       "4       15.0      1.0           1.0   0.0            1  \n",
       "\n",
       "[5 rows x 21 columns]"
      ]
     },
     "execution_count": 3,
     "metadata": {},
     "output_type": "execute_result"
    }
   ],
   "source": [
    "data_raw.head()"
   ]
  },
  {
   "cell_type": "markdown",
   "id": "aa08a456",
   "metadata": {},
   "source": [
    "Признаки:\n",
    "1. battery_power - емкость батареи в mAh\n",
    "2. blue - наличие Bluetooth (0 - нет, 1 - да)\n",
    "3. clock_speed - скорость, с которой микропроцессор выполняет инструкции \n",
    "4. dual_sim - поддержка двух SIM-карт (0 - нет, 1 - да)\n",
    "5. fc - разрешение фронтальной камеры в Мп\n",
    "6. four_g - поддержка 4G (0 - нет, 1 - да)\n",
    "7. int_memory - внутренняя память в Гб\n",
    "8. m_dep - глубина телефона в см\n",
    "9. mobile_wt - вес телефона\n",
    "10. n_cores - количество ядер процессора\n",
    "11. pc - разрешение основной камеры в Мп\n",
    "12. px_height - разрешение в высоту в пикселях\n",
    "13. px_width - разрешение в ширину в пикселях\n",
    "14. ram - оперативная память в Мб\n",
    "15. sc_h - высота экрана в см\n",
    "16. sc_w - ширина экрана в см\n",
    "17. talk_time - максимальное время, в течение которого хватит одной зарядки аккумулятора, когда вы говорите по телефону\n",
    "18. three_g - поддержка 3G (0 - нет, 1 - да)\n",
    "19. touch_screen - наличие сенсорного экрана (0 - нет, 1 - да)\n",
    "20. wifi - наличие wifi (0 - нет, 1 - да)\n",
    "21. price_range - ценовой диапазон"
   ]
  },
  {
   "cell_type": "code",
   "execution_count": 4,
   "id": "0b7bd844",
   "metadata": {},
   "outputs": [
    {
     "data": {
      "text/plain": [
       "Index(['battery_power', 'blue', 'clock_speed', 'dual_sim', 'fc', 'four_g',\n",
       "       'int_memory', 'm_dep', 'mobile_wt', 'n_cores', 'pc', 'px_height',\n",
       "       'px_width', 'ram', 'sc_h', 'sc_w', 'talk_time', 'three_g',\n",
       "       'touch_screen', 'wifi', 'price_range'],\n",
       "      dtype='object')"
      ]
     },
     "execution_count": 4,
     "metadata": {},
     "output_type": "execute_result"
    }
   ],
   "source": [
    "data_raw.columns"
   ]
  },
  {
   "cell_type": "markdown",
   "id": "7cdb7381",
   "metadata": {},
   "source": [
    "Имена строк (совпадают с номерами)"
   ]
  },
  {
   "cell_type": "code",
   "execution_count": 5,
   "id": "d38c86d5",
   "metadata": {},
   "outputs": [
    {
     "data": {
      "text/plain": [
       "RangeIndex(start=0, stop=3000, step=1)"
      ]
     },
     "execution_count": 5,
     "metadata": {},
     "output_type": "execute_result"
    }
   ],
   "source": [
    "data_raw.index"
   ]
  },
  {
   "cell_type": "code",
   "execution_count": 6,
   "id": "4455d92c",
   "metadata": {},
   "outputs": [
    {
     "name": "stdout",
     "output_type": "stream",
     "text": [
      "<class 'pandas.core.frame.DataFrame'>\n",
      "RangeIndex: 3000 entries, 0 to 2999\n",
      "Data columns (total 21 columns):\n",
      " #   Column         Non-Null Count  Dtype  \n",
      "---  ------         --------------  -----  \n",
      " 0   battery_power  2993 non-null   float64\n",
      " 1   blue           2985 non-null   float64\n",
      " 2   clock_speed    2995 non-null   float64\n",
      " 3   dual_sim       2985 non-null   float64\n",
      " 4   fc             2993 non-null   float64\n",
      " 5   four_g         2981 non-null   float64\n",
      " 6   int_memory     2993 non-null   float64\n",
      " 7   m_dep          2991 non-null   float64\n",
      " 8   mobile_wt      2991 non-null   float64\n",
      " 9   n_cores        2991 non-null   float64\n",
      " 10  pc             2987 non-null   float64\n",
      " 11  px_height      2992 non-null   float64\n",
      " 12  px_width       2995 non-null   float64\n",
      " 13  ram            2995 non-null   float64\n",
      " 14  sc_h           2993 non-null   float64\n",
      " 15  sc_w           2994 non-null   float64\n",
      " 16  talk_time      2991 non-null   float64\n",
      " 17  three_g        2992 non-null   float64\n",
      " 18  touch_screen   2997 non-null   float64\n",
      " 19  wifi           2997 non-null   float64\n",
      " 20  price_range    3000 non-null   int64  \n",
      "dtypes: float64(20), int64(1)\n",
      "memory usage: 492.3 KB\n"
     ]
    }
   ],
   "source": [
    "data_raw.info()"
   ]
  },
  {
   "cell_type": "markdown",
   "id": "eb73195f",
   "metadata": {},
   "source": [
    " 0. battery_power - числовой \n",
    " 1. blue - категориальный (2)\n",
    " 2. clock_speed - числовой\n",
    " 3. dual_sim - категориальный (2)\n",
    " 4. fc - числовой\n",
    " 5. four_g - категориальный (2)\n",
    " 6. int_memory - числовой\n",
    " 7. m_dep - числовой\n",
    " 8. mobile_wt - числовой\n",
    " 9. n_cores - числовой\n",
    " 10. pc - числовой\n",
    " 11. px_height - числовой\n",
    " 12. px_width - числовой\n",
    " 13. ram - числовой\n",
    " 14. sc_h - числовой\n",
    " 15. sc_w - числовой\n",
    " 16. talk_time - числовой\n",
    " 17. three_g - категориальный (2)\n",
    " 18. touch_screen - категориальный (2)\n",
    " 19. wifi - категориальный (2)\n",
    " 20. price_range - категориальный (4)\n",
    " \n",
    "### Обработка выбросов"
   ]
  },
  {
   "cell_type": "code",
   "execution_count": 7,
   "id": "5b66e32d",
   "metadata": {},
   "outputs": [
    {
     "data": {
      "image/png": "[encoded data removed]",
      "text/plain": [
       "<Figure size 432x288 with 1 Axes>"
      ]
     },
     "metadata": {
      "needs_background": "light"
     },
     "output_type": "display_data"
    }
   ],
   "source": [
    "plt.scatter(data_raw['battery_power'], data_raw['price_range'], alpha=0.4)\n",
    "pass"
   ]
  },
  {
   "cell_type": "markdown",
   "id": "29643599",
   "metadata": {},
   "source": [
    "Заметим, что есть выбросы"
   ]
  },
  {
   "cell_type": "code",
   "execution_count": 8,
   "id": "d5f72f03",
   "metadata": {},
   "outputs": [
    {
     "data": {
      "text/plain": [
       "0.005     503.96\n",
       "0.010     508.00\n",
       "0.050     568.00\n",
       "0.100     630.60\n",
       "0.500    1231.00\n",
       "0.900    1852.80\n",
       "0.950    1931.20\n",
       "0.990    1988.08\n",
       "0.995    1994.00\n",
       "Name: battery_power, dtype: float64"
      ]
     },
     "execution_count": 8,
     "metadata": {},
     "output_type": "execute_result"
    }
   ],
   "source": [
    "data_raw['battery_power'].quantile([0.005,.01,.05,.1,.5,.9,.95,.99,.995])"
   ]
  },
  {
   "cell_type": "markdown",
   "id": "7a2a6078",
   "metadata": {},
   "source": [
    "99,9% значений емкости батареи находятся в диапазоне от 504 до 1993"
   ]
  },
  {
   "cell_type": "code",
   "execution_count": 9,
   "id": "8d7767f9",
   "metadata": {},
   "outputs": [
    {
     "data": {
      "image/png": "[encoded data removed]",
      "text/plain": [
       "<Figure size 432x288 with 1 Axes>"
      ]
     },
     "metadata": {
      "needs_background": "light"
     },
     "output_type": "display_data"
    }
   ],
   "source": [
    "plt.scatter(data_raw['blue'], data_raw['price_range'], alpha=0.4)\n",
    "pass"
   ]
  },
  {
   "cell_type": "code",
   "execution_count": 10,
   "id": "30fd6610",
   "metadata": {},
   "outputs": [
    {
     "data": {
      "text/plain": [
       "0.005    0.0\n",
       "0.010    0.0\n",
       "0.050    0.0\n",
       "0.100    0.0\n",
       "0.500    0.0\n",
       "0.900    1.0\n",
       "0.950    1.0\n",
       "0.990    1.0\n",
       "0.995    1.0\n",
       "Name: blue, dtype: float64"
      ]
     },
     "execution_count": 10,
     "metadata": {},
     "output_type": "execute_result"
    }
   ],
   "source": [
    "data_raw['blue'].quantile([0.005,.01,.05,.1,.5,.9,.95,.99,.995])"
   ]
  },
  {
   "cell_type": "markdown",
   "id": "66d1eb76",
   "metadata": {},
   "source": [
    "Выбросов нет"
   ]
  },
  {
   "cell_type": "code",
   "execution_count": 11,
   "id": "e0b1de7c",
   "metadata": {},
   "outputs": [
    {
     "data": {
      "image/png": "[encoded data removed]",
      "text/plain": [
       "<Figure size 432x288 with 1 Axes>"
      ]
     },
     "metadata": {
      "needs_background": "light"
     },
     "output_type": "display_data"
    }
   ],
   "source": [
    "plt.scatter(data_raw['clock_speed'], data_raw['price_range'], alpha=0.4)\n",
    "pass"
   ]
  },
  {
   "cell_type": "code",
   "execution_count": 12,
   "id": "6fa7f6ae",
   "metadata": {},
   "outputs": [
    {
     "data": {
      "text/plain": [
       "0.005    0.5\n",
       "0.010    0.5\n",
       "0.050    0.5\n",
       "0.100    0.5\n",
       "0.500    1.5\n",
       "0.900    2.7\n",
       "0.950    2.8\n",
       "0.990    3.0\n",
       "0.995    3.0\n",
       "Name: clock_speed, dtype: float64"
      ]
     },
     "execution_count": 12,
     "metadata": {},
     "output_type": "execute_result"
    }
   ],
   "source": [
    "data_raw['clock_speed'].quantile([0.005,.01,.05,.1,.5,.9,.95,.99,.995])"
   ]
  },
  {
   "cell_type": "markdown",
   "id": "d0056cd8",
   "metadata": {},
   "source": [
    "Есть выбросы, которые удалим далее"
   ]
  },
  {
   "cell_type": "code",
   "execution_count": 13,
   "id": "d06d73db",
   "metadata": {},
   "outputs": [
    {
     "data": {
      "image/png": "[encoded data removed]",
      "text/plain": [
       "<Figure size 432x288 with 1 Axes>"
      ]
     },
     "metadata": {
      "needs_background": "light"
     },
     "output_type": "display_data"
    }
   ],
   "source": [
    "plt.scatter(data_raw['dual_sim'], data_raw['price_range'], alpha=0.4)\n",
    "pass"
   ]
  },
  {
   "cell_type": "markdown",
   "id": "ad2a2485",
   "metadata": {},
   "source": [
    "Выбросов нет"
   ]
  },
  {
   "cell_type": "code",
   "execution_count": 14,
   "id": "24da38b4",
   "metadata": {},
   "outputs": [
    {
     "data": {
      "image/png": "[encoded data removed]",
      "text/plain": [
       "<Figure size 432x288 with 1 Axes>"
      ]
     },
     "metadata": {
      "needs_background": "light"
     },
     "output_type": "display_data"
    }
   ],
   "source": [
    "plt.scatter(data_raw['fc'], data_raw['price_range'], alpha=0.4)\n",
    "pass"
   ]
  },
  {
   "cell_type": "code",
   "execution_count": 15,
   "id": "ac770c84",
   "metadata": {},
   "outputs": [
    {
     "data": {
      "text/plain": [
       "0.005     0.00\n",
       "0.010     0.00\n",
       "0.050     0.00\n",
       "0.100     0.00\n",
       "0.500     3.00\n",
       "0.900    11.00\n",
       "0.950    13.00\n",
       "0.990    16.08\n",
       "0.995    18.00\n",
       "Name: fc, dtype: float64"
      ]
     },
     "execution_count": 15,
     "metadata": {},
     "output_type": "execute_result"
    }
   ],
   "source": [
    "data_raw['fc'].quantile([0.005,.01,.05,.1,.5,.9,.95,.99,.995])"
   ]
  },
  {
   "cell_type": "markdown",
   "id": "9543ee65",
   "metadata": {},
   "source": [
    "Есть выбросы"
   ]
  },
  {
   "cell_type": "code",
   "execution_count": 16,
   "id": "b046de50",
   "metadata": {},
   "outputs": [
    {
     "data": {
      "image/png": "[encoded data removed]",
      "text/plain": [
       "<Figure size 432x288 with 1 Axes>"
      ]
     },
     "metadata": {
      "needs_background": "light"
     },
     "output_type": "display_data"
    }
   ],
   "source": [
    "plt.scatter(data_raw['four_g'], data_raw['price_range'], alpha=0.4)\n",
    "pass"
   ]
  },
  {
   "cell_type": "markdown",
   "id": "5a1048cb",
   "metadata": {},
   "source": [
    "Выбросов нет"
   ]
  },
  {
   "cell_type": "code",
   "execution_count": 17,
   "id": "3fc9b565",
   "metadata": {},
   "outputs": [
    {
     "data": {
      "image/png": "[encoded data removed]",
      "text/plain": [
       "<Figure size 432x288 with 1 Axes>"
      ]
     },
     "metadata": {
      "needs_background": "light"
     },
     "output_type": "display_data"
    }
   ],
   "source": [
    "plt.scatter(data_raw['int_memory'], data_raw['price_range'], alpha=0.4)\n",
    "pass"
   ]
  },
  {
   "cell_type": "code",
   "execution_count": 18,
   "id": "8f6cd320",
   "metadata": {},
   "outputs": [
    {
     "data": {
      "text/plain": [
       "0.005     2.0\n",
       "0.010     2.0\n",
       "0.050     5.0\n",
       "0.100     8.0\n",
       "0.500    33.0\n",
       "0.900    57.0\n",
       "0.950    61.0\n",
       "0.990    64.0\n",
       "0.995    64.0\n",
       "Name: int_memory, dtype: float64"
      ]
     },
     "execution_count": 18,
     "metadata": {},
     "output_type": "execute_result"
    }
   ],
   "source": [
    "data_raw['int_memory'].quantile([0.005,.01,.05,.1,.5,.9,.95,.99,.995])"
   ]
  },
  {
   "cell_type": "markdown",
   "id": "2bf150e9",
   "metadata": {},
   "source": [
    "Есть выбросы"
   ]
  },
  {
   "cell_type": "code",
   "execution_count": 19,
   "id": "ae0e9c7c",
   "metadata": {},
   "outputs": [
    {
     "data": {
      "image/png": "[encoded data removed]",
      "text/plain": [
       "<Figure size 432x288 with 1 Axes>"
      ]
     },
     "metadata": {
      "needs_background": "light"
     },
     "output_type": "display_data"
    }
   ],
   "source": [
    "plt.scatter(data_raw['m_dep'], data_raw['price_range'], alpha=0.4)\n",
    "pass"
   ]
  },
  {
   "cell_type": "code",
   "execution_count": 20,
   "id": "e96701b3",
   "metadata": {},
   "outputs": [
    {
     "data": {
      "text/plain": [
       "0.005    0.1\n",
       "0.010    0.1\n",
       "0.050    0.1\n",
       "0.100    0.1\n",
       "0.500    0.5\n",
       "0.900    0.9\n",
       "0.950    1.0\n",
       "0.990    1.0\n",
       "0.995    1.0\n",
       "Name: m_dep, dtype: float64"
      ]
     },
     "execution_count": 20,
     "metadata": {},
     "output_type": "execute_result"
    }
   ],
   "source": [
    "data_raw['m_dep'].quantile([0.005,.01,.05,.1,.5,.9,.95,.99,.995])"
   ]
  },
  {
   "cell_type": "markdown",
   "id": "0f24a0ee",
   "metadata": {},
   "source": [
    "Есть выбросы"
   ]
  },
  {
   "cell_type": "code",
   "execution_count": 21,
   "id": "a8fd11a1",
   "metadata": {},
   "outputs": [
    {
     "data": {
      "image/png": "[encoded data removed]",
      "text/plain": [
       "<Figure size 432x288 with 1 Axes>"
      ]
     },
     "metadata": {
      "needs_background": "light"
     },
     "output_type": "display_data"
    }
   ],
   "source": [
    "plt.scatter(data_raw['mobile_wt'], data_raw['price_range'], alpha=0.4)\n",
    "pass"
   ]
  },
  {
   "cell_type": "code",
   "execution_count": 22,
   "id": "cc3dbe01",
   "metadata": {},
   "outputs": [
    {
     "data": {
      "text/plain": [
       "0.005     80.0\n",
       "0.010     80.0\n",
       "0.050     86.0\n",
       "0.100     91.0\n",
       "0.500    141.0\n",
       "0.900    189.0\n",
       "0.950    196.0\n",
       "0.990    199.0\n",
       "0.995    200.0\n",
       "Name: mobile_wt, dtype: float64"
      ]
     },
     "execution_count": 22,
     "metadata": {},
     "output_type": "execute_result"
    }
   ],
   "source": [
    "data_raw['mobile_wt'].quantile([0.005,.01,.05,.1,.5,.9,.95,.99,.995])"
   ]
  },
  {
   "cell_type": "markdown",
   "id": "310b3f02",
   "metadata": {},
   "source": [
    "Есть выбросы"
   ]
  },
  {
   "cell_type": "code",
   "execution_count": 23,
   "id": "f8421c9a",
   "metadata": {},
   "outputs": [
    {
     "data": {
      "image/png": "[encoded data removed]",
      "text/plain": [
       "<Figure size 432x288 with 1 Axes>"
      ]
     },
     "metadata": {
      "needs_background": "light"
     },
     "output_type": "display_data"
    }
   ],
   "source": [
    "plt.scatter(data_raw['n_cores'], data_raw['price_range'], alpha=0.4)\n",
    "pass"
   ]
  },
  {
   "cell_type": "markdown",
   "id": "e37bdf2d",
   "metadata": {},
   "source": [
    "Выбросов нет"
   ]
  },
  {
   "cell_type": "code",
   "execution_count": 24,
   "id": "294c10e0",
   "metadata": {},
   "outputs": [
    {
     "data": {
      "image/png": "[encoded data removed]",
      "text/plain": [
       "<Figure size 432x288 with 1 Axes>"
      ]
     },
     "metadata": {
      "needs_background": "light"
     },
     "output_type": "display_data"
    }
   ],
   "source": [
    "plt.scatter(data_raw['pc'], data_raw['price_range'], alpha=0.4)\n",
    "pass"
   ]
  },
  {
   "cell_type": "code",
   "execution_count": 25,
   "id": "7b8c46b1",
   "metadata": {},
   "outputs": [
    {
     "data": {
      "text/plain": [
       "0.005     0.0\n",
       "0.010     0.0\n",
       "0.050     0.0\n",
       "0.100     1.0\n",
       "0.500    10.0\n",
       "0.900    18.0\n",
       "0.950    20.0\n",
       "0.990    20.0\n",
       "0.995    20.0\n",
       "Name: pc, dtype: float64"
      ]
     },
     "execution_count": 25,
     "metadata": {},
     "output_type": "execute_result"
    }
   ],
   "source": [
    "data_raw['pc'].quantile([0.005,.01,.05,.1,.5,.9,.95,.99,.995])"
   ]
  },
  {
   "cell_type": "markdown",
   "id": "5fc82668",
   "metadata": {},
   "source": [
    "Есть выбросы"
   ]
  },
  {
   "cell_type": "code",
   "execution_count": 26,
   "id": "9555bdf0",
   "metadata": {},
   "outputs": [
    {
     "data": {
      "image/png": "[encoded data removed]",
      "text/plain": [
       "<Figure size 432x288 with 1 Axes>"
      ]
     },
     "metadata": {
      "needs_background": "light"
     },
     "output_type": "display_data"
    }
   ],
   "source": [
    "plt.scatter(data_raw['px_height'], data_raw['price_range'], alpha=0.4)\n",
    "pass"
   ]
  },
  {
   "cell_type": "code",
   "execution_count": 27,
   "id": "1f26fee1",
   "metadata": {},
   "outputs": [
    {
     "data": {
      "text/plain": [
       "0.005       4.00\n",
       "0.010      14.91\n",
       "0.050      70.00\n",
       "0.100     126.10\n",
       "0.500     561.00\n",
       "0.900    1285.00\n",
       "0.950    1486.00\n",
       "0.990    1792.27\n",
       "0.995    1869.00\n",
       "Name: px_height, dtype: float64"
      ]
     },
     "execution_count": 27,
     "metadata": {},
     "output_type": "execute_result"
    }
   ],
   "source": [
    "data_raw['px_height'].quantile([0.005,.01,.05,.1,.5,.9,.95,.99,.995])"
   ]
  },
  {
   "cell_type": "markdown",
   "id": "cd13e189",
   "metadata": {},
   "source": [
    "Выбросов нет"
   ]
  },
  {
   "cell_type": "code",
   "execution_count": 28,
   "id": "77fa7b84",
   "metadata": {},
   "outputs": [
    {
     "data": {
      "image/png": "[encoded data removed]",
      "text/plain": [
       "<Figure size 432x288 with 1 Axes>"
      ]
     },
     "metadata": {
      "needs_background": "light"
     },
     "output_type": "display_data"
    }
   ],
   "source": [
    "plt.scatter(data_raw['px_width'], data_raw['price_range'], alpha=0.4)\n",
    "pass"
   ]
  },
  {
   "cell_type": "code",
   "execution_count": 29,
   "id": "e0d94a64",
   "metadata": {},
   "outputs": [
    {
     "data": {
      "text/plain": [
       "0.005     507.0\n",
       "0.010     511.0\n",
       "0.050     573.4\n",
       "0.100     660.0\n",
       "0.500    1247.0\n",
       "0.900    1854.0\n",
       "0.950    1929.0\n",
       "0.990    1987.0\n",
       "0.995    1992.0\n",
       "Name: px_width, dtype: float64"
      ]
     },
     "execution_count": 29,
     "metadata": {},
     "output_type": "execute_result"
    }
   ],
   "source": [
    "data_raw['px_width'].quantile([0.005,.01,.05,.1,.5,.9,.95,.99,.995])"
   ]
  },
  {
   "cell_type": "markdown",
   "id": "ad9a0bbe",
   "metadata": {},
   "source": [
    "Есть выбросы"
   ]
  },
  {
   "cell_type": "code",
   "execution_count": 30,
   "id": "7f6df6e9",
   "metadata": {},
   "outputs": [
    {
     "data": {
      "image/png": "[encoded data removed]",
      "text/plain": [
       "<Figure size 432x288 with 1 Axes>"
      ]
     },
     "metadata": {
      "needs_background": "light"
     },
     "output_type": "display_data"
    }
   ],
   "source": [
    "plt.scatter(data_raw['ram'], data_raw['price_range'], alpha=0.4)\n",
    "pass"
   ]
  },
  {
   "cell_type": "code",
   "execution_count": 31,
   "id": "e70f0d74",
   "metadata": {},
   "outputs": [
    {
     "data": {
      "text/plain": [
       "0.005     272.82\n",
       "0.010     290.70\n",
       "0.050     441.00\n",
       "0.100     597.40\n",
       "0.500    2169.00\n",
       "0.900    3652.00\n",
       "0.950    3828.10\n",
       "0.990    3959.00\n",
       "0.995    3970.00\n",
       "Name: ram, dtype: float64"
      ]
     },
     "execution_count": 31,
     "metadata": {},
     "output_type": "execute_result"
    }
   ],
   "source": [
    "data_raw['ram'].quantile([0.005,.01,.05,.1,.5,.9,.95,.99,.995])"
   ]
  },
  {
   "cell_type": "markdown",
   "id": "db61b642",
   "metadata": {},
   "source": [
    "Есть выбросы"
   ]
  },
  {
   "cell_type": "code",
   "execution_count": 32,
   "id": "f44f9996",
   "metadata": {},
   "outputs": [
    {
     "data": {
      "image/png": "[encoded data removed]",
      "text/plain": [
       "<Figure size 432x288 with 1 Axes>"
      ]
     },
     "metadata": {
      "needs_background": "light"
     },
     "output_type": "display_data"
    }
   ],
   "source": [
    "plt.scatter(data_raw['sc_h'], data_raw['price_range'], alpha=0.4)\n",
    "pass"
   ]
  },
  {
   "cell_type": "markdown",
   "id": "652c96e5",
   "metadata": {},
   "source": [
    "Выбросов нет"
   ]
  },
  {
   "cell_type": "code",
   "execution_count": 33,
   "id": "c533cc71",
   "metadata": {},
   "outputs": [
    {
     "data": {
      "image/png": "[encoded data removed]",
      "text/plain": [
       "<Figure size 432x288 with 1 Axes>"
      ]
     },
     "metadata": {
      "needs_background": "light"
     },
     "output_type": "display_data"
    }
   ],
   "source": [
    "plt.scatter(data_raw['sc_w'], data_raw['price_range'], alpha=0.4)\n",
    "pass"
   ]
  },
  {
   "cell_type": "markdown",
   "id": "2748cf9e",
   "metadata": {},
   "source": [
    "Выбросов нет"
   ]
  },
  {
   "cell_type": "code",
   "execution_count": 34,
   "id": "11f14bbd",
   "metadata": {},
   "outputs": [
    {
     "data": {
      "image/png": "[encoded data removed]",
      "text/plain": [
       "<Figure size 432x288 with 1 Axes>"
      ]
     },
     "metadata": {
      "needs_background": "light"
     },
     "output_type": "display_data"
    }
   ],
   "source": [
    "plt.scatter(data_raw['talk_time'], data_raw['price_range'], alpha=0.4)\n",
    "pass"
   ]
  },
  {
   "cell_type": "code",
   "execution_count": 35,
   "id": "9e5db30c",
   "metadata": {},
   "outputs": [
    {
     "data": {
      "text/plain": [
       "0.005     2.0\n",
       "0.010     2.0\n",
       "0.050     3.0\n",
       "0.100     4.0\n",
       "0.500    11.0\n",
       "0.900    19.0\n",
       "0.950    20.0\n",
       "0.990    20.0\n",
       "0.995    20.0\n",
       "Name: talk_time, dtype: float64"
      ]
     },
     "execution_count": 35,
     "metadata": {},
     "output_type": "execute_result"
    }
   ],
   "source": [
    "data_raw['talk_time'].quantile([0.005,.01,.05,.1,.5,.9,.95,.99,.995])"
   ]
  },
  {
   "cell_type": "markdown",
   "id": "bb785ca5",
   "metadata": {},
   "source": [
    "Выбросы есть"
   ]
  },
  {
   "cell_type": "code",
   "execution_count": 36,
   "id": "630be653",
   "metadata": {},
   "outputs": [
    {
     "data": {
      "image/png": "[encoded data removed]",
      "text/plain": [
       "<Figure size 432x288 with 1 Axes>"
      ]
     },
     "metadata": {
      "needs_background": "light"
     },
     "output_type": "display_data"
    }
   ],
   "source": [
    "plt.scatter(data_raw['three_g'], data_raw['price_range'], alpha=0.4)\n",
    "pass"
   ]
  },
  {
   "cell_type": "markdown",
   "id": "102c0b8d",
   "metadata": {},
   "source": [
    "Выбросов нет"
   ]
  },
  {
   "cell_type": "code",
   "execution_count": 37,
   "id": "d28af58a",
   "metadata": {},
   "outputs": [
    {
     "data": {
      "image/png": "[encoded data removed]",
      "text/plain": [
       "<Figure size 432x288 with 1 Axes>"
      ]
     },
     "metadata": {
      "needs_background": "light"
     },
     "output_type": "display_data"
    }
   ],
   "source": [
    "plt.scatter(data_raw['touch_screen'], data_raw['price_range'], alpha=0.4)\n",
    "pass"
   ]
  },
  {
   "cell_type": "markdown",
   "id": "6a8a0ec6",
   "metadata": {},
   "source": [
    "Выбросов нет"
   ]
  },
  {
   "cell_type": "code",
   "execution_count": 38,
   "id": "b2efc236",
   "metadata": {},
   "outputs": [
    {
     "data": {
      "image/png": "[encoded data removed]",
      "text/plain": [
       "<Figure size 432x288 with 1 Axes>"
      ]
     },
     "metadata": {
      "needs_background": "light"
     },
     "output_type": "display_data"
    }
   ],
   "source": [
    "plt.scatter(data_raw['wifi'], data_raw['price_range'], alpha=0.4)\n",
    "pass"
   ]
  },
  {
   "cell_type": "markdown",
   "id": "d503eebe",
   "metadata": {},
   "source": [
    "Выбросов нет"
   ]
  },
  {
   "cell_type": "markdown",
   "id": "2221203a",
   "metadata": {},
   "source": [
    "Удалим все строки таблицы, в которых признаки с выбросами выходят за пределы квантилей $0.005$, $0.995$."
   ]
  },
  {
   "cell_type": "code",
   "execution_count": 39,
   "id": "da4ab4ca",
   "metadata": {},
   "outputs": [
    {
     "data": {
      "text/plain": [
       "(2879, 21)"
      ]
     },
     "execution_count": 39,
     "metadata": {},
     "output_type": "execute_result"
    }
   ],
   "source": [
    "rows_to_drop = data_raw[\n",
    "    (data_raw['battery_power'] < data_raw['battery_power'].quantile(0.005)) | (data_raw['battery_power'] > data_raw['battery_power'].quantile(0.995)) | \n",
    "    (data_raw['clock_speed']  < data_raw['clock_speed' ].quantile(0.005)) | (data_raw['clock_speed']  > data_raw['clock_speed' ].quantile(0.995)) | \n",
    "    (data_raw['fc']  < data_raw['fc' ].quantile(0.005)) | (data_raw['fc']  > data_raw['fc' ].quantile(0.995)) |\n",
    "    (data_raw['int_memory']  < data_raw['int_memory' ].quantile(0.005)) | (data_raw['int_memory']  > data_raw['int_memory' ].quantile(0.995)) | \n",
    "    (data_raw['m_dep']  < data_raw['m_dep' ].quantile(0.005)) | (data_raw['m_dep']  > data_raw['m_dep' ].quantile(0.995)) |\n",
    "    (data_raw['mobile_wt']  < data_raw['mobile_wt' ].quantile(0.005)) | (data_raw['mobile_wt']  > data_raw['mobile_wt' ].quantile(0.995)) | \n",
    "    (data_raw['pc']  < data_raw['pc' ].quantile(0.005)) | (data_raw['pc']  > data_raw['pc' ].quantile(0.995)) |\n",
    "    (data_raw['px_width']  < data_raw['px_width' ].quantile(0.005)) | (data_raw['px_width']  > data_raw['px_width' ].quantile(0.995)) | \n",
    "    (data_raw['ram']  < data_raw['ram' ].quantile(0.005)) | (data_raw['ram']  > data_raw['ram' ].quantile(0.995)) |\n",
    "    (data_raw['talk_time']  < data_raw['talk_time' ].quantile(0.005)) | (data_raw['talk_time']  > data_raw['talk_time' ].quantile(0.995))].index\n",
    "data = data_raw.drop(rows_to_drop)\n",
    "data.shape"
   ]
  },
  {
   "cell_type": "code",
   "execution_count": 40,
   "id": "5f1cd807",
   "metadata": {},
   "outputs": [
    {
     "data": {
      "text/plain": [
       "Int64Index([  18,   24,   43,   61,   69,  152,  167,  185,  193,  219,\n",
       "            ...\n",
       "            2739, 2754, 2772, 2780, 2806, 2875, 2879, 2896, 2914, 2944],\n",
       "           dtype='int64', length=121)"
      ]
     },
     "execution_count": 40,
     "metadata": {},
     "output_type": "execute_result"
    }
   ],
   "source": [
    "rows_to_drop"
   ]
  },
  {
   "cell_type": "markdown",
   "id": "da2ed4dd",
   "metadata": {},
   "source": [
    " ## 2. Визуализация данных и вычисление основных характеристик"
   ]
  },
  {
   "cell_type": "code",
   "execution_count": 41,
   "id": "90c28beb",
   "metadata": {},
   "outputs": [
    {
     "data": {
      "text/html": [
       "<div>\n",
       "<style scoped>\n",
       "    .dataframe tbody tr th:only-of-type {\n",
       "        vertical-align: middle;\n",
       "    }\n",
       "\n",
       "    .dataframe tbody tr th {\n",
       "        vertical-align: top;\n",
       "    }\n",
       "\n",
       "    .dataframe thead th {\n",
       "        text-align: right;\n",
       "    }\n",
       "</style>\n",
       "<table border=\"1\" class=\"dataframe\">\n",
       "  <thead>\n",
       "    <tr style=\"text-align: right;\">\n",
       "      <th></th>\n",
       "      <th>battery_power</th>\n",
       "      <th>blue</th>\n",
       "      <th>clock_speed</th>\n",
       "      <th>dual_sim</th>\n",
       "      <th>fc</th>\n",
       "      <th>four_g</th>\n",
       "      <th>int_memory</th>\n",
       "      <th>m_dep</th>\n",
       "      <th>mobile_wt</th>\n",
       "      <th>n_cores</th>\n",
       "      <th>...</th>\n",
       "      <th>px_height</th>\n",
       "      <th>px_width</th>\n",
       "      <th>ram</th>\n",
       "      <th>sc_h</th>\n",
       "      <th>sc_w</th>\n",
       "      <th>talk_time</th>\n",
       "      <th>three_g</th>\n",
       "      <th>touch_screen</th>\n",
       "      <th>wifi</th>\n",
       "      <th>price_range</th>\n",
       "    </tr>\n",
       "  </thead>\n",
       "  <tbody>\n",
       "    <tr>\n",
       "      <th>count</th>\n",
       "      <td>2874.000000</td>\n",
       "      <td>2864.000000</td>\n",
       "      <td>2874.000000</td>\n",
       "      <td>2867.000000</td>\n",
       "      <td>2873.000000</td>\n",
       "      <td>2860.000000</td>\n",
       "      <td>2872.000000</td>\n",
       "      <td>2870.000000</td>\n",
       "      <td>2870.000000</td>\n",
       "      <td>2870.000000</td>\n",
       "      <td>...</td>\n",
       "      <td>2871.000000</td>\n",
       "      <td>2874.000000</td>\n",
       "      <td>2876.000000</td>\n",
       "      <td>2872.000000</td>\n",
       "      <td>2873.000000</td>\n",
       "      <td>2870.000000</td>\n",
       "      <td>2871.000000</td>\n",
       "      <td>2876.000000</td>\n",
       "      <td>2876.000000</td>\n",
       "      <td>2879.000000</td>\n",
       "    </tr>\n",
       "    <tr>\n",
       "      <th>mean</th>\n",
       "      <td>1238.826722</td>\n",
       "      <td>0.486034</td>\n",
       "      <td>1.522930</td>\n",
       "      <td>0.511336</td>\n",
       "      <td>4.300035</td>\n",
       "      <td>0.514336</td>\n",
       "      <td>32.466574</td>\n",
       "      <td>0.501429</td>\n",
       "      <td>140.709059</td>\n",
       "      <td>4.510453</td>\n",
       "      <td>...</td>\n",
       "      <td>643.615674</td>\n",
       "      <td>1247.704593</td>\n",
       "      <td>2135.609179</td>\n",
       "      <td>12.336351</td>\n",
       "      <td>5.743126</td>\n",
       "      <td>11.003833</td>\n",
       "      <td>0.756183</td>\n",
       "      <td>0.507650</td>\n",
       "      <td>0.512865</td>\n",
       "      <td>1.513025</td>\n",
       "    </tr>\n",
       "    <tr>\n",
       "      <th>std</th>\n",
       "      <td>439.068508</td>\n",
       "      <td>0.499892</td>\n",
       "      <td>0.821102</td>\n",
       "      <td>0.499959</td>\n",
       "      <td>4.354478</td>\n",
       "      <td>0.499882</td>\n",
       "      <td>18.187908</td>\n",
       "      <td>0.286092</td>\n",
       "      <td>35.359785</td>\n",
       "      <td>2.289076</td>\n",
       "      <td>...</td>\n",
       "      <td>444.805337</td>\n",
       "      <td>429.223234</td>\n",
       "      <td>1083.050846</td>\n",
       "      <td>4.210546</td>\n",
       "      <td>4.365940</td>\n",
       "      <td>5.433362</td>\n",
       "      <td>0.429459</td>\n",
       "      <td>0.500028</td>\n",
       "      <td>0.499921</td>\n",
       "      <td>1.122030</td>\n",
       "    </tr>\n",
       "    <tr>\n",
       "      <th>min</th>\n",
       "      <td>504.000000</td>\n",
       "      <td>0.000000</td>\n",
       "      <td>0.500000</td>\n",
       "      <td>0.000000</td>\n",
       "      <td>0.000000</td>\n",
       "      <td>0.000000</td>\n",
       "      <td>2.000000</td>\n",
       "      <td>0.100000</td>\n",
       "      <td>80.000000</td>\n",
       "      <td>1.000000</td>\n",
       "      <td>...</td>\n",
       "      <td>0.000000</td>\n",
       "      <td>507.000000</td>\n",
       "      <td>273.000000</td>\n",
       "      <td>5.000000</td>\n",
       "      <td>0.000000</td>\n",
       "      <td>2.000000</td>\n",
       "      <td>0.000000</td>\n",
       "      <td>0.000000</td>\n",
       "      <td>0.000000</td>\n",
       "      <td>0.000000</td>\n",
       "    </tr>\n",
       "    <tr>\n",
       "      <th>25%</th>\n",
       "      <td>850.000000</td>\n",
       "      <td>0.000000</td>\n",
       "      <td>0.700000</td>\n",
       "      <td>0.000000</td>\n",
       "      <td>1.000000</td>\n",
       "      <td>0.000000</td>\n",
       "      <td>16.000000</td>\n",
       "      <td>0.200000</td>\n",
       "      <td>109.000000</td>\n",
       "      <td>3.000000</td>\n",
       "      <td>...</td>\n",
       "      <td>280.000000</td>\n",
       "      <td>874.000000</td>\n",
       "      <td>1210.750000</td>\n",
       "      <td>9.000000</td>\n",
       "      <td>2.000000</td>\n",
       "      <td>6.000000</td>\n",
       "      <td>1.000000</td>\n",
       "      <td>0.000000</td>\n",
       "      <td>0.000000</td>\n",
       "      <td>0.500000</td>\n",
       "    </tr>\n",
       "    <tr>\n",
       "      <th>50%</th>\n",
       "      <td>1231.000000</td>\n",
       "      <td>0.000000</td>\n",
       "      <td>1.500000</td>\n",
       "      <td>1.000000</td>\n",
       "      <td>3.000000</td>\n",
       "      <td>1.000000</td>\n",
       "      <td>32.000000</td>\n",
       "      <td>0.500000</td>\n",
       "      <td>141.000000</td>\n",
       "      <td>4.000000</td>\n",
       "      <td>...</td>\n",
       "      <td>561.000000</td>\n",
       "      <td>1247.000000</td>\n",
       "      <td>2181.000000</td>\n",
       "      <td>12.000000</td>\n",
       "      <td>5.000000</td>\n",
       "      <td>11.000000</td>\n",
       "      <td>1.000000</td>\n",
       "      <td>1.000000</td>\n",
       "      <td>1.000000</td>\n",
       "      <td>2.000000</td>\n",
       "    </tr>\n",
       "    <tr>\n",
       "      <th>75%</th>\n",
       "      <td>1617.000000</td>\n",
       "      <td>1.000000</td>\n",
       "      <td>2.200000</td>\n",
       "      <td>1.000000</td>\n",
       "      <td>7.000000</td>\n",
       "      <td>1.000000</td>\n",
       "      <td>48.000000</td>\n",
       "      <td>0.700000</td>\n",
       "      <td>171.000000</td>\n",
       "      <td>7.000000</td>\n",
       "      <td>...</td>\n",
       "      <td>952.000000</td>\n",
       "      <td>1617.750000</td>\n",
       "      <td>3068.000000</td>\n",
       "      <td>16.000000</td>\n",
       "      <td>9.000000</td>\n",
       "      <td>16.000000</td>\n",
       "      <td>1.000000</td>\n",
       "      <td>1.000000</td>\n",
       "      <td>1.000000</td>\n",
       "      <td>3.000000</td>\n",
       "    </tr>\n",
       "    <tr>\n",
       "      <th>max</th>\n",
       "      <td>1994.000000</td>\n",
       "      <td>1.000000</td>\n",
       "      <td>3.000000</td>\n",
       "      <td>1.000000</td>\n",
       "      <td>18.000000</td>\n",
       "      <td>1.000000</td>\n",
       "      <td>64.000000</td>\n",
       "      <td>1.000000</td>\n",
       "      <td>200.000000</td>\n",
       "      <td>8.000000</td>\n",
       "      <td>...</td>\n",
       "      <td>1960.000000</td>\n",
       "      <td>1992.000000</td>\n",
       "      <td>3970.000000</td>\n",
       "      <td>19.000000</td>\n",
       "      <td>18.000000</td>\n",
       "      <td>20.000000</td>\n",
       "      <td>1.000000</td>\n",
       "      <td>1.000000</td>\n",
       "      <td>1.000000</td>\n",
       "      <td>3.000000</td>\n",
       "    </tr>\n",
       "  </tbody>\n",
       "</table>\n",
       "<p>8 rows × 21 columns</p>\n",
       "</div>"
      ],
      "text/plain": [
       "       battery_power         blue  clock_speed     dual_sim           fc  \\\n",
       "count    2874.000000  2864.000000  2874.000000  2867.000000  2873.000000   \n",
       "mean     1238.826722     0.486034     1.522930     0.511336     4.300035   \n",
       "std       439.068508     0.499892     0.821102     0.499959     4.354478   \n",
       "min       504.000000     0.000000     0.500000     0.000000     0.000000   \n",
       "25%       850.000000     0.000000     0.700000     0.000000     1.000000   \n",
       "50%      1231.000000     0.000000     1.500000     1.000000     3.000000   \n",
       "75%      1617.000000     1.000000     2.200000     1.000000     7.000000   \n",
       "max      1994.000000     1.000000     3.000000     1.000000    18.000000   \n",
       "\n",
       "            four_g   int_memory        m_dep    mobile_wt      n_cores  ...  \\\n",
       "count  2860.000000  2872.000000  2870.000000  2870.000000  2870.000000  ...   \n",
       "mean      0.514336    32.466574     0.501429   140.709059     4.510453  ...   \n",
       "std       0.499882    18.187908     0.286092    35.359785     2.289076  ...   \n",
       "min       0.000000     2.000000     0.100000    80.000000     1.000000  ...   \n",
       "25%       0.000000    16.000000     0.200000   109.000000     3.000000  ...   \n",
       "50%       1.000000    32.000000     0.500000   141.000000     4.000000  ...   \n",
       "75%       1.000000    48.000000     0.700000   171.000000     7.000000  ...   \n",
       "max       1.000000    64.000000     1.000000   200.000000     8.000000  ...   \n",
       "\n",
       "         px_height     px_width          ram         sc_h         sc_w  \\\n",
       "count  2871.000000  2874.000000  2876.000000  2872.000000  2873.000000   \n",
       "mean    643.615674  1247.704593  2135.609179    12.336351     5.743126   \n",
       "std     444.805337   429.223234  1083.050846     4.210546     4.365940   \n",
       "min       0.000000   507.000000   273.000000     5.000000     0.000000   \n",
       "25%     280.000000   874.000000  1210.750000     9.000000     2.000000   \n",
       "50%     561.000000  1247.000000  2181.000000    12.000000     5.000000   \n",
       "75%     952.000000  1617.750000  3068.000000    16.000000     9.000000   \n",
       "max    1960.000000  1992.000000  3970.000000    19.000000    18.000000   \n",
       "\n",
       "         talk_time      three_g  touch_screen         wifi  price_range  \n",
       "count  2870.000000  2871.000000   2876.000000  2876.000000  2879.000000  \n",
       "mean     11.003833     0.756183      0.507650     0.512865     1.513025  \n",
       "std       5.433362     0.429459      0.500028     0.499921     1.122030  \n",
       "min       2.000000     0.000000      0.000000     0.000000     0.000000  \n",
       "25%       6.000000     1.000000      0.000000     0.000000     0.500000  \n",
       "50%      11.000000     1.000000      1.000000     1.000000     2.000000  \n",
       "75%      16.000000     1.000000      1.000000     1.000000     3.000000  \n",
       "max      20.000000     1.000000      1.000000     1.000000     3.000000  \n",
       "\n",
       "[8 rows x 21 columns]"
      ]
     },
     "execution_count": 41,
     "metadata": {},
     "output_type": "execute_result"
    }
   ],
   "source": [
    "data.describe()"
   ]
  },
  {
   "cell_type": "markdown",
   "id": "744fdfa5",
   "metadata": {},
   "source": [
    "В описании видим:\n",
    "\n",
    "1. count - количество значений для каждого признака. Из-за пропусков в таблице все значения различны. Минимальное значение у dual_sim = 2867, число пропусков = 12, что составлеят 0,4% от общего числа.\n",
    "2. mean - среднее значение\n",
    "3. std - стандартное отклонение\n",
    "4. min - минимальное значение \n",
    "5. 25% - первый квартиль\n",
    "6. 50% - медиана\n",
    "7. 75% - третий квартиль\n",
    "8. max - максимальное значение (заметим подозрительно большие значения - выбросы, с которыми будм бороться в дальнейшем)\n",
    "\n",
    "Рассмотрим некоторые из характеристик"
   ]
  },
  {
   "cell_type": "code",
   "execution_count": 42,
   "id": "1d7080ad",
   "metadata": {},
   "outputs": [
    {
     "data": {
      "image/png": "[encoded data removed]",
      "text/plain": [
       "<Figure size 360x360 with 1 Axes>"
      ]
     },
     "metadata": {
      "needs_background": "light"
     },
     "output_type": "display_data"
    }
   ],
   "source": [
    "sns.displot(data['dual_sim'], bins=2)\n",
    "plt.grid()\n",
    "pass"
   ]
  },
  {
   "cell_type": "markdown",
   "id": "02640e2a",
   "metadata": {},
   "source": [
    "На гистограмме видно распределение по 2 категориям: наличие и отсутствие поддержки 2 симкарт. Среднее значение = 0.511336, отклонение = 0.499959. Можно сделать вывод, что чуть больше половины моделей имеет 2 симкарты."
   ]
  },
  {
   "cell_type": "code",
   "execution_count": 43,
   "id": "a36a6a48",
   "metadata": {},
   "outputs": [
    {
     "data": {
      "image/png": "[encoded data removed]",
      "text/plain": [
       "<Figure size 360x360 with 1 Axes>"
      ]
     },
     "metadata": {
      "needs_background": "light"
     },
     "output_type": "display_data"
    }
   ],
   "source": [
    "sns.displot(data['touch_screen'], bins=2)\n",
    "plt.grid()\n",
    "pass"
   ]
  },
  {
   "cell_type": "markdown",
   "id": "aa55748b",
   "metadata": {},
   "source": [
    "Видим нормальное распределение по категориям: наличие и отсутствие сенсорного экрана. При среднем = 0.507650 и отклонении = 0.500028, то есть, число моделей с сенсорным экраном и обычным примерно равны."
   ]
  },
  {
   "cell_type": "code",
   "execution_count": 44,
   "id": "ad2bcf15",
   "metadata": {},
   "outputs": [
    {
     "data": {
      "image/png": "[encoded data removed]",
      "text/plain": [
       "<Figure size 360x360 with 1 Axes>"
      ]
     },
     "metadata": {
      "needs_background": "light"
     },
     "output_type": "display_data"
    }
   ],
   "source": [
    "sns.displot(data['ram'], bins=20)\n",
    "plt.grid()\n",
    "pass"
   ]
  },
  {
   "cell_type": "markdown",
   "id": "6c81aa00",
   "metadata": {},
   "source": [
    "Распределение оперативной памяти при среднем = 2136 и отклонении = 1083. При этом 25% = 1210, 50% = 2181, 75% = 3068. \n",
    "\n",
    "Вычислим матрицу корреляции"
   ]
  },
  {
   "cell_type": "code",
   "execution_count": 45,
   "id": "e797d441",
   "metadata": {},
   "outputs": [
    {
     "data": {
      "text/html": [
       "<div>\n",
       "<style scoped>\n",
       "    .dataframe tbody tr th:only-of-type {\n",
       "        vertical-align: middle;\n",
       "    }\n",
       "\n",
       "    .dataframe tbody tr th {\n",
       "        vertical-align: top;\n",
       "    }\n",
       "\n",
       "    .dataframe thead th {\n",
       "        text-align: right;\n",
       "    }\n",
       "</style>\n",
       "<table border=\"1\" class=\"dataframe\">\n",
       "  <thead>\n",
       "    <tr style=\"text-align: right;\">\n",
       "      <th></th>\n",
       "      <th>battery_power</th>\n",
       "      <th>blue</th>\n",
       "      <th>clock_speed</th>\n",
       "      <th>dual_sim</th>\n",
       "      <th>fc</th>\n",
       "      <th>four_g</th>\n",
       "      <th>int_memory</th>\n",
       "      <th>m_dep</th>\n",
       "      <th>mobile_wt</th>\n",
       "      <th>n_cores</th>\n",
       "      <th>...</th>\n",
       "      <th>px_height</th>\n",
       "      <th>px_width</th>\n",
       "      <th>ram</th>\n",
       "      <th>sc_h</th>\n",
       "      <th>sc_w</th>\n",
       "      <th>talk_time</th>\n",
       "      <th>three_g</th>\n",
       "      <th>touch_screen</th>\n",
       "      <th>wifi</th>\n",
       "      <th>price_range</th>\n",
       "    </tr>\n",
       "  </thead>\n",
       "  <tbody>\n",
       "    <tr>\n",
       "      <th>battery_power</th>\n",
       "      <td>1.000000</td>\n",
       "      <td>0.011998</td>\n",
       "      <td>0.027703</td>\n",
       "      <td>-0.029329</td>\n",
       "      <td>0.045006</td>\n",
       "      <td>0.027099</td>\n",
       "      <td>-0.004363</td>\n",
       "      <td>0.036367</td>\n",
       "      <td>0.009955</td>\n",
       "      <td>-0.030992</td>\n",
       "      <td>...</td>\n",
       "      <td>0.016592</td>\n",
       "      <td>-0.002324</td>\n",
       "      <td>0.008383</td>\n",
       "      <td>-0.038116</td>\n",
       "      <td>-0.033667</td>\n",
       "      <td>0.052359</td>\n",
       "      <td>0.008346</td>\n",
       "      <td>-0.011229</td>\n",
       "      <td>0.005474</td>\n",
       "      <td>0.209181</td>\n",
       "    </tr>\n",
       "    <tr>\n",
       "      <th>blue</th>\n",
       "      <td>0.011998</td>\n",
       "      <td>1.000000</td>\n",
       "      <td>0.038897</td>\n",
       "      <td>0.026642</td>\n",
       "      <td>0.012370</td>\n",
       "      <td>0.005286</td>\n",
       "      <td>0.054356</td>\n",
       "      <td>0.006894</td>\n",
       "      <td>-0.024746</td>\n",
       "      <td>0.042086</td>\n",
       "      <td>...</td>\n",
       "      <td>-0.004650</td>\n",
       "      <td>-0.036353</td>\n",
       "      <td>0.031686</td>\n",
       "      <td>-0.012713</td>\n",
       "      <td>0.009608</td>\n",
       "      <td>0.002202</td>\n",
       "      <td>-0.052221</td>\n",
       "      <td>0.005661</td>\n",
       "      <td>-0.024131</td>\n",
       "      <td>0.023076</td>\n",
       "    </tr>\n",
       "    <tr>\n",
       "      <th>clock_speed</th>\n",
       "      <td>0.027703</td>\n",
       "      <td>0.038897</td>\n",
       "      <td>1.000000</td>\n",
       "      <td>0.021106</td>\n",
       "      <td>0.015256</td>\n",
       "      <td>-0.037968</td>\n",
       "      <td>0.011620</td>\n",
       "      <td>-0.024136</td>\n",
       "      <td>0.017319</td>\n",
       "      <td>-0.014519</td>\n",
       "      <td>...</td>\n",
       "      <td>-0.019039</td>\n",
       "      <td>-0.006861</td>\n",
       "      <td>0.012411</td>\n",
       "      <td>-0.011283</td>\n",
       "      <td>-0.002629</td>\n",
       "      <td>-0.013898</td>\n",
       "      <td>-0.047172</td>\n",
       "      <td>0.023502</td>\n",
       "      <td>-0.034809</td>\n",
       "      <td>0.002343</td>\n",
       "    </tr>\n",
       "    <tr>\n",
       "      <th>dual_sim</th>\n",
       "      <td>-0.029329</td>\n",
       "      <td>0.026642</td>\n",
       "      <td>0.021106</td>\n",
       "      <td>1.000000</td>\n",
       "      <td>-0.028922</td>\n",
       "      <td>0.002153</td>\n",
       "      <td>-0.012233</td>\n",
       "      <td>-0.018826</td>\n",
       "      <td>-0.003636</td>\n",
       "      <td>-0.019953</td>\n",
       "      <td>...</td>\n",
       "      <td>-0.022964</td>\n",
       "      <td>0.007001</td>\n",
       "      <td>0.046006</td>\n",
       "      <td>-0.018242</td>\n",
       "      <td>-0.017694</td>\n",
       "      <td>-0.037101</td>\n",
       "      <td>-0.007899</td>\n",
       "      <td>-0.004523</td>\n",
       "      <td>0.039253</td>\n",
       "      <td>0.024439</td>\n",
       "    </tr>\n",
       "    <tr>\n",
       "      <th>fc</th>\n",
       "      <td>0.045006</td>\n",
       "      <td>0.012370</td>\n",
       "      <td>0.015256</td>\n",
       "      <td>-0.028922</td>\n",
       "      <td>1.000000</td>\n",
       "      <td>-0.007077</td>\n",
       "      <td>-0.028808</td>\n",
       "      <td>-0.001025</td>\n",
       "      <td>0.017778</td>\n",
       "      <td>-0.016395</td>\n",
       "      <td>...</td>\n",
       "      <td>-0.008213</td>\n",
       "      <td>-0.015686</td>\n",
       "      <td>0.003936</td>\n",
       "      <td>-0.013279</td>\n",
       "      <td>-0.005489</td>\n",
       "      <td>-0.009514</td>\n",
       "      <td>0.012990</td>\n",
       "      <td>-0.002362</td>\n",
       "      <td>0.016641</td>\n",
       "      <td>0.014633</td>\n",
       "    </tr>\n",
       "    <tr>\n",
       "      <th>four_g</th>\n",
       "      <td>0.027099</td>\n",
       "      <td>0.005286</td>\n",
       "      <td>-0.037968</td>\n",
       "      <td>0.002153</td>\n",
       "      <td>-0.007077</td>\n",
       "      <td>1.000000</td>\n",
       "      <td>0.009793</td>\n",
       "      <td>-0.015670</td>\n",
       "      <td>-0.020902</td>\n",
       "      <td>-0.027199</td>\n",
       "      <td>...</td>\n",
       "      <td>-0.026712</td>\n",
       "      <td>0.012828</td>\n",
       "      <td>-0.001045</td>\n",
       "      <td>0.027707</td>\n",
       "      <td>0.043867</td>\n",
       "      <td>-0.052692</td>\n",
       "      <td>0.585862</td>\n",
       "      <td>0.018748</td>\n",
       "      <td>-0.011024</td>\n",
       "      <td>0.008688</td>\n",
       "    </tr>\n",
       "    <tr>\n",
       "      <th>int_memory</th>\n",
       "      <td>-0.004363</td>\n",
       "      <td>0.054356</td>\n",
       "      <td>0.011620</td>\n",
       "      <td>-0.012233</td>\n",
       "      <td>-0.028808</td>\n",
       "      <td>0.009793</td>\n",
       "      <td>1.000000</td>\n",
       "      <td>0.015662</td>\n",
       "      <td>-0.030230</td>\n",
       "      <td>-0.018749</td>\n",
       "      <td>...</td>\n",
       "      <td>0.008251</td>\n",
       "      <td>-0.003289</td>\n",
       "      <td>0.030967</td>\n",
       "      <td>0.044676</td>\n",
       "      <td>0.024482</td>\n",
       "      <td>0.006761</td>\n",
       "      <td>-0.018180</td>\n",
       "      <td>-0.008836</td>\n",
       "      <td>0.009111</td>\n",
       "      <td>0.040132</td>\n",
       "    </tr>\n",
       "    <tr>\n",
       "      <th>m_dep</th>\n",
       "      <td>0.036367</td>\n",
       "      <td>0.006894</td>\n",
       "      <td>-0.024136</td>\n",
       "      <td>-0.018826</td>\n",
       "      <td>-0.001025</td>\n",
       "      <td>-0.015670</td>\n",
       "      <td>0.015662</td>\n",
       "      <td>1.000000</td>\n",
       "      <td>0.014780</td>\n",
       "      <td>-0.013536</td>\n",
       "      <td>...</td>\n",
       "      <td>0.003548</td>\n",
       "      <td>0.020210</td>\n",
       "      <td>-0.003904</td>\n",
       "      <td>-0.023769</td>\n",
       "      <td>-0.014319</td>\n",
       "      <td>0.005794</td>\n",
       "      <td>-0.033816</td>\n",
       "      <td>0.004184</td>\n",
       "      <td>-0.035118</td>\n",
       "      <td>0.004452</td>\n",
       "    </tr>\n",
       "    <tr>\n",
       "      <th>mobile_wt</th>\n",
       "      <td>0.009955</td>\n",
       "      <td>-0.024746</td>\n",
       "      <td>0.017319</td>\n",
       "      <td>-0.003636</td>\n",
       "      <td>0.017778</td>\n",
       "      <td>-0.020902</td>\n",
       "      <td>-0.030230</td>\n",
       "      <td>0.014780</td>\n",
       "      <td>1.000000</td>\n",
       "      <td>-0.027086</td>\n",
       "      <td>...</td>\n",
       "      <td>0.004664</td>\n",
       "      <td>-0.001916</td>\n",
       "      <td>0.009560</td>\n",
       "      <td>-0.042164</td>\n",
       "      <td>-0.020148</td>\n",
       "      <td>-0.002075</td>\n",
       "      <td>0.001926</td>\n",
       "      <td>-0.025195</td>\n",
       "      <td>0.003934</td>\n",
       "      <td>-0.022229</td>\n",
       "    </tr>\n",
       "    <tr>\n",
       "      <th>n_cores</th>\n",
       "      <td>-0.030992</td>\n",
       "      <td>0.042086</td>\n",
       "      <td>-0.014519</td>\n",
       "      <td>-0.019953</td>\n",
       "      <td>-0.016395</td>\n",
       "      <td>-0.027199</td>\n",
       "      <td>-0.018749</td>\n",
       "      <td>-0.013536</td>\n",
       "      <td>-0.027086</td>\n",
       "      <td>1.000000</td>\n",
       "      <td>...</td>\n",
       "      <td>0.000687</td>\n",
       "      <td>0.030164</td>\n",
       "      <td>0.022090</td>\n",
       "      <td>0.006798</td>\n",
       "      <td>0.033627</td>\n",
       "      <td>0.000676</td>\n",
       "      <td>-0.019395</td>\n",
       "      <td>0.017690</td>\n",
       "      <td>-0.014078</td>\n",
       "      <td>0.020561</td>\n",
       "    </tr>\n",
       "    <tr>\n",
       "      <th>pc</th>\n",
       "      <td>0.046093</td>\n",
       "      <td>-0.009201</td>\n",
       "      <td>0.016166</td>\n",
       "      <td>-0.019974</td>\n",
       "      <td>0.644199</td>\n",
       "      <td>0.017002</td>\n",
       "      <td>-0.022054</td>\n",
       "      <td>0.015452</td>\n",
       "      <td>0.021947</td>\n",
       "      <td>-0.010249</td>\n",
       "      <td>...</td>\n",
       "      <td>-0.015373</td>\n",
       "      <td>-0.013380</td>\n",
       "      <td>0.026074</td>\n",
       "      <td>0.019197</td>\n",
       "      <td>-0.004978</td>\n",
       "      <td>0.019149</td>\n",
       "      <td>0.009959</td>\n",
       "      <td>-0.008281</td>\n",
       "      <td>0.004868</td>\n",
       "      <td>0.031783</td>\n",
       "    </tr>\n",
       "    <tr>\n",
       "      <th>px_height</th>\n",
       "      <td>0.016592</td>\n",
       "      <td>-0.004650</td>\n",
       "      <td>-0.019039</td>\n",
       "      <td>-0.022964</td>\n",
       "      <td>-0.008213</td>\n",
       "      <td>-0.026712</td>\n",
       "      <td>0.008251</td>\n",
       "      <td>0.003548</td>\n",
       "      <td>0.004664</td>\n",
       "      <td>0.000687</td>\n",
       "      <td>...</td>\n",
       "      <td>1.000000</td>\n",
       "      <td>0.503117</td>\n",
       "      <td>-0.024825</td>\n",
       "      <td>0.053234</td>\n",
       "      <td>0.023741</td>\n",
       "      <td>-0.012562</td>\n",
       "      <td>-0.032026</td>\n",
       "      <td>0.022619</td>\n",
       "      <td>0.042718</td>\n",
       "      <td>0.148321</td>\n",
       "    </tr>\n",
       "    <tr>\n",
       "      <th>px_width</th>\n",
       "      <td>-0.002324</td>\n",
       "      <td>-0.036353</td>\n",
       "      <td>-0.006861</td>\n",
       "      <td>0.007001</td>\n",
       "      <td>-0.015686</td>\n",
       "      <td>0.012828</td>\n",
       "      <td>-0.003289</td>\n",
       "      <td>0.020210</td>\n",
       "      <td>-0.001916</td>\n",
       "      <td>0.030164</td>\n",
       "      <td>...</td>\n",
       "      <td>0.503117</td>\n",
       "      <td>1.000000</td>\n",
       "      <td>-0.001009</td>\n",
       "      <td>0.021729</td>\n",
       "      <td>0.027502</td>\n",
       "      <td>0.006370</td>\n",
       "      <td>0.003641</td>\n",
       "      <td>-0.005010</td>\n",
       "      <td>0.031676</td>\n",
       "      <td>0.162155</td>\n",
       "    </tr>\n",
       "    <tr>\n",
       "      <th>ram</th>\n",
       "      <td>0.008383</td>\n",
       "      <td>0.031686</td>\n",
       "      <td>0.012411</td>\n",
       "      <td>0.046006</td>\n",
       "      <td>0.003936</td>\n",
       "      <td>-0.001045</td>\n",
       "      <td>0.030967</td>\n",
       "      <td>-0.003904</td>\n",
       "      <td>0.009560</td>\n",
       "      <td>0.022090</td>\n",
       "      <td>...</td>\n",
       "      <td>-0.024825</td>\n",
       "      <td>-0.001009</td>\n",
       "      <td>1.000000</td>\n",
       "      <td>0.015201</td>\n",
       "      <td>0.053820</td>\n",
       "      <td>0.027772</td>\n",
       "      <td>0.011291</td>\n",
       "      <td>-0.031687</td>\n",
       "      <td>0.020181</td>\n",
       "      <td>0.917020</td>\n",
       "    </tr>\n",
       "    <tr>\n",
       "      <th>sc_h</th>\n",
       "      <td>-0.038116</td>\n",
       "      <td>-0.012713</td>\n",
       "      <td>-0.011283</td>\n",
       "      <td>-0.018242</td>\n",
       "      <td>-0.013279</td>\n",
       "      <td>0.027707</td>\n",
       "      <td>0.044676</td>\n",
       "      <td>-0.023769</td>\n",
       "      <td>-0.042164</td>\n",
       "      <td>0.006798</td>\n",
       "      <td>...</td>\n",
       "      <td>0.053234</td>\n",
       "      <td>0.021729</td>\n",
       "      <td>0.015201</td>\n",
       "      <td>1.000000</td>\n",
       "      <td>0.498915</td>\n",
       "      <td>-0.020141</td>\n",
       "      <td>0.021916</td>\n",
       "      <td>-0.026657</td>\n",
       "      <td>0.002221</td>\n",
       "      <td>0.021676</td>\n",
       "    </tr>\n",
       "    <tr>\n",
       "      <th>sc_w</th>\n",
       "      <td>-0.033667</td>\n",
       "      <td>0.009608</td>\n",
       "      <td>-0.002629</td>\n",
       "      <td>-0.017694</td>\n",
       "      <td>-0.005489</td>\n",
       "      <td>0.043867</td>\n",
       "      <td>0.024482</td>\n",
       "      <td>-0.014319</td>\n",
       "      <td>-0.020148</td>\n",
       "      <td>0.033627</td>\n",
       "      <td>...</td>\n",
       "      <td>0.023741</td>\n",
       "      <td>0.027502</td>\n",
       "      <td>0.053820</td>\n",
       "      <td>0.498915</td>\n",
       "      <td>1.000000</td>\n",
       "      <td>-0.026077</td>\n",
       "      <td>0.028855</td>\n",
       "      <td>0.000906</td>\n",
       "      <td>0.020028</td>\n",
       "      <td>0.051120</td>\n",
       "    </tr>\n",
       "    <tr>\n",
       "      <th>talk_time</th>\n",
       "      <td>0.052359</td>\n",
       "      <td>0.002202</td>\n",
       "      <td>-0.013898</td>\n",
       "      <td>-0.037101</td>\n",
       "      <td>-0.009514</td>\n",
       "      <td>-0.052692</td>\n",
       "      <td>0.006761</td>\n",
       "      <td>0.005794</td>\n",
       "      <td>-0.002075</td>\n",
       "      <td>0.000676</td>\n",
       "      <td>...</td>\n",
       "      <td>-0.012562</td>\n",
       "      <td>0.006370</td>\n",
       "      <td>0.027772</td>\n",
       "      <td>-0.020141</td>\n",
       "      <td>-0.026077</td>\n",
       "      <td>1.000000</td>\n",
       "      <td>-0.047297</td>\n",
       "      <td>0.014182</td>\n",
       "      <td>-0.020692</td>\n",
       "      <td>0.035786</td>\n",
       "    </tr>\n",
       "    <tr>\n",
       "      <th>three_g</th>\n",
       "      <td>0.008346</td>\n",
       "      <td>-0.052221</td>\n",
       "      <td>-0.047172</td>\n",
       "      <td>-0.007899</td>\n",
       "      <td>0.012990</td>\n",
       "      <td>0.585862</td>\n",
       "      <td>-0.018180</td>\n",
       "      <td>-0.033816</td>\n",
       "      <td>0.001926</td>\n",
       "      <td>-0.019395</td>\n",
       "      <td>...</td>\n",
       "      <td>-0.032026</td>\n",
       "      <td>0.003641</td>\n",
       "      <td>0.011291</td>\n",
       "      <td>0.021916</td>\n",
       "      <td>0.028855</td>\n",
       "      <td>-0.047297</td>\n",
       "      <td>1.000000</td>\n",
       "      <td>0.003451</td>\n",
       "      <td>0.006149</td>\n",
       "      <td>0.019809</td>\n",
       "    </tr>\n",
       "    <tr>\n",
       "      <th>touch_screen</th>\n",
       "      <td>-0.011229</td>\n",
       "      <td>0.005661</td>\n",
       "      <td>0.023502</td>\n",
       "      <td>-0.004523</td>\n",
       "      <td>-0.002362</td>\n",
       "      <td>0.018748</td>\n",
       "      <td>-0.008836</td>\n",
       "      <td>0.004184</td>\n",
       "      <td>-0.025195</td>\n",
       "      <td>0.017690</td>\n",
       "      <td>...</td>\n",
       "      <td>0.022619</td>\n",
       "      <td>-0.005010</td>\n",
       "      <td>-0.031687</td>\n",
       "      <td>-0.026657</td>\n",
       "      <td>0.000906</td>\n",
       "      <td>0.014182</td>\n",
       "      <td>0.003451</td>\n",
       "      <td>1.000000</td>\n",
       "      <td>0.019451</td>\n",
       "      <td>-0.034883</td>\n",
       "    </tr>\n",
       "    <tr>\n",
       "      <th>wifi</th>\n",
       "      <td>0.005474</td>\n",
       "      <td>-0.024131</td>\n",
       "      <td>-0.034809</td>\n",
       "      <td>0.039253</td>\n",
       "      <td>0.016641</td>\n",
       "      <td>-0.011024</td>\n",
       "      <td>0.009111</td>\n",
       "      <td>-0.035118</td>\n",
       "      <td>0.003934</td>\n",
       "      <td>-0.014078</td>\n",
       "      <td>...</td>\n",
       "      <td>0.042718</td>\n",
       "      <td>0.031676</td>\n",
       "      <td>0.020181</td>\n",
       "      <td>0.002221</td>\n",
       "      <td>0.020028</td>\n",
       "      <td>-0.020692</td>\n",
       "      <td>0.006149</td>\n",
       "      <td>0.019451</td>\n",
       "      <td>1.000000</td>\n",
       "      <td>0.020186</td>\n",
       "    </tr>\n",
       "    <tr>\n",
       "      <th>price_range</th>\n",
       "      <td>0.209181</td>\n",
       "      <td>0.023076</td>\n",
       "      <td>0.002343</td>\n",
       "      <td>0.024439</td>\n",
       "      <td>0.014633</td>\n",
       "      <td>0.008688</td>\n",
       "      <td>0.040132</td>\n",
       "      <td>0.004452</td>\n",
       "      <td>-0.022229</td>\n",
       "      <td>0.020561</td>\n",
       "      <td>...</td>\n",
       "      <td>0.148321</td>\n",
       "      <td>0.162155</td>\n",
       "      <td>0.917020</td>\n",
       "      <td>0.021676</td>\n",
       "      <td>0.051120</td>\n",
       "      <td>0.035786</td>\n",
       "      <td>0.019809</td>\n",
       "      <td>-0.034883</td>\n",
       "      <td>0.020186</td>\n",
       "      <td>1.000000</td>\n",
       "    </tr>\n",
       "  </tbody>\n",
       "</table>\n",
       "<p>21 rows × 21 columns</p>\n",
       "</div>"
      ],
      "text/plain": [
       "               battery_power      blue  clock_speed  dual_sim        fc  \\\n",
       "battery_power       1.000000  0.011998     0.027703 -0.029329  0.045006   \n",
       "blue                0.011998  1.000000     0.038897  0.026642  0.012370   \n",
       "clock_speed         0.027703  0.038897     1.000000  0.021106  0.015256   \n",
       "dual_sim           -0.029329  0.026642     0.021106  1.000000 -0.028922   \n",
       "fc                  0.045006  0.012370     0.015256 -0.028922  1.000000   \n",
       "four_g              0.027099  0.005286    -0.037968  0.002153 -0.007077   \n",
       "int_memory         -0.004363  0.054356     0.011620 -0.012233 -0.028808   \n",
       "m_dep               0.036367  0.006894    -0.024136 -0.018826 -0.001025   \n",
       "mobile_wt           0.009955 -0.024746     0.017319 -0.003636  0.017778   \n",
       "n_cores            -0.030992  0.042086    -0.014519 -0.019953 -0.016395   \n",
       "pc                  0.046093 -0.009201     0.016166 -0.019974  0.644199   \n",
       "px_height           0.016592 -0.004650    -0.019039 -0.022964 -0.008213   \n",
       "px_width           -0.002324 -0.036353    -0.006861  0.007001 -0.015686   \n",
       "ram                 0.008383  0.031686     0.012411  0.046006  0.003936   \n",
       "sc_h               -0.038116 -0.012713    -0.011283 -0.018242 -0.013279   \n",
       "sc_w               -0.033667  0.009608    -0.002629 -0.017694 -0.005489   \n",
       "talk_time           0.052359  0.002202    -0.013898 -0.037101 -0.009514   \n",
       "three_g             0.008346 -0.052221    -0.047172 -0.007899  0.012990   \n",
       "touch_screen       -0.011229  0.005661     0.023502 -0.004523 -0.002362   \n",
       "wifi                0.005474 -0.024131    -0.034809  0.039253  0.016641   \n",
       "price_range         0.209181  0.023076     0.002343  0.024439  0.014633   \n",
       "\n",
       "                 four_g  int_memory     m_dep  mobile_wt   n_cores  ...  \\\n",
       "battery_power  0.027099   -0.004363  0.036367   0.009955 -0.030992  ...   \n",
       "blue           0.005286    0.054356  0.006894  -0.024746  0.042086  ...   \n",
       "clock_speed   -0.037968    0.011620 -0.024136   0.017319 -0.014519  ...   \n",
       "dual_sim       0.002153   -0.012233 -0.018826  -0.003636 -0.019953  ...   \n",
       "fc            -0.007077   -0.028808 -0.001025   0.017778 -0.016395  ...   \n",
       "four_g         1.000000    0.009793 -0.015670  -0.020902 -0.027199  ...   \n",
       "int_memory     0.009793    1.000000  0.015662  -0.030230 -0.018749  ...   \n",
       "m_dep         -0.015670    0.015662  1.000000   0.014780 -0.013536  ...   \n",
       "mobile_wt     -0.020902   -0.030230  0.014780   1.000000 -0.027086  ...   \n",
       "n_cores       -0.027199   -0.018749 -0.013536  -0.027086  1.000000  ...   \n",
       "pc             0.017002   -0.022054  0.015452   0.021947 -0.010249  ...   \n",
       "px_height     -0.026712    0.008251  0.003548   0.004664  0.000687  ...   \n",
       "px_width       0.012828   -0.003289  0.020210  -0.001916  0.030164  ...   \n",
       "ram           -0.001045    0.030967 -0.003904   0.009560  0.022090  ...   \n",
       "sc_h           0.027707    0.044676 -0.023769  -0.042164  0.006798  ...   \n",
       "sc_w           0.043867    0.024482 -0.014319  -0.020148  0.033627  ...   \n",
       "talk_time     -0.052692    0.006761  0.005794  -0.002075  0.000676  ...   \n",
       "three_g        0.585862   -0.018180 -0.033816   0.001926 -0.019395  ...   \n",
       "touch_screen   0.018748   -0.008836  0.004184  -0.025195  0.017690  ...   \n",
       "wifi          -0.011024    0.009111 -0.035118   0.003934 -0.014078  ...   \n",
       "price_range    0.008688    0.040132  0.004452  -0.022229  0.020561  ...   \n",
       "\n",
       "               px_height  px_width       ram      sc_h      sc_w  talk_time  \\\n",
       "battery_power   0.016592 -0.002324  0.008383 -0.038116 -0.033667   0.052359   \n",
       "blue           -0.004650 -0.036353  0.031686 -0.012713  0.009608   0.002202   \n",
       "clock_speed    -0.019039 -0.006861  0.012411 -0.011283 -0.002629  -0.013898   \n",
       "dual_sim       -0.022964  0.007001  0.046006 -0.018242 -0.017694  -0.037101   \n",
       "fc             -0.008213 -0.015686  0.003936 -0.013279 -0.005489  -0.009514   \n",
       "four_g         -0.026712  0.012828 -0.001045  0.027707  0.043867  -0.052692   \n",
       "int_memory      0.008251 -0.003289  0.030967  0.044676  0.024482   0.006761   \n",
       "m_dep           0.003548  0.020210 -0.003904 -0.023769 -0.014319   0.005794   \n",
       "mobile_wt       0.004664 -0.001916  0.009560 -0.042164 -0.020148  -0.002075   \n",
       "n_cores         0.000687  0.030164  0.022090  0.006798  0.033627   0.000676   \n",
       "pc             -0.015373 -0.013380  0.026074  0.019197 -0.004978   0.019149   \n",
       "px_height       1.000000  0.503117 -0.024825  0.053234  0.023741  -0.012562   \n",
       "px_width        0.503117  1.000000 -0.001009  0.021729  0.027502   0.006370   \n",
       "ram            -0.024825 -0.001009  1.000000  0.015201  0.053820   0.027772   \n",
       "sc_h            0.053234  0.021729  0.015201  1.000000  0.498915  -0.020141   \n",
       "sc_w            0.023741  0.027502  0.053820  0.498915  1.000000  -0.026077   \n",
       "talk_time      -0.012562  0.006370  0.027772 -0.020141 -0.026077   1.000000   \n",
       "three_g        -0.032026  0.003641  0.011291  0.021916  0.028855  -0.047297   \n",
       "touch_screen    0.022619 -0.005010 -0.031687 -0.026657  0.000906   0.014182   \n",
       "wifi            0.042718  0.031676  0.020181  0.002221  0.020028  -0.020692   \n",
       "price_range     0.148321  0.162155  0.917020  0.021676  0.051120   0.035786   \n",
       "\n",
       "                three_g  touch_screen      wifi  price_range  \n",
       "battery_power  0.008346     -0.011229  0.005474     0.209181  \n",
       "blue          -0.052221      0.005661 -0.024131     0.023076  \n",
       "clock_speed   -0.047172      0.023502 -0.034809     0.002343  \n",
       "dual_sim      -0.007899     -0.004523  0.039253     0.024439  \n",
       "fc             0.012990     -0.002362  0.016641     0.014633  \n",
       "four_g         0.585862      0.018748 -0.011024     0.008688  \n",
       "int_memory    -0.018180     -0.008836  0.009111     0.040132  \n",
       "m_dep         -0.033816      0.004184 -0.035118     0.004452  \n",
       "mobile_wt      0.001926     -0.025195  0.003934    -0.022229  \n",
       "n_cores       -0.019395      0.017690 -0.014078     0.020561  \n",
       "pc             0.009959     -0.008281  0.004868     0.031783  \n",
       "px_height     -0.032026      0.022619  0.042718     0.148321  \n",
       "px_width       0.003641     -0.005010  0.031676     0.162155  \n",
       "ram            0.011291     -0.031687  0.020181     0.917020  \n",
       "sc_h           0.021916     -0.026657  0.002221     0.021676  \n",
       "sc_w           0.028855      0.000906  0.020028     0.051120  \n",
       "talk_time     -0.047297      0.014182 -0.020692     0.035786  \n",
       "three_g        1.000000      0.003451  0.006149     0.019809  \n",
       "touch_screen   0.003451      1.000000  0.019451    -0.034883  \n",
       "wifi           0.006149      0.019451  1.000000     0.020186  \n",
       "price_range    0.019809     -0.034883  0.020186     1.000000  \n",
       "\n",
       "[21 rows x 21 columns]"
      ]
     },
     "execution_count": 45,
     "metadata": {},
     "output_type": "execute_result"
    }
   ],
   "source": [
    "corr_matrix = data.corr()\n",
    "corr_matrix"
   ]
  },
  {
   "cell_type": "code",
   "execution_count": 46,
   "id": "0f104c1f",
   "metadata": {},
   "outputs": [
    {
     "data": {
      "image/png": "[encoded data removed]",
      "text/plain": [
       "<Figure size 432x288 with 2 Axes>"
      ]
     },
     "metadata": {
      "needs_background": "light"
     },
     "output_type": "display_data"
    }
   ],
   "source": [
    "sns.heatmap(corr_matrix, square=True, cmap='coolwarm')\n",
    "pass"
   ]
  },
  {
   "cell_type": "markdown",
   "id": "cae8a5f7",
   "metadata": {},
   "source": [
    "Выведем коэффициенты корреляции, большие заданного значения:"
   ]
  },
  {
   "cell_type": "code",
   "execution_count": 47,
   "id": "85e1658f",
   "metadata": {},
   "outputs": [
    {
     "data": {
      "text/html": [
       "<div>\n",
       "<style scoped>\n",
       "    .dataframe tbody tr th:only-of-type {\n",
       "        vertical-align: middle;\n",
       "    }\n",
       "\n",
       "    .dataframe tbody tr th {\n",
       "        vertical-align: top;\n",
       "    }\n",
       "\n",
       "    .dataframe thead th {\n",
       "        text-align: right;\n",
       "    }\n",
       "</style>\n",
       "<table border=\"1\" class=\"dataframe\">\n",
       "  <thead>\n",
       "    <tr style=\"text-align: right;\">\n",
       "      <th></th>\n",
       "      <th>battery_power</th>\n",
       "      <th>blue</th>\n",
       "      <th>clock_speed</th>\n",
       "      <th>dual_sim</th>\n",
       "      <th>fc</th>\n",
       "      <th>four_g</th>\n",
       "      <th>int_memory</th>\n",
       "      <th>m_dep</th>\n",
       "      <th>mobile_wt</th>\n",
       "      <th>n_cores</th>\n",
       "      <th>...</th>\n",
       "      <th>px_height</th>\n",
       "      <th>px_width</th>\n",
       "      <th>ram</th>\n",
       "      <th>sc_h</th>\n",
       "      <th>sc_w</th>\n",
       "      <th>talk_time</th>\n",
       "      <th>three_g</th>\n",
       "      <th>touch_screen</th>\n",
       "      <th>wifi</th>\n",
       "      <th>price_range</th>\n",
       "    </tr>\n",
       "  </thead>\n",
       "  <tbody>\n",
       "    <tr>\n",
       "      <th>battery_power</th>\n",
       "      <td>True</td>\n",
       "      <td>False</td>\n",
       "      <td>False</td>\n",
       "      <td>False</td>\n",
       "      <td>False</td>\n",
       "      <td>False</td>\n",
       "      <td>False</td>\n",
       "      <td>False</td>\n",
       "      <td>False</td>\n",
       "      <td>False</td>\n",
       "      <td>...</td>\n",
       "      <td>False</td>\n",
       "      <td>False</td>\n",
       "      <td>False</td>\n",
       "      <td>False</td>\n",
       "      <td>False</td>\n",
       "      <td>False</td>\n",
       "      <td>False</td>\n",
       "      <td>False</td>\n",
       "      <td>False</td>\n",
       "      <td>False</td>\n",
       "    </tr>\n",
       "    <tr>\n",
       "      <th>blue</th>\n",
       "      <td>False</td>\n",
       "      <td>True</td>\n",
       "      <td>False</td>\n",
       "      <td>False</td>\n",
       "      <td>False</td>\n",
       "      <td>False</td>\n",
       "      <td>False</td>\n",
       "      <td>False</td>\n",
       "      <td>False</td>\n",
       "      <td>False</td>\n",
       "      <td>...</td>\n",
       "      <td>False</td>\n",
       "      <td>False</td>\n",
       "      <td>False</td>\n",
       "      <td>False</td>\n",
       "      <td>False</td>\n",
       "      <td>False</td>\n",
       "      <td>False</td>\n",
       "      <td>False</td>\n",
       "      <td>False</td>\n",
       "      <td>False</td>\n",
       "    </tr>\n",
       "    <tr>\n",
       "      <th>clock_speed</th>\n",
       "      <td>False</td>\n",
       "      <td>False</td>\n",
       "      <td>True</td>\n",
       "      <td>False</td>\n",
       "      <td>False</td>\n",
       "      <td>False</td>\n",
       "      <td>False</td>\n",
       "      <td>False</td>\n",
       "      <td>False</td>\n",
       "      <td>False</td>\n",
       "      <td>...</td>\n",
       "      <td>False</td>\n",
       "      <td>False</td>\n",
       "      <td>False</td>\n",
       "      <td>False</td>\n",
       "      <td>False</td>\n",
       "      <td>False</td>\n",
       "      <td>False</td>\n",
       "      <td>False</td>\n",
       "      <td>False</td>\n",
       "      <td>False</td>\n",
       "    </tr>\n",
       "    <tr>\n",
       "      <th>dual_sim</th>\n",
       "      <td>False</td>\n",
       "      <td>False</td>\n",
       "      <td>False</td>\n",
       "      <td>True</td>\n",
       "      <td>False</td>\n",
       "      <td>False</td>\n",
       "      <td>False</td>\n",
       "      <td>False</td>\n",
       "      <td>False</td>\n",
       "      <td>False</td>\n",
       "      <td>...</td>\n",
       "      <td>False</td>\n",
       "      <td>False</td>\n",
       "      <td>False</td>\n",
       "      <td>False</td>\n",
       "      <td>False</td>\n",
       "      <td>False</td>\n",
       "      <td>False</td>\n",
       "      <td>False</td>\n",
       "      <td>False</td>\n",
       "      <td>False</td>\n",
       "    </tr>\n",
       "    <tr>\n",
       "      <th>fc</th>\n",
       "      <td>False</td>\n",
       "      <td>False</td>\n",
       "      <td>False</td>\n",
       "      <td>False</td>\n",
       "      <td>True</td>\n",
       "      <td>False</td>\n",
       "      <td>False</td>\n",
       "      <td>False</td>\n",
       "      <td>False</td>\n",
       "      <td>False</td>\n",
       "      <td>...</td>\n",
       "      <td>False</td>\n",
       "      <td>False</td>\n",
       "      <td>False</td>\n",
       "      <td>False</td>\n",
       "      <td>False</td>\n",
       "      <td>False</td>\n",
       "      <td>False</td>\n",
       "      <td>False</td>\n",
       "      <td>False</td>\n",
       "      <td>False</td>\n",
       "    </tr>\n",
       "    <tr>\n",
       "      <th>four_g</th>\n",
       "      <td>False</td>\n",
       "      <td>False</td>\n",
       "      <td>False</td>\n",
       "      <td>False</td>\n",
       "      <td>False</td>\n",
       "      <td>True</td>\n",
       "      <td>False</td>\n",
       "      <td>False</td>\n",
       "      <td>False</td>\n",
       "      <td>False</td>\n",
       "      <td>...</td>\n",
       "      <td>False</td>\n",
       "      <td>False</td>\n",
       "      <td>False</td>\n",
       "      <td>False</td>\n",
       "      <td>False</td>\n",
       "      <td>False</td>\n",
       "      <td>True</td>\n",
       "      <td>False</td>\n",
       "      <td>False</td>\n",
       "      <td>False</td>\n",
       "    </tr>\n",
       "    <tr>\n",
       "      <th>int_memory</th>\n",
       "      <td>False</td>\n",
       "      <td>False</td>\n",
       "      <td>False</td>\n",
       "      <td>False</td>\n",
       "      <td>False</td>\n",
       "      <td>False</td>\n",
       "      <td>True</td>\n",
       "      <td>False</td>\n",
       "      <td>False</td>\n",
       "      <td>False</td>\n",
       "      <td>...</td>\n",
       "      <td>False</td>\n",
       "      <td>False</td>\n",
       "      <td>False</td>\n",
       "      <td>False</td>\n",
       "      <td>False</td>\n",
       "      <td>False</td>\n",
       "      <td>False</td>\n",
       "      <td>False</td>\n",
       "      <td>False</td>\n",
       "      <td>False</td>\n",
       "    </tr>\n",
       "    <tr>\n",
       "      <th>m_dep</th>\n",
       "      <td>False</td>\n",
       "      <td>False</td>\n",
       "      <td>False</td>\n",
       "      <td>False</td>\n",
       "      <td>False</td>\n",
       "      <td>False</td>\n",
       "      <td>False</td>\n",
       "      <td>True</td>\n",
       "      <td>False</td>\n",
       "      <td>False</td>\n",
       "      <td>...</td>\n",
       "      <td>False</td>\n",
       "      <td>False</td>\n",
       "      <td>False</td>\n",
       "      <td>False</td>\n",
       "      <td>False</td>\n",
       "      <td>False</td>\n",
       "      <td>False</td>\n",
       "      <td>False</td>\n",
       "      <td>False</td>\n",
       "      <td>False</td>\n",
       "    </tr>\n",
       "    <tr>\n",
       "      <th>mobile_wt</th>\n",
       "      <td>False</td>\n",
       "      <td>False</td>\n",
       "      <td>False</td>\n",
       "      <td>False</td>\n",
       "      <td>False</td>\n",
       "      <td>False</td>\n",
       "      <td>False</td>\n",
       "      <td>False</td>\n",
       "      <td>True</td>\n",
       "      <td>False</td>\n",
       "      <td>...</td>\n",
       "      <td>False</td>\n",
       "      <td>False</td>\n",
       "      <td>False</td>\n",
       "      <td>False</td>\n",
       "      <td>False</td>\n",
       "      <td>False</td>\n",
       "      <td>False</td>\n",
       "      <td>False</td>\n",
       "      <td>False</td>\n",
       "      <td>False</td>\n",
       "    </tr>\n",
       "    <tr>\n",
       "      <th>n_cores</th>\n",
       "      <td>False</td>\n",
       "      <td>False</td>\n",
       "      <td>False</td>\n",
       "      <td>False</td>\n",
       "      <td>False</td>\n",
       "      <td>False</td>\n",
       "      <td>False</td>\n",
       "      <td>False</td>\n",
       "      <td>False</td>\n",
       "      <td>True</td>\n",
       "      <td>...</td>\n",
       "      <td>False</td>\n",
       "      <td>False</td>\n",
       "      <td>False</td>\n",
       "      <td>False</td>\n",
       "      <td>False</td>\n",
       "      <td>False</td>\n",
       "      <td>False</td>\n",
       "      <td>False</td>\n",
       "      <td>False</td>\n",
       "      <td>False</td>\n",
       "    </tr>\n",
       "    <tr>\n",
       "      <th>pc</th>\n",
       "      <td>False</td>\n",
       "      <td>False</td>\n",
       "      <td>False</td>\n",
       "      <td>False</td>\n",
       "      <td>True</td>\n",
       "      <td>False</td>\n",
       "      <td>False</td>\n",
       "      <td>False</td>\n",
       "      <td>False</td>\n",
       "      <td>False</td>\n",
       "      <td>...</td>\n",
       "      <td>False</td>\n",
       "      <td>False</td>\n",
       "      <td>False</td>\n",
       "      <td>False</td>\n",
       "      <td>False</td>\n",
       "      <td>False</td>\n",
       "      <td>False</td>\n",
       "      <td>False</td>\n",
       "      <td>False</td>\n",
       "      <td>False</td>\n",
       "    </tr>\n",
       "    <tr>\n",
       "      <th>px_height</th>\n",
       "      <td>False</td>\n",
       "      <td>False</td>\n",
       "      <td>False</td>\n",
       "      <td>False</td>\n",
       "      <td>False</td>\n",
       "      <td>False</td>\n",
       "      <td>False</td>\n",
       "      <td>False</td>\n",
       "      <td>False</td>\n",
       "      <td>False</td>\n",
       "      <td>...</td>\n",
       "      <td>True</td>\n",
       "      <td>True</td>\n",
       "      <td>False</td>\n",
       "      <td>False</td>\n",
       "      <td>False</td>\n",
       "      <td>False</td>\n",
       "      <td>False</td>\n",
       "      <td>False</td>\n",
       "      <td>False</td>\n",
       "      <td>False</td>\n",
       "    </tr>\n",
       "    <tr>\n",
       "      <th>px_width</th>\n",
       "      <td>False</td>\n",
       "      <td>False</td>\n",
       "      <td>False</td>\n",
       "      <td>False</td>\n",
       "      <td>False</td>\n",
       "      <td>False</td>\n",
       "      <td>False</td>\n",
       "      <td>False</td>\n",
       "      <td>False</td>\n",
       "      <td>False</td>\n",
       "      <td>...</td>\n",
       "      <td>True</td>\n",
       "      <td>True</td>\n",
       "      <td>False</td>\n",
       "      <td>False</td>\n",
       "      <td>False</td>\n",
       "      <td>False</td>\n",
       "      <td>False</td>\n",
       "      <td>False</td>\n",
       "      <td>False</td>\n",
       "      <td>False</td>\n",
       "    </tr>\n",
       "    <tr>\n",
       "      <th>ram</th>\n",
       "      <td>False</td>\n",
       "      <td>False</td>\n",
       "      <td>False</td>\n",
       "      <td>False</td>\n",
       "      <td>False</td>\n",
       "      <td>False</td>\n",
       "      <td>False</td>\n",
       "      <td>False</td>\n",
       "      <td>False</td>\n",
       "      <td>False</td>\n",
       "      <td>...</td>\n",
       "      <td>False</td>\n",
       "      <td>False</td>\n",
       "      <td>True</td>\n",
       "      <td>False</td>\n",
       "      <td>False</td>\n",
       "      <td>False</td>\n",
       "      <td>False</td>\n",
       "      <td>False</td>\n",
       "      <td>False</td>\n",
       "      <td>True</td>\n",
       "    </tr>\n",
       "    <tr>\n",
       "      <th>sc_h</th>\n",
       "      <td>False</td>\n",
       "      <td>False</td>\n",
       "      <td>False</td>\n",
       "      <td>False</td>\n",
       "      <td>False</td>\n",
       "      <td>False</td>\n",
       "      <td>False</td>\n",
       "      <td>False</td>\n",
       "      <td>False</td>\n",
       "      <td>False</td>\n",
       "      <td>...</td>\n",
       "      <td>False</td>\n",
       "      <td>False</td>\n",
       "      <td>False</td>\n",
       "      <td>True</td>\n",
       "      <td>False</td>\n",
       "      <td>False</td>\n",
       "      <td>False</td>\n",
       "      <td>False</td>\n",
       "      <td>False</td>\n",
       "      <td>False</td>\n",
       "    </tr>\n",
       "    <tr>\n",
       "      <th>sc_w</th>\n",
       "      <td>False</td>\n",
       "      <td>False</td>\n",
       "      <td>False</td>\n",
       "      <td>False</td>\n",
       "      <td>False</td>\n",
       "      <td>False</td>\n",
       "      <td>False</td>\n",
       "      <td>False</td>\n",
       "      <td>False</td>\n",
       "      <td>False</td>\n",
       "      <td>...</td>\n",
       "      <td>False</td>\n",
       "      <td>False</td>\n",
       "      <td>False</td>\n",
       "      <td>False</td>\n",
       "      <td>True</td>\n",
       "      <td>False</td>\n",
       "      <td>False</td>\n",
       "      <td>False</td>\n",
       "      <td>False</td>\n",
       "      <td>False</td>\n",
       "    </tr>\n",
       "    <tr>\n",
       "      <th>talk_time</th>\n",
       "      <td>False</td>\n",
       "      <td>False</td>\n",
       "      <td>False</td>\n",
       "      <td>False</td>\n",
       "      <td>False</td>\n",
       "      <td>False</td>\n",
       "      <td>False</td>\n",
       "      <td>False</td>\n",
       "      <td>False</td>\n",
       "      <td>False</td>\n",
       "      <td>...</td>\n",
       "      <td>False</td>\n",
       "      <td>False</td>\n",
       "      <td>False</td>\n",
       "      <td>False</td>\n",
       "      <td>False</td>\n",
       "      <td>True</td>\n",
       "      <td>False</td>\n",
       "      <td>False</td>\n",
       "      <td>False</td>\n",
       "      <td>False</td>\n",
       "    </tr>\n",
       "    <tr>\n",
       "      <th>three_g</th>\n",
       "      <td>False</td>\n",
       "      <td>False</td>\n",
       "      <td>False</td>\n",
       "      <td>False</td>\n",
       "      <td>False</td>\n",
       "      <td>True</td>\n",
       "      <td>False</td>\n",
       "      <td>False</td>\n",
       "      <td>False</td>\n",
       "      <td>False</td>\n",
       "      <td>...</td>\n",
       "      <td>False</td>\n",
       "      <td>False</td>\n",
       "      <td>False</td>\n",
       "      <td>False</td>\n",
       "      <td>False</td>\n",
       "      <td>False</td>\n",
       "      <td>True</td>\n",
       "      <td>False</td>\n",
       "      <td>False</td>\n",
       "      <td>False</td>\n",
       "    </tr>\n",
       "    <tr>\n",
       "      <th>touch_screen</th>\n",
       "      <td>False</td>\n",
       "      <td>False</td>\n",
       "      <td>False</td>\n",
       "      <td>False</td>\n",
       "      <td>False</td>\n",
       "      <td>False</td>\n",
       "      <td>False</td>\n",
       "      <td>False</td>\n",
       "      <td>False</td>\n",
       "      <td>False</td>\n",
       "      <td>...</td>\n",
       "      <td>False</td>\n",
       "      <td>False</td>\n",
       "      <td>False</td>\n",
       "      <td>False</td>\n",
       "      <td>False</td>\n",
       "      <td>False</td>\n",
       "      <td>False</td>\n",
       "      <td>True</td>\n",
       "      <td>False</td>\n",
       "      <td>False</td>\n",
       "    </tr>\n",
       "    <tr>\n",
       "      <th>wifi</th>\n",
       "      <td>False</td>\n",
       "      <td>False</td>\n",
       "      <td>False</td>\n",
       "      <td>False</td>\n",
       "      <td>False</td>\n",
       "      <td>False</td>\n",
       "      <td>False</td>\n",
       "      <td>False</td>\n",
       "      <td>False</td>\n",
       "      <td>False</td>\n",
       "      <td>...</td>\n",
       "      <td>False</td>\n",
       "      <td>False</td>\n",
       "      <td>False</td>\n",
       "      <td>False</td>\n",
       "      <td>False</td>\n",
       "      <td>False</td>\n",
       "      <td>False</td>\n",
       "      <td>False</td>\n",
       "      <td>True</td>\n",
       "      <td>False</td>\n",
       "    </tr>\n",
       "    <tr>\n",
       "      <th>price_range</th>\n",
       "      <td>False</td>\n",
       "      <td>False</td>\n",
       "      <td>False</td>\n",
       "      <td>False</td>\n",
       "      <td>False</td>\n",
       "      <td>False</td>\n",
       "      <td>False</td>\n",
       "      <td>False</td>\n",
       "      <td>False</td>\n",
       "      <td>False</td>\n",
       "      <td>...</td>\n",
       "      <td>False</td>\n",
       "      <td>False</td>\n",
       "      <td>True</td>\n",
       "      <td>False</td>\n",
       "      <td>False</td>\n",
       "      <td>False</td>\n",
       "      <td>False</td>\n",
       "      <td>False</td>\n",
       "      <td>False</td>\n",
       "      <td>True</td>\n",
       "    </tr>\n",
       "  </tbody>\n",
       "</table>\n",
       "<p>21 rows × 21 columns</p>\n",
       "</div>"
      ],
      "text/plain": [
       "               battery_power   blue  clock_speed  dual_sim     fc  four_g  \\\n",
       "battery_power           True  False        False     False  False   False   \n",
       "blue                   False   True        False     False  False   False   \n",
       "clock_speed            False  False         True     False  False   False   \n",
       "dual_sim               False  False        False      True  False   False   \n",
       "fc                     False  False        False     False   True   False   \n",
       "four_g                 False  False        False     False  False    True   \n",
       "int_memory             False  False        False     False  False   False   \n",
       "m_dep                  False  False        False     False  False   False   \n",
       "mobile_wt              False  False        False     False  False   False   \n",
       "n_cores                False  False        False     False  False   False   \n",
       "pc                     False  False        False     False   True   False   \n",
       "px_height              False  False        False     False  False   False   \n",
       "px_width               False  False        False     False  False   False   \n",
       "ram                    False  False        False     False  False   False   \n",
       "sc_h                   False  False        False     False  False   False   \n",
       "sc_w                   False  False        False     False  False   False   \n",
       "talk_time              False  False        False     False  False   False   \n",
       "three_g                False  False        False     False  False    True   \n",
       "touch_screen           False  False        False     False  False   False   \n",
       "wifi                   False  False        False     False  False   False   \n",
       "price_range            False  False        False     False  False   False   \n",
       "\n",
       "               int_memory  m_dep  mobile_wt  n_cores  ...  px_height  \\\n",
       "battery_power       False  False      False    False  ...      False   \n",
       "blue                False  False      False    False  ...      False   \n",
       "clock_speed         False  False      False    False  ...      False   \n",
       "dual_sim            False  False      False    False  ...      False   \n",
       "fc                  False  False      False    False  ...      False   \n",
       "four_g              False  False      False    False  ...      False   \n",
       "int_memory           True  False      False    False  ...      False   \n",
       "m_dep               False   True      False    False  ...      False   \n",
       "mobile_wt           False  False       True    False  ...      False   \n",
       "n_cores             False  False      False     True  ...      False   \n",
       "pc                  False  False      False    False  ...      False   \n",
       "px_height           False  False      False    False  ...       True   \n",
       "px_width            False  False      False    False  ...       True   \n",
       "ram                 False  False      False    False  ...      False   \n",
       "sc_h                False  False      False    False  ...      False   \n",
       "sc_w                False  False      False    False  ...      False   \n",
       "talk_time           False  False      False    False  ...      False   \n",
       "three_g             False  False      False    False  ...      False   \n",
       "touch_screen        False  False      False    False  ...      False   \n",
       "wifi                False  False      False    False  ...      False   \n",
       "price_range         False  False      False    False  ...      False   \n",
       "\n",
       "               px_width    ram   sc_h   sc_w  talk_time  three_g  \\\n",
       "battery_power     False  False  False  False      False    False   \n",
       "blue              False  False  False  False      False    False   \n",
       "clock_speed       False  False  False  False      False    False   \n",
       "dual_sim          False  False  False  False      False    False   \n",
       "fc                False  False  False  False      False    False   \n",
       "four_g            False  False  False  False      False     True   \n",
       "int_memory        False  False  False  False      False    False   \n",
       "m_dep             False  False  False  False      False    False   \n",
       "mobile_wt         False  False  False  False      False    False   \n",
       "n_cores           False  False  False  False      False    False   \n",
       "pc                False  False  False  False      False    False   \n",
       "px_height          True  False  False  False      False    False   \n",
       "px_width           True  False  False  False      False    False   \n",
       "ram               False   True  False  False      False    False   \n",
       "sc_h              False  False   True  False      False    False   \n",
       "sc_w              False  False  False   True      False    False   \n",
       "talk_time         False  False  False  False       True    False   \n",
       "three_g           False  False  False  False      False     True   \n",
       "touch_screen      False  False  False  False      False    False   \n",
       "wifi              False  False  False  False      False    False   \n",
       "price_range       False   True  False  False      False    False   \n",
       "\n",
       "               touch_screen   wifi  price_range  \n",
       "battery_power         False  False        False  \n",
       "blue                  False  False        False  \n",
       "clock_speed           False  False        False  \n",
       "dual_sim              False  False        False  \n",
       "fc                    False  False        False  \n",
       "four_g                False  False        False  \n",
       "int_memory            False  False        False  \n",
       "m_dep                 False  False        False  \n",
       "mobile_wt             False  False        False  \n",
       "n_cores               False  False        False  \n",
       "pc                    False  False        False  \n",
       "px_height             False  False        False  \n",
       "px_width              False  False        False  \n",
       "ram                   False  False         True  \n",
       "sc_h                  False  False        False  \n",
       "sc_w                  False  False        False  \n",
       "talk_time             False  False        False  \n",
       "three_g               False  False        False  \n",
       "touch_screen           True  False        False  \n",
       "wifi                  False   True        False  \n",
       "price_range           False  False         True  \n",
       "\n",
       "[21 rows x 21 columns]"
      ]
     },
     "execution_count": 47,
     "metadata": {},
     "output_type": "execute_result"
    }
   ],
   "source": [
    "corr_matrix >= 0.5"
   ]
  },
  {
   "cell_type": "markdown",
   "id": "32cee35e",
   "metadata": {},
   "source": [
    "Коэффициент корреляции > 0,5 имеют: px_width и px_height, sc_h и sc_w, four_g и three_g, price_range и ram, что говорит о наличие связи между признаками.\n",
    "Для признаков, у которых коэффициент корреляции < 0,5, можно сказать, что связь между ними слабая\n",
    "\n",
    "Перейдем к рассмотрению категориальных признаков"
   ]
  },
  {
   "cell_type": "code",
   "execution_count": 48,
   "id": "d5214312",
   "metadata": {},
   "outputs": [
    {
     "data": {
      "text/plain": [
       "0.0    1472\n",
       "1.0    1392\n",
       "Name: blue, dtype: int64"
      ]
     },
     "execution_count": 48,
     "metadata": {},
     "output_type": "execute_result"
    }
   ],
   "source": [
    "data['blue'].value_counts()"
   ]
  },
  {
   "cell_type": "code",
   "execution_count": 49,
   "id": "bea902d2",
   "metadata": {},
   "outputs": [
    {
     "data": {
      "image/png": "[encoded data removed]",
      "text/plain": [
       "<Figure size 432x288 with 1 Axes>"
      ]
     },
     "metadata": {
      "needs_background": "light"
     },
     "output_type": "display_data"
    }
   ],
   "source": [
    "sns.countplot(x='blue', data=data)\n",
    "pass"
   ]
  },
  {
   "cell_type": "markdown",
   "id": "195016b2",
   "metadata": {},
   "source": [
    "Число моделей с bluetooth приблизительно равно числу моделей без него."
   ]
  },
  {
   "cell_type": "code",
   "execution_count": 50,
   "id": "88e76433",
   "metadata": {},
   "outputs": [
    {
     "data": {
      "text/plain": [
       "1.0    1466\n",
       "0.0    1401\n",
       "Name: dual_sim, dtype: int64"
      ]
     },
     "execution_count": 50,
     "metadata": {},
     "output_type": "execute_result"
    }
   ],
   "source": [
    "data['dual_sim'].value_counts()"
   ]
  },
  {
   "cell_type": "code",
   "execution_count": 51,
   "id": "00b2de76",
   "metadata": {},
   "outputs": [
    {
     "data": {
      "image/png": "[encoded data removed]",
      "text/plain": [
       "<Figure size 432x288 with 1 Axes>"
      ]
     },
     "metadata": {
      "needs_background": "light"
     },
     "output_type": "display_data"
    }
   ],
   "source": [
    "sns.countplot(x='dual_sim', data=data)\n",
    "pass"
   ]
  },
  {
   "cell_type": "markdown",
   "id": "cae337d1",
   "metadata": {},
   "source": [
    "Число моделей с поддержкой 2 симкарт немного больше."
   ]
  },
  {
   "cell_type": "code",
   "execution_count": 52,
   "id": "0009160a",
   "metadata": {},
   "outputs": [
    {
     "data": {
      "text/plain": [
       "1.0    1471\n",
       "0.0    1389\n",
       "Name: four_g, dtype: int64"
      ]
     },
     "execution_count": 52,
     "metadata": {},
     "output_type": "execute_result"
    }
   ],
   "source": [
    "data['four_g'].value_counts()"
   ]
  },
  {
   "cell_type": "code",
   "execution_count": 53,
   "id": "e7e5e0f6",
   "metadata": {},
   "outputs": [
    {
     "data": {
      "image/png": "[encoded data removed]",
      "text/plain": [
       "<Figure size 432x288 with 1 Axes>"
      ]
     },
     "metadata": {
      "needs_background": "light"
     },
     "output_type": "display_data"
    }
   ],
   "source": [
    "sns.countplot(x='four_g', data=data)\n",
    "pass"
   ]
  },
  {
   "cell_type": "markdown",
   "id": "146e840f",
   "metadata": {},
   "source": [
    "Число моделей с поддержкой 4G немного больше."
   ]
  },
  {
   "cell_type": "code",
   "execution_count": 54,
   "id": "d56c5e38",
   "metadata": {},
   "outputs": [
    {
     "data": {
      "text/plain": [
       "1.0    2171\n",
       "0.0     700\n",
       "Name: three_g, dtype: int64"
      ]
     },
     "execution_count": 54,
     "metadata": {},
     "output_type": "execute_result"
    }
   ],
   "source": [
    "data['three_g'].value_counts()"
   ]
  },
  {
   "cell_type": "code",
   "execution_count": 55,
   "id": "3e00cbf0",
   "metadata": {},
   "outputs": [
    {
     "data": {
      "image/png": "[encoded data removed]",
      "text/plain": [
       "<Figure size 432x288 with 1 Axes>"
      ]
     },
     "metadata": {
      "needs_background": "light"
     },
     "output_type": "display_data"
    }
   ],
   "source": [
    "sns.countplot(x='three_g', data=data)\n",
    "pass"
   ]
  },
  {
   "cell_type": "markdown",
   "id": "71e68841",
   "metadata": {},
   "source": [
    "Число моделей с поддержкой 3G примерно в 3 раза больше"
   ]
  },
  {
   "cell_type": "code",
   "execution_count": 56,
   "id": "b655a4e1",
   "metadata": {},
   "outputs": [
    {
     "data": {
      "text/plain": [
       "1.0    1460\n",
       "0.0    1416\n",
       "Name: touch_screen, dtype: int64"
      ]
     },
     "execution_count": 56,
     "metadata": {},
     "output_type": "execute_result"
    }
   ],
   "source": [
    "data['touch_screen'].value_counts()"
   ]
  },
  {
   "cell_type": "code",
   "execution_count": 57,
   "id": "53810a9a",
   "metadata": {},
   "outputs": [
    {
     "data": {
      "image/png": "[encoded data removed]",
      "text/plain": [
       "<Figure size 432x288 with 1 Axes>"
      ]
     },
     "metadata": {
      "needs_background": "light"
     },
     "output_type": "display_data"
    }
   ],
   "source": [
    "sns.countplot(x='touch_screen', data=data)\n",
    "pass"
   ]
  },
  {
   "cell_type": "markdown",
   "id": "ba677e92",
   "metadata": {},
   "source": [
    "Число моделей с сенсорным экраном приблизительно равно числу моделей без него"
   ]
  },
  {
   "cell_type": "code",
   "execution_count": 58,
   "id": "b45e72df",
   "metadata": {},
   "outputs": [
    {
     "data": {
      "text/plain": [
       "1.0    1475\n",
       "0.0    1401\n",
       "Name: wifi, dtype: int64"
      ]
     },
     "execution_count": 58,
     "metadata": {},
     "output_type": "execute_result"
    }
   ],
   "source": [
    "data['wifi'].value_counts()"
   ]
  },
  {
   "cell_type": "code",
   "execution_count": 59,
   "id": "ebc6d39d",
   "metadata": {},
   "outputs": [
    {
     "data": {
      "image/png": "[encoded data removed]",
      "text/plain": [
       "<Figure size 432x288 with 1 Axes>"
      ]
     },
     "metadata": {
      "needs_background": "light"
     },
     "output_type": "display_data"
    }
   ],
   "source": [
    "sns.countplot(x='wifi', data=data)\n",
    "pass"
   ]
  },
  {
   "cell_type": "markdown",
   "id": "2cd0072f",
   "metadata": {},
   "source": [
    "Число моделей с поддержкой WiFi немного больше."
   ]
  },
  {
   "cell_type": "code",
   "execution_count": 60,
   "id": "290b5632",
   "metadata": {},
   "outputs": [
    {
     "data": {
      "text/plain": [
       "2    733\n",
       "3    732\n",
       "0    720\n",
       "1    694\n",
       "Name: price_range, dtype: int64"
      ]
     },
     "execution_count": 60,
     "metadata": {},
     "output_type": "execute_result"
    }
   ],
   "source": [
    "data['price_range'].value_counts()"
   ]
  },
  {
   "cell_type": "code",
   "execution_count": 61,
   "id": "96b68524",
   "metadata": {},
   "outputs": [
    {
     "data": {
      "image/png": "[encoded data removed]",
      "text/plain": [
       "<Figure size 432x288 with 1 Axes>"
      ]
     },
     "metadata": {
      "needs_background": "light"
     },
     "output_type": "display_data"
    }
   ],
   "source": [
    "sns.countplot(x='price_range', data=data)\n",
    "pass"
   ]
  },
  {
   "cell_type": "markdown",
   "id": "3a58d38b",
   "metadata": {},
   "source": [
    "Ценовой диапозон выставлен примерно одинаково"
   ]
  },
  {
   "cell_type": "markdown",
   "id": "60906f98",
   "metadata": {},
   "source": [
    "Удалим строки с пропущенными значениями"
   ]
  },
  {
   "cell_type": "markdown",
   "id": "f51d4205",
   "metadata": {},
   "source": [
    "## 3. Обработка пропущенных значений \n",
    "Число пропущенных значений мало"
   ]
  },
  {
   "cell_type": "code",
   "execution_count": 62,
   "id": "6526084c",
   "metadata": {},
   "outputs": [
    {
     "name": "stdout",
     "output_type": "stream",
     "text": [
      "(2721, 21)\n"
     ]
    },
    {
     "data": {
      "text/plain": [
       "battery_power    0\n",
       "blue             0\n",
       "clock_speed      0\n",
       "dual_sim         0\n",
       "fc               0\n",
       "four_g           0\n",
       "int_memory       0\n",
       "m_dep            0\n",
       "mobile_wt        0\n",
       "n_cores          0\n",
       "pc               0\n",
       "px_height        0\n",
       "px_width         0\n",
       "ram              0\n",
       "sc_h             0\n",
       "sc_w             0\n",
       "talk_time        0\n",
       "three_g          0\n",
       "touch_screen     0\n",
       "wifi             0\n",
       "price_range      0\n",
       "dtype: int64"
      ]
     },
     "execution_count": 62,
     "metadata": {},
     "output_type": "execute_result"
    }
   ],
   "source": [
    "data.dropna(axis=0, how='all', subset=['battery_power'], inplace=True)\n",
    "data.dropna(axis=0, how='all', subset=['blue'], inplace=True)\n",
    "data.dropna(axis=0, how='all', subset=['clock_speed'], inplace=True)\n",
    "data.dropna(axis=0, how='all', subset=['dual_sim'], inplace=True)\n",
    "data.dropna(axis=0, how='all', subset=['fc'], inplace=True)\n",
    "data.dropna(axis=0, how='all', subset=['four_g'], inplace=True)\n",
    "data.dropna(axis=0, how='all', subset=['int_memory'], inplace=True)\n",
    "data.dropna(axis=0, how='all', subset=['m_dep'], inplace=True)\n",
    "data.dropna(axis=0, how='all', subset=['mobile_wt'], inplace=True)\n",
    "data.dropna(axis=0, how='all', subset=['n_cores'], inplace=True)\n",
    "data.dropna(axis=0, how='all', subset=['pc'], inplace=True)\n",
    "data.dropna(axis=0, how='all', subset=['px_height'], inplace=True)\n",
    "data.dropna(axis=0, how='all', subset=['px_width'], inplace=True)\n",
    "data.dropna(axis=0, how='all', subset=['ram'], inplace=True)\n",
    "data.dropna(axis=0, how='all', subset=['sc_h'], inplace=True)\n",
    "data.dropna(axis=0, how='all', subset=['sc_w'], inplace=True)\n",
    "data.dropna(axis=0, how='all', subset=['talk_time'], inplace=True)\n",
    "data.dropna(axis=0, how='all', subset=['three_g'], inplace=True)\n",
    "data.dropna(axis=0, how='all', subset=['touch_screen'], inplace=True)\n",
    "data.dropna(axis=0, how='all', subset=['wifi'], inplace=True)\n",
    "print(data.shape)\n",
    "data.isna().sum()"
   ]
  },
  {
   "cell_type": "markdown",
   "id": "42522220",
   "metadata": {},
   "source": [
    "## 4. Обработка категориальных признаков\n",
    "Все категориальные признаки уже заданы числовыми значениями\n",
    "## 5. Нормализация\n",
    "Проведем нормализацию с помощью линейного преобразования к отрезку [0, 1]"
   ]
  },
  {
   "cell_type": "code",
   "execution_count": 63,
   "id": "7331ba7a",
   "metadata": {},
   "outputs": [
    {
     "data": {
      "text/html": [
       "<div>\n",
       "<style scoped>\n",
       "    .dataframe tbody tr th:only-of-type {\n",
       "        vertical-align: middle;\n",
       "    }\n",
       "\n",
       "    .dataframe tbody tr th {\n",
       "        vertical-align: top;\n",
       "    }\n",
       "\n",
       "    .dataframe thead th {\n",
       "        text-align: right;\n",
       "    }\n",
       "</style>\n",
       "<table border=\"1\" class=\"dataframe\">\n",
       "  <thead>\n",
       "    <tr style=\"text-align: right;\">\n",
       "      <th></th>\n",
       "      <th>battery_power</th>\n",
       "      <th>blue</th>\n",
       "      <th>clock_speed</th>\n",
       "      <th>dual_sim</th>\n",
       "      <th>fc</th>\n",
       "      <th>four_g</th>\n",
       "      <th>int_memory</th>\n",
       "      <th>m_dep</th>\n",
       "      <th>mobile_wt</th>\n",
       "      <th>n_cores</th>\n",
       "      <th>...</th>\n",
       "      <th>px_height</th>\n",
       "      <th>px_width</th>\n",
       "      <th>ram</th>\n",
       "      <th>sc_h</th>\n",
       "      <th>sc_w</th>\n",
       "      <th>talk_time</th>\n",
       "      <th>three_g</th>\n",
       "      <th>touch_screen</th>\n",
       "      <th>wifi</th>\n",
       "      <th>price_range</th>\n",
       "    </tr>\n",
       "  </thead>\n",
       "  <tbody>\n",
       "    <tr>\n",
       "      <th>count</th>\n",
       "      <td>2721.000000</td>\n",
       "      <td>2721.000000</td>\n",
       "      <td>2721.000000</td>\n",
       "      <td>2721.000000</td>\n",
       "      <td>2721.000000</td>\n",
       "      <td>2721.000000</td>\n",
       "      <td>2721.000000</td>\n",
       "      <td>2721.000000</td>\n",
       "      <td>2721.000000</td>\n",
       "      <td>2721.000000</td>\n",
       "      <td>...</td>\n",
       "      <td>2721.000000</td>\n",
       "      <td>2721.000000</td>\n",
       "      <td>2721.000000</td>\n",
       "      <td>2721.000000</td>\n",
       "      <td>2721.000000</td>\n",
       "      <td>2721.000000</td>\n",
       "      <td>2721.000000</td>\n",
       "      <td>2721.000000</td>\n",
       "      <td>2721.000000</td>\n",
       "      <td>2721.000000</td>\n",
       "    </tr>\n",
       "    <tr>\n",
       "      <th>mean</th>\n",
       "      <td>0.494282</td>\n",
       "      <td>0.488423</td>\n",
       "      <td>0.409247</td>\n",
       "      <td>0.508269</td>\n",
       "      <td>0.238985</td>\n",
       "      <td>0.514149</td>\n",
       "      <td>0.490190</td>\n",
       "      <td>0.448242</td>\n",
       "      <td>0.506517</td>\n",
       "      <td>0.504069</td>\n",
       "      <td>...</td>\n",
       "      <td>0.327427</td>\n",
       "      <td>0.499883</td>\n",
       "      <td>0.505929</td>\n",
       "      <td>0.524203</td>\n",
       "      <td>0.318857</td>\n",
       "      <td>0.498489</td>\n",
       "      <td>0.755972</td>\n",
       "      <td>0.505696</td>\n",
       "      <td>0.514884</td>\n",
       "      <td>0.507902</td>\n",
       "    </tr>\n",
       "    <tr>\n",
       "      <th>std</th>\n",
       "      <td>0.293952</td>\n",
       "      <td>0.499958</td>\n",
       "      <td>0.328669</td>\n",
       "      <td>0.500024</td>\n",
       "      <td>0.241883</td>\n",
       "      <td>0.499892</td>\n",
       "      <td>0.293178</td>\n",
       "      <td>0.318928</td>\n",
       "      <td>0.294342</td>\n",
       "      <td>0.326937</td>\n",
       "      <td>...</td>\n",
       "      <td>0.226641</td>\n",
       "      <td>0.289104</td>\n",
       "      <td>0.292533</td>\n",
       "      <td>0.300177</td>\n",
       "      <td>0.242910</td>\n",
       "      <td>0.301650</td>\n",
       "      <td>0.429588</td>\n",
       "      <td>0.500059</td>\n",
       "      <td>0.499870</td>\n",
       "      <td>0.373484</td>\n",
       "    </tr>\n",
       "    <tr>\n",
       "      <th>min</th>\n",
       "      <td>0.000000</td>\n",
       "      <td>0.000000</td>\n",
       "      <td>0.000000</td>\n",
       "      <td>0.000000</td>\n",
       "      <td>0.000000</td>\n",
       "      <td>0.000000</td>\n",
       "      <td>0.000000</td>\n",
       "      <td>0.000000</td>\n",
       "      <td>0.000000</td>\n",
       "      <td>0.000000</td>\n",
       "      <td>...</td>\n",
       "      <td>0.000000</td>\n",
       "      <td>0.000000</td>\n",
       "      <td>0.000000</td>\n",
       "      <td>0.000000</td>\n",
       "      <td>0.000000</td>\n",
       "      <td>0.000000</td>\n",
       "      <td>0.000000</td>\n",
       "      <td>0.000000</td>\n",
       "      <td>0.000000</td>\n",
       "      <td>0.000000</td>\n",
       "    </tr>\n",
       "    <tr>\n",
       "      <th>25%</th>\n",
       "      <td>0.233557</td>\n",
       "      <td>0.000000</td>\n",
       "      <td>0.080000</td>\n",
       "      <td>0.000000</td>\n",
       "      <td>0.055556</td>\n",
       "      <td>0.000000</td>\n",
       "      <td>0.225806</td>\n",
       "      <td>0.111111</td>\n",
       "      <td>0.241667</td>\n",
       "      <td>0.285714</td>\n",
       "      <td>...</td>\n",
       "      <td>0.140306</td>\n",
       "      <td>0.247811</td>\n",
       "      <td>0.254531</td>\n",
       "      <td>0.285714</td>\n",
       "      <td>0.111111</td>\n",
       "      <td>0.222222</td>\n",
       "      <td>1.000000</td>\n",
       "      <td>0.000000</td>\n",
       "      <td>0.000000</td>\n",
       "      <td>0.333333</td>\n",
       "    </tr>\n",
       "    <tr>\n",
       "      <th>50%</th>\n",
       "      <td>0.489933</td>\n",
       "      <td>0.000000</td>\n",
       "      <td>0.400000</td>\n",
       "      <td>1.000000</td>\n",
       "      <td>0.166667</td>\n",
       "      <td>1.000000</td>\n",
       "      <td>0.483871</td>\n",
       "      <td>0.444444</td>\n",
       "      <td>0.516667</td>\n",
       "      <td>0.428571</td>\n",
       "      <td>...</td>\n",
       "      <td>0.286224</td>\n",
       "      <td>0.498316</td>\n",
       "      <td>0.520151</td>\n",
       "      <td>0.500000</td>\n",
       "      <td>0.277778</td>\n",
       "      <td>0.500000</td>\n",
       "      <td>1.000000</td>\n",
       "      <td>1.000000</td>\n",
       "      <td>1.000000</td>\n",
       "      <td>0.666667</td>\n",
       "    </tr>\n",
       "    <tr>\n",
       "      <th>75%</th>\n",
       "      <td>0.746980</td>\n",
       "      <td>1.000000</td>\n",
       "      <td>0.680000</td>\n",
       "      <td>1.000000</td>\n",
       "      <td>0.388889</td>\n",
       "      <td>1.000000</td>\n",
       "      <td>0.741935</td>\n",
       "      <td>0.777778</td>\n",
       "      <td>0.758333</td>\n",
       "      <td>0.857143</td>\n",
       "      <td>...</td>\n",
       "      <td>0.485204</td>\n",
       "      <td>0.750168</td>\n",
       "      <td>0.757371</td>\n",
       "      <td>0.785714</td>\n",
       "      <td>0.500000</td>\n",
       "      <td>0.777778</td>\n",
       "      <td>1.000000</td>\n",
       "      <td>1.000000</td>\n",
       "      <td>1.000000</td>\n",
       "      <td>1.000000</td>\n",
       "    </tr>\n",
       "    <tr>\n",
       "      <th>max</th>\n",
       "      <td>1.000000</td>\n",
       "      <td>1.000000</td>\n",
       "      <td>1.000000</td>\n",
       "      <td>1.000000</td>\n",
       "      <td>1.000000</td>\n",
       "      <td>1.000000</td>\n",
       "      <td>1.000000</td>\n",
       "      <td>1.000000</td>\n",
       "      <td>1.000000</td>\n",
       "      <td>1.000000</td>\n",
       "      <td>...</td>\n",
       "      <td>1.000000</td>\n",
       "      <td>1.000000</td>\n",
       "      <td>1.000000</td>\n",
       "      <td>1.000000</td>\n",
       "      <td>1.000000</td>\n",
       "      <td>1.000000</td>\n",
       "      <td>1.000000</td>\n",
       "      <td>1.000000</td>\n",
       "      <td>1.000000</td>\n",
       "      <td>1.000000</td>\n",
       "    </tr>\n",
       "  </tbody>\n",
       "</table>\n",
       "<p>8 rows × 21 columns</p>\n",
       "</div>"
      ],
      "text/plain": [
       "       battery_power         blue  clock_speed     dual_sim           fc  \\\n",
       "count    2721.000000  2721.000000  2721.000000  2721.000000  2721.000000   \n",
       "mean        0.494282     0.488423     0.409247     0.508269     0.238985   \n",
       "std         0.293952     0.499958     0.328669     0.500024     0.241883   \n",
       "min         0.000000     0.000000     0.000000     0.000000     0.000000   \n",
       "25%         0.233557     0.000000     0.080000     0.000000     0.055556   \n",
       "50%         0.489933     0.000000     0.400000     1.000000     0.166667   \n",
       "75%         0.746980     1.000000     0.680000     1.000000     0.388889   \n",
       "max         1.000000     1.000000     1.000000     1.000000     1.000000   \n",
       "\n",
       "            four_g   int_memory        m_dep    mobile_wt      n_cores  ...  \\\n",
       "count  2721.000000  2721.000000  2721.000000  2721.000000  2721.000000  ...   \n",
       "mean      0.514149     0.490190     0.448242     0.506517     0.504069  ...   \n",
       "std       0.499892     0.293178     0.318928     0.294342     0.326937  ...   \n",
       "min       0.000000     0.000000     0.000000     0.000000     0.000000  ...   \n",
       "25%       0.000000     0.225806     0.111111     0.241667     0.285714  ...   \n",
       "50%       1.000000     0.483871     0.444444     0.516667     0.428571  ...   \n",
       "75%       1.000000     0.741935     0.777778     0.758333     0.857143  ...   \n",
       "max       1.000000     1.000000     1.000000     1.000000     1.000000  ...   \n",
       "\n",
       "         px_height     px_width          ram         sc_h         sc_w  \\\n",
       "count  2721.000000  2721.000000  2721.000000  2721.000000  2721.000000   \n",
       "mean      0.327427     0.499883     0.505929     0.524203     0.318857   \n",
       "std       0.226641     0.289104     0.292533     0.300177     0.242910   \n",
       "min       0.000000     0.000000     0.000000     0.000000     0.000000   \n",
       "25%       0.140306     0.247811     0.254531     0.285714     0.111111   \n",
       "50%       0.286224     0.498316     0.520151     0.500000     0.277778   \n",
       "75%       0.485204     0.750168     0.757371     0.785714     0.500000   \n",
       "max       1.000000     1.000000     1.000000     1.000000     1.000000   \n",
       "\n",
       "         talk_time      three_g  touch_screen         wifi  price_range  \n",
       "count  2721.000000  2721.000000   2721.000000  2721.000000  2721.000000  \n",
       "mean      0.498489     0.755972      0.505696     0.514884     0.507902  \n",
       "std       0.301650     0.429588      0.500059     0.499870     0.373484  \n",
       "min       0.000000     0.000000      0.000000     0.000000     0.000000  \n",
       "25%       0.222222     1.000000      0.000000     0.000000     0.333333  \n",
       "50%       0.500000     1.000000      1.000000     1.000000     0.666667  \n",
       "75%       0.777778     1.000000      1.000000     1.000000     1.000000  \n",
       "max       1.000000     1.000000      1.000000     1.000000     1.000000  \n",
       "\n",
       "[8 rows x 21 columns]"
      ]
     },
     "execution_count": 63,
     "metadata": {},
     "output_type": "execute_result"
    }
   ],
   "source": [
    "data_norm = (data - data.min(axis=0)) / (data.max(axis=0) - data.min(axis=0))\n",
    "data_norm.describe()"
   ]
  },
  {
   "cell_type": "markdown",
   "id": "16f9cb4c",
   "metadata": {},
   "source": [
    "## 6. Обучающая и тестовая выборки\n",
    "Для классификации используем все признаки. Разобьем данные на обучающую и тестовую выборки. За обучающую примем 75%, оставшиеся  - за тестовую"
   ]
  },
  {
   "cell_type": "code",
   "execution_count": 64,
   "id": "a448ae95",
   "metadata": {},
   "outputs": [
    {
     "data": {
      "text/plain": [
       "(2040, 681)"
      ]
     },
     "execution_count": 64,
     "metadata": {},
     "output_type": "execute_result"
    }
   ],
   "source": [
    "X = data_norm.drop(['price_range'], axis=1)\n",
    "y = data['price_range']\n",
    "from sklearn.model_selection import train_test_split\n",
    "X_train, X_test, y_train, y_test = train_test_split(X, y, test_size = 0.25, random_state = 42)\n",
    "\n",
    "N_train, _ = X_train.shape \n",
    "N_test,  _ = X_test.shape \n",
    "\n",
    "N_train, N_test"
   ]
  },
  {
   "cell_type": "markdown",
   "id": "e055206e",
   "metadata": {},
   "source": [
    "## 7-8-9. Обучение модели\n",
    "### K ближайших соседей\n",
    "Пусть К = 5 (по умолчанию)"
   ]
  },
  {
   "cell_type": "code",
   "execution_count": 65,
   "id": "f93cb0d8",
   "metadata": {},
   "outputs": [
    {
     "name": "stdout",
     "output_type": "stream",
     "text": [
      "Accuracy. Train : 66.32%, Test: 44.93%. \n"
     ]
    }
   ],
   "source": [
    "from sklearn.neighbors import KNeighborsClassifier\n",
    "\n",
    "knn_def = KNeighborsClassifier()\n",
    "knn_def.fit(X_train, y_train)\n",
    "knn_train_pred = 100 * knn_def.score(X_train, y_train)\n",
    "knn_test_pred = 100 * knn_def.score(X_test, y_test)\n",
    "print(\"Accuracy. Train : {:.2f}%, Test: {:.2f}%. \".format(knn_train_pred, knn_test_pred))"
   ]
  },
  {
   "cell_type": "markdown",
   "id": "91c9d69a",
   "metadata": {},
   "source": [
    "Увеличим число соседей до 7"
   ]
  },
  {
   "cell_type": "code",
   "execution_count": 66,
   "id": "91f71e36",
   "metadata": {},
   "outputs": [
    {
     "name": "stdout",
     "output_type": "stream",
     "text": [
      "Accuracy. Train : 64.51%, Test: 44.49%. \n"
     ]
    }
   ],
   "source": [
    "knn_7 = KNeighborsClassifier(n_neighbors = 7)\n",
    "knn_7.fit(X_train, y_train)\n",
    "knn_train_pred = 100 * knn_7.score(X_train, y_train)\n",
    "knn_test_pred = 100 * knn_7.score(X_test, y_test)\n",
    "print(\"Accuracy. Train : {:.2f}%, Test: {:.2f}%. \".format(knn_train_pred, knn_test_pred))"
   ]
  },
  {
   "cell_type": "markdown",
   "id": "5258d37d",
   "metadata": {},
   "source": [
    "Точность полученной модели снизилась, попробуем К = 3"
   ]
  },
  {
   "cell_type": "code",
   "execution_count": 67,
   "id": "17b6a187",
   "metadata": {},
   "outputs": [
    {
     "name": "stdout",
     "output_type": "stream",
     "text": [
      "Accuracy. Train : 77.84%, Test: 42.44%. \n"
     ]
    }
   ],
   "source": [
    "knn_3 = KNeighborsClassifier(n_neighbors = 3)\n",
    "knn_3.fit(X_train, y_train)\n",
    "knn_train_pred = 100 * knn_3.score(X_train, y_train)\n",
    "knn_test_pred = 100 * knn_3.score(X_test, y_test)\n",
    "print(\"Accuracy. Train : {:.2f}%, Test: {:.2f}%. \".format(knn_train_pred, knn_test_pred))"
   ]
  },
  {
   "cell_type": "markdown",
   "id": "5542c53d",
   "metadata": {},
   "source": [
    "Точность увеличилась. Вычислим среднеквадратическую ошибку для алгоритма с количеством ближайших соседей по умолчанию"
   ]
  },
  {
   "cell_type": "code",
   "execution_count": 68,
   "id": "146ce68f",
   "metadata": {},
   "outputs": [
    {
     "name": "stdout",
     "output_type": "stream",
     "text": [
      "MSE. Train : 2.04, Test: 2.24. \n"
     ]
    }
   ],
   "source": [
    "knn_train_pred = knn_def.score(X_train, y_train)\n",
    "knn_test_pred = knn_def.score(X_test, y_test)\n",
    "MSE_train = np.mean((knn_train_pred - y_train)**2)\n",
    "MSE_test  = np.mean((knn_test_pred - y_test)**2)\n",
    "print(\"MSE. Train : {:.2f}, Test: {:.2f}. \".format(MSE_train, MSE_test))"
   ]
  },
  {
   "cell_type": "markdown",
   "id": "4009819f",
   "metadata": {},
   "source": [
    "### Дерево решений\n",
    "Воспользуемся параметрами по умолчанию - глубина отсутствует"
   ]
  },
  {
   "cell_type": "code",
   "execution_count": 69,
   "id": "529b4198",
   "metadata": {},
   "outputs": [
    {
     "name": "stdout",
     "output_type": "stream",
     "text": [
      "Depth: 12\n",
      "Leaves: 150\n",
      "Accuracy. Train : 100.00%, Test: 91.48%. \n"
     ]
    }
   ],
   "source": [
    "from sklearn.tree import DecisionTreeClassifier\n",
    "desTrCl = DecisionTreeClassifier()\n",
    "desTrCl.fit(X_train,y_train)\n",
    "desTrCl_train_sc = 100 * desTrCl.score(X_train, y_train)\n",
    "print ('Depth:', desTrCl.get_depth())\n",
    "print ('Leaves:', desTrCl.get_n_leaves())\n",
    "desTrCl_test_sc = 100 * desTrCl.score(X_test, y_test)\n",
    "print(\"Accuracy. Train : {:.2f}%, Test: {:.2f}%. \".format(desTrCl_train_sc, desTrCl_test_sc))"
   ]
  },
  {
   "cell_type": "markdown",
   "id": "68f538d2",
   "metadata": {},
   "source": [
    "Максимальная глубина = 12. Уменьшим до 6"
   ]
  },
  {
   "cell_type": "code",
   "execution_count": 70,
   "id": "ff1c106f",
   "metadata": {},
   "outputs": [
    {
     "name": "stdout",
     "output_type": "stream",
     "text": [
      "Depth: 6\n",
      "Leaves: 55\n",
      "Accuracy. Train : 93.14%, Test: 88.11%. \n"
     ]
    }
   ],
   "source": [
    "desTrCl_6 = DecisionTreeClassifier(max_depth=6)\n",
    "desTrCl_6.fit(X_train,y_train)\n",
    "desTrCl_train_sc = 100 * desTrCl_6.score(X_train, y_train)\n",
    "print ('Depth:', desTrCl_6.get_depth())\n",
    "print ('Leaves:', desTrCl_6.get_n_leaves())\n",
    "desTrCl_test_sc = 100 * desTrCl_6.score(X_test, y_test)\n",
    "print(\"Accuracy. Train : {:.2f}%, Test: {:.2f}%. \".format(desTrCl_train_sc, desTrCl_test_sc))"
   ]
  },
  {
   "cell_type": "markdown",
   "id": "4e1a09ac",
   "metadata": {},
   "source": [
    "Качество модели на тестовой и обучающей выборках снизилось.\n",
    "\n",
    "Увеличим глубину до 9"
   ]
  },
  {
   "cell_type": "code",
   "execution_count": 72,
   "id": "80b46a45",
   "metadata": {},
   "outputs": [
    {
     "name": "stdout",
     "output_type": "stream",
     "text": [
      "Depth: 9\n",
      "Leaves: 138\n",
      "Accuracy. Train : 99.41%, Test: 90.60%. \n"
     ]
    }
   ],
   "source": [
    "desTrCl_9 = DecisionTreeClassifier(max_depth=9)\n",
    "desTrCl_9.fit(X_train,y_train)\n",
    "desTrCl_train_sc = 100 * desTrCl_9.score(X_train, y_train)\n",
    "print ('Depth:', desTrCl_9.get_depth())\n",
    "print ('Leaves:', desTrCl_9.get_n_leaves())\n",
    "desTrCl_test_sc = 100 * desTrCl_9.score(X_test, y_test)\n",
    "print(\"Accuracy. Train : {:.2f}%, Test: {:.2f}%. \".format(desTrCl_train_sc, desTrCl_test_sc))"
   ]
  },
  {
   "cell_type": "markdown",
   "id": "225ee41b",
   "metadata": {},
   "source": [
    "Качество модели на тестовой и обучающей выборках повысилось.\n",
    "\n",
    "Алгоритм дерева решений оказался точнее алгоритма к-ближайших соседей при оптимальных параметрах каждого из методов, как на обучающей выборке, так и на тестовой.\n",
    "\n",
    "## 10. Общие выводы\n",
    "\n",
    "В работе производился анализ данных о ценовом диапазоне мобильных телефонов и решение задачи классификации с помощью моделей, которые были натренированы методами К-ближайших соседей и дерева решений.\n",
    "В ходе работы проведены:\n",
    "1. Работа с выбросами\n",
    "2. Вычисление основных статистических характеристик и их анализ\n",
    "3. Обработка пропущенных значений (удаление строк с пропущенными значениями)\n",
    "4. Нормализация количественных признаков (с помощью линейного преобразования к отрезку [0, 1])\n",
    "5. Разбиение данных на обучающую и тестовую выборки\n",
    "6. Выбор алгоритма классификации и проверка качества модели\n",
    "7. Сравнение 2 моделей, алгоритм дерева решений оказался лучше метода к-ближайших соседей."
   ]
  }
 ],
 "metadata": {
  "kernelspec": {
   "display_name": "Python 3",
   "language": "python",
   "name": "python3"
  },
  "language_info": {
   "codemirror_mode": {
    "name": "ipython",
    "version": 3
   },
   "file_extension": ".py",
   "mimetype": "text/x-python",
   "name": "python",
   "nbconvert_exporter": "python",
   "pygments_lexer": "ipython3",
   "version": "3.8.8"
  }
 },
 "nbformat": 4,
 "nbformat_minor": 5
}
