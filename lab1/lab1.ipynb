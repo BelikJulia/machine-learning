{
 "cells": [
  {
   "cell_type": "code",
   "execution_count": 1,
   "id": "571f7660",
   "metadata": {},
   "outputs": [],
   "source": [
    "import numpy as np\n",
    "import matplotlib.pyplot as plt\n",
    "%matplotlib inline \n",
    "import pandas as pd\n",
    "import seaborn as sns\n",
    "import sklearn"
   ]
  },
  {
   "cell_type": "markdown",
   "id": "bc913ec9",
   "metadata": {},
   "source": [
    "# 0. Описание задачи\n",
    "Определение диапозона цен на телефоны при известных параметрах: емкость батареи, поддержка bluetooth, количество симкарт и других.\n",
    "## 1. Загрузка и чтение данных\n",
    "Весь датасет находится в репозитории для сдачи лабораторный работ в папке DataSet"
   ]
  },
  {
   "cell_type": "code",
   "execution_count": 2,
   "id": "400f7993",
   "metadata": {},
   "outputs": [
    {
     "data": {
      "text/plain": [
       "(3000, 21)"
      ]
     },
     "execution_count": 2,
     "metadata": {},
     "output_type": "execute_result"
    }
   ],
   "source": [
    "url = \"https://raw.githubusercontent.com/BelikJulia/machine-learning/main/DataSet/MP.csv\"\n",
    "data_raw = pd.read_csv(url)\n",
    "data_raw.shape"
   ]
  },
  {
   "cell_type": "markdown",
   "id": "f715a7ef",
   "metadata": {},
   "source": [
    "Таблица содержит данный о 3001 модели телефонов с описанием 20 параметров"
   ]
  },
  {
   "cell_type": "code",
   "execution_count": 3,
   "id": "367d2a1a",
   "metadata": {},
   "outputs": [
    {
     "data": {
      "text/html": [
       "<div>\n",
       "<style scoped>\n",
       "    .dataframe tbody tr th:only-of-type {\n",
       "        vertical-align: middle;\n",
       "    }\n",
       "\n",
       "    .dataframe tbody tr th {\n",
       "        vertical-align: top;\n",
       "    }\n",
       "\n",
       "    .dataframe thead th {\n",
       "        text-align: right;\n",
       "    }\n",
       "</style>\n",
       "<table border=\"1\" class=\"dataframe\">\n",
       "  <thead>\n",
       "    <tr style=\"text-align: right;\">\n",
       "      <th></th>\n",
       "      <th>battery_power</th>\n",
       "      <th>blue</th>\n",
       "      <th>clock_speed</th>\n",
       "      <th>dual_sim</th>\n",
       "      <th>fc</th>\n",
       "      <th>four_g</th>\n",
       "      <th>int_memory</th>\n",
       "      <th>m_dep</th>\n",
       "      <th>mobile_wt</th>\n",
       "      <th>n_cores</th>\n",
       "      <th>...</th>\n",
       "      <th>px_height</th>\n",
       "      <th>px_width</th>\n",
       "      <th>ram</th>\n",
       "      <th>sc_h</th>\n",
       "      <th>sc_w</th>\n",
       "      <th>talk_time</th>\n",
       "      <th>three_g</th>\n",
       "      <th>touch_screen</th>\n",
       "      <th>wifi</th>\n",
       "      <th>price_range</th>\n",
       "    </tr>\n",
       "  </thead>\n",
       "  <tbody>\n",
       "    <tr>\n",
       "      <th>0</th>\n",
       "      <td>NaN</td>\n",
       "      <td>NaN</td>\n",
       "      <td>2.2</td>\n",
       "      <td>0.0</td>\n",
       "      <td>1.0</td>\n",
       "      <td>0.0</td>\n",
       "      <td>7.0</td>\n",
       "      <td>0.6</td>\n",
       "      <td>188.0</td>\n",
       "      <td>2.0</td>\n",
       "      <td>...</td>\n",
       "      <td>20.0</td>\n",
       "      <td>756.0</td>\n",
       "      <td>2549.0</td>\n",
       "      <td>9.0</td>\n",
       "      <td>7.0</td>\n",
       "      <td>19.0</td>\n",
       "      <td>0.0</td>\n",
       "      <td>0.0</td>\n",
       "      <td>1.0</td>\n",
       "      <td>1</td>\n",
       "    </tr>\n",
       "    <tr>\n",
       "      <th>1</th>\n",
       "      <td>1021.0</td>\n",
       "      <td>1.0</td>\n",
       "      <td>0.5</td>\n",
       "      <td>1.0</td>\n",
       "      <td>0.0</td>\n",
       "      <td>1.0</td>\n",
       "      <td>53.0</td>\n",
       "      <td>0.7</td>\n",
       "      <td>136.0</td>\n",
       "      <td>3.0</td>\n",
       "      <td>...</td>\n",
       "      <td>905.0</td>\n",
       "      <td>1988.0</td>\n",
       "      <td>2631.0</td>\n",
       "      <td>17.0</td>\n",
       "      <td>3.0</td>\n",
       "      <td>7.0</td>\n",
       "      <td>1.0</td>\n",
       "      <td>1.0</td>\n",
       "      <td>0.0</td>\n",
       "      <td>2</td>\n",
       "    </tr>\n",
       "    <tr>\n",
       "      <th>2</th>\n",
       "      <td>563.0</td>\n",
       "      <td>1.0</td>\n",
       "      <td>0.5</td>\n",
       "      <td>1.0</td>\n",
       "      <td>2.0</td>\n",
       "      <td>1.0</td>\n",
       "      <td>41.0</td>\n",
       "      <td>0.9</td>\n",
       "      <td>145.0</td>\n",
       "      <td>5.0</td>\n",
       "      <td>...</td>\n",
       "      <td>1263.0</td>\n",
       "      <td>1716.0</td>\n",
       "      <td>2603.0</td>\n",
       "      <td>11.0</td>\n",
       "      <td>2.0</td>\n",
       "      <td>9.0</td>\n",
       "      <td>1.0</td>\n",
       "      <td>1.0</td>\n",
       "      <td>0.0</td>\n",
       "      <td>2</td>\n",
       "    </tr>\n",
       "    <tr>\n",
       "      <th>3</th>\n",
       "      <td>615.0</td>\n",
       "      <td>1.0</td>\n",
       "      <td>2.5</td>\n",
       "      <td>0.0</td>\n",
       "      <td>0.0</td>\n",
       "      <td>0.0</td>\n",
       "      <td>10.0</td>\n",
       "      <td>0.8</td>\n",
       "      <td>131.0</td>\n",
       "      <td>6.0</td>\n",
       "      <td>...</td>\n",
       "      <td>1216.0</td>\n",
       "      <td>1786.0</td>\n",
       "      <td>2769.0</td>\n",
       "      <td>16.0</td>\n",
       "      <td>8.0</td>\n",
       "      <td>11.0</td>\n",
       "      <td>1.0</td>\n",
       "      <td>0.0</td>\n",
       "      <td>0.0</td>\n",
       "      <td>2</td>\n",
       "    </tr>\n",
       "    <tr>\n",
       "      <th>4</th>\n",
       "      <td>1821.0</td>\n",
       "      <td>1.0</td>\n",
       "      <td>1.2</td>\n",
       "      <td>0.0</td>\n",
       "      <td>13.0</td>\n",
       "      <td>1.0</td>\n",
       "      <td>44.0</td>\n",
       "      <td>0.6</td>\n",
       "      <td>141.0</td>\n",
       "      <td>2.0</td>\n",
       "      <td>...</td>\n",
       "      <td>1208.0</td>\n",
       "      <td>1212.0</td>\n",
       "      <td>1411.0</td>\n",
       "      <td>8.0</td>\n",
       "      <td>2.0</td>\n",
       "      <td>15.0</td>\n",
       "      <td>1.0</td>\n",
       "      <td>1.0</td>\n",
       "      <td>0.0</td>\n",
       "      <td>1</td>\n",
       "    </tr>\n",
       "  </tbody>\n",
       "</table>\n",
       "<p>5 rows × 21 columns</p>\n",
       "</div>"
      ],
      "text/plain": [
       "   battery_power  blue  clock_speed  dual_sim    fc  four_g  int_memory  \\\n",
       "0            NaN   NaN          2.2       0.0   1.0     0.0         7.0   \n",
       "1         1021.0   1.0          0.5       1.0   0.0     1.0        53.0   \n",
       "2          563.0   1.0          0.5       1.0   2.0     1.0        41.0   \n",
       "3          615.0   1.0          2.5       0.0   0.0     0.0        10.0   \n",
       "4         1821.0   1.0          1.2       0.0  13.0     1.0        44.0   \n",
       "\n",
       "   m_dep  mobile_wt  n_cores  ...  px_height  px_width     ram  sc_h  sc_w  \\\n",
       "0    0.6      188.0      2.0  ...       20.0     756.0  2549.0   9.0   7.0   \n",
       "1    0.7      136.0      3.0  ...      905.0    1988.0  2631.0  17.0   3.0   \n",
       "2    0.9      145.0      5.0  ...     1263.0    1716.0  2603.0  11.0   2.0   \n",
       "3    0.8      131.0      6.0  ...     1216.0    1786.0  2769.0  16.0   8.0   \n",
       "4    0.6      141.0      2.0  ...     1208.0    1212.0  1411.0   8.0   2.0   \n",
       "\n",
       "   talk_time  three_g  touch_screen  wifi  price_range  \n",
       "0       19.0      0.0           0.0   1.0            1  \n",
       "1        7.0      1.0           1.0   0.0            2  \n",
       "2        9.0      1.0           1.0   0.0            2  \n",
       "3       11.0      1.0           0.0   0.0            2  \n",
       "4       15.0      1.0           1.0   0.0            1  \n",
       "\n",
       "[5 rows x 21 columns]"
      ]
     },
     "execution_count": 3,
     "metadata": {},
     "output_type": "execute_result"
    }
   ],
   "source": [
    "data_raw.head()"
   ]
  },
  {
   "cell_type": "markdown",
   "id": "40324e66",
   "metadata": {},
   "source": [
    "Признаки:\n",
    "1. battery_power - емкость батареи в mAh\n",
    "2. blue - наличие Bluetooth (0 - нет, 1 - да)\n",
    "3. clock_speed - скорость, с которой микропроцессор выполняет инструкции \n",
    "4. dual_sim - поддержка двух SIM-карт (0 - нет, 1 - да)\n",
    "5. fc - разрешение фронтальной камеры в Мп\n",
    "6. four_g - поддержка 4G (0 - нет, 1 - да)\n",
    "7. int_memory - внутренняя память в Гб\n",
    "8. m_dep - глубина телефона в см\n",
    "9. mobile_wt - вес телефона\n",
    "10. n_cores - количество ядер процессора\n",
    "11. pc - разрешение основной камеры в Мп\n",
    "12. px_height - разрешение в высоту в пикселях\n",
    "13. px_width - разрешение в ширину в пикселях\n",
    "14. ram - оперативная память в Мб\n",
    "15. sc_h - высота экрана в см\n",
    "16. sc_w - ширина экрана в см\n",
    "17. talk_time - максимальное время, в течение которого хватит одной зарядки аккумулятора, когда вы говорите по телефону\n",
    "18. three_g - поддержка 3G (0 - нет, 1 - да)\n",
    "19. touch_screen - наличие сенсорного экрана (0 - нет, 1 - да)\n",
    "20. wifi - наличие wifi (0 - нет, 1 - да)\n",
    "21. price_range - ценовой диапазон"
   ]
  },
  {
   "cell_type": "code",
   "execution_count": 4,
   "id": "16b60e60",
   "metadata": {},
   "outputs": [
    {
     "data": {
      "text/plain": [
       "Index(['battery_power', 'blue', 'clock_speed', 'dual_sim', 'fc', 'four_g',\n",
       "       'int_memory', 'm_dep', 'mobile_wt', 'n_cores', 'pc', 'px_height',\n",
       "       'px_width', 'ram', 'sc_h', 'sc_w', 'talk_time', 'three_g',\n",
       "       'touch_screen', 'wifi', 'price_range'],\n",
       "      dtype='object')"
      ]
     },
     "execution_count": 4,
     "metadata": {},
     "output_type": "execute_result"
    }
   ],
   "source": [
    "data_raw.columns"
   ]
  },
  {
   "cell_type": "markdown",
   "id": "c82e109b",
   "metadata": {},
   "source": [
    "Имена строк (совпадают с номерами)"
   ]
  },
  {
   "cell_type": "code",
   "execution_count": 5,
   "id": "b9049353",
   "metadata": {},
   "outputs": [
    {
     "data": {
      "text/plain": [
       "RangeIndex(start=0, stop=3000, step=1)"
      ]
     },
     "execution_count": 5,
     "metadata": {},
     "output_type": "execute_result"
    }
   ],
   "source": [
    "data_raw.index"
   ]
  },
  {
   "cell_type": "code",
   "execution_count": 6,
   "id": "92fe0b2f",
   "metadata": {},
   "outputs": [
    {
     "name": "stdout",
     "output_type": "stream",
     "text": [
      "<class 'pandas.core.frame.DataFrame'>\n",
      "RangeIndex: 3000 entries, 0 to 2999\n",
      "Data columns (total 21 columns):\n",
      " #   Column         Non-Null Count  Dtype  \n",
      "---  ------         --------------  -----  \n",
      " 0   battery_power  2995 non-null   float64\n",
      " 1   blue           2990 non-null   float64\n",
      " 2   clock_speed    2996 non-null   float64\n",
      " 3   dual_sim       2988 non-null   float64\n",
      " 4   fc             2995 non-null   float64\n",
      " 5   four_g         2989 non-null   float64\n",
      " 6   int_memory     2995 non-null   float64\n",
      " 7   m_dep          2995 non-null   float64\n",
      " 8   mobile_wt      2995 non-null   float64\n",
      " 9   n_cores        2995 non-null   float64\n",
      " 10  pc             2993 non-null   float64\n",
      " 11  px_height      2994 non-null   float64\n",
      " 12  px_width       2997 non-null   float64\n",
      " 13  ram            2997 non-null   float64\n",
      " 14  sc_h           2993 non-null   float64\n",
      " 15  sc_w           2994 non-null   float64\n",
      " 16  talk_time      2995 non-null   float64\n",
      " 17  three_g        2994 non-null   float64\n",
      " 18  touch_screen   2997 non-null   float64\n",
      " 19  wifi           2997 non-null   float64\n",
      " 20  price_range    3000 non-null   int64  \n",
      "dtypes: float64(20), int64(1)\n",
      "memory usage: 492.3 KB\n"
     ]
    }
   ],
   "source": [
    "data_raw.info()"
   ]
  },
  {
   "cell_type": "markdown",
   "id": "24b4b60c",
   "metadata": {},
   "source": [
    " 0. battery_power - числовой \n",
    " 1. blue - категориальный (2)\n",
    " 2. clock_speed - числовой\n",
    " 3. dual_sim - категориальный (2)\n",
    " 4. fc - числовой\n",
    " 5. four_g - категориальный (2)\n",
    " 6. int_memory - числовой\n",
    " 7. m_dep - числовой\n",
    " 8. mobile_wt - числовой\n",
    " 9. n_cores - числовой\n",
    " 10. pc - числовой\n",
    " 11. px_height - числовой\n",
    " 12. px_width - числовой\n",
    " 13. ram - числовой\n",
    " 14. sc_h - числовой\n",
    " 15. sc_w - числовой\n",
    " 16. talk_time - числовой\n",
    " 17. three_g - категориальный (2)\n",
    " 18. touch_screen - категориальный (2)\n",
    " 19. wifi - категориальный (2)\n",
    " 20. price_range - категориальный (4)\n",
    " \n",
    "### Обработка выбросов"
   ]
  },
  {
   "cell_type": "code",
   "execution_count": 7,
   "id": "9224feda",
   "metadata": {},
   "outputs": [
    {
     "data": {
      "image/png": "[encoded data removed]",
      "text/plain": [
       "<Figure size 432x288 with 1 Axes>"
      ]
     },
     "metadata": {
      "needs_background": "light"
     },
     "output_type": "display_data"
    }
   ],
   "source": [
    "plt.scatter(data_raw['battery_power'], data_raw['price_range'], alpha=0.4)\n",
    "pass"
   ]
  },
  {
   "cell_type": "markdown",
   "id": "de6f9499",
   "metadata": {},
   "source": [
    "Заметим, что есть выбросы"
   ]
  },
  {
   "cell_type": "code",
   "execution_count": 8,
   "id": "9e1cba6a",
   "metadata": {},
   "outputs": [
    {
     "data": {
      "text/plain": [
       "0.005     504.00\n",
       "0.010     510.94\n",
       "0.050     569.70\n",
       "0.100     642.00\n",
       "0.500    1234.00\n",
       "0.900    1854.00\n",
       "0.950    1933.00\n",
       "0.990    1987.06\n",
       "0.995    1993.03\n",
       "Name: battery_power, dtype: float64"
      ]
     },
     "execution_count": 8,
     "metadata": {},
     "output_type": "execute_result"
    }
   ],
   "source": [
    "data_raw['battery_power'].quantile([0.005,.01,.05,.1,.5,.9,.95,.99,.995])"
   ]
  },
  {
   "cell_type": "markdown",
   "id": "58cee3d5",
   "metadata": {},
   "source": [
    "99,9% значений емкости батареи находятся в диапазоне от 504 до 1993"
   ]
  },
  {
   "cell_type": "code",
   "execution_count": 9,
   "id": "f04d7de7",
   "metadata": {},
   "outputs": [
    {
     "data": {
      "image/png": "[encoded data removed]",
      "text/plain": [
       "<Figure size 432x288 with 1 Axes>"
      ]
     },
     "metadata": {
      "needs_background": "light"
     },
     "output_type": "display_data"
    }
   ],
   "source": [
    "plt.scatter(data_raw['blue'], data_raw['price_range'], alpha=0.4)\n",
    "pass"
   ]
  },
  {
   "cell_type": "code",
   "execution_count": 10,
   "id": "cd1871da",
   "metadata": {},
   "outputs": [
    {
     "data": {
      "text/plain": [
       "0.005    0.0\n",
       "0.010    0.0\n",
       "0.050    0.0\n",
       "0.100    0.0\n",
       "0.500    1.0\n",
       "0.900    1.0\n",
       "0.950    1.0\n",
       "0.990    1.0\n",
       "0.995    1.0\n",
       "Name: blue, dtype: float64"
      ]
     },
     "execution_count": 10,
     "metadata": {},
     "output_type": "execute_result"
    }
   ],
   "source": [
    "data_raw['blue'].quantile([0.005,.01,.05,.1,.5,.9,.95,.99,.995])"
   ]
  },
  {
   "cell_type": "markdown",
   "id": "cf8356c2",
   "metadata": {},
   "source": [
    "Выбросов нет"
   ]
  },
  {
   "cell_type": "code",
   "execution_count": 11,
   "id": "aaeaef5c",
   "metadata": {},
   "outputs": [
    {
     "data": {
      "image/png": "[encoded data removed]",
      "text/plain": [
       "<Figure size 432x288 with 1 Axes>"
      ]
     },
     "metadata": {
      "needs_background": "light"
     },
     "output_type": "display_data"
    }
   ],
   "source": [
    "plt.scatter(data_raw['clock_speed'], data_raw['price_range'], alpha=0.4)\n",
    "pass"
   ]
  },
  {
   "cell_type": "code",
   "execution_count": 12,
   "id": "3668bed3",
   "metadata": {},
   "outputs": [
    {
     "data": {
      "text/plain": [
       "0.005    0.5\n",
       "0.010    0.5\n",
       "0.050    0.5\n",
       "0.100    0.5\n",
       "0.500    1.5\n",
       "0.900    2.7\n",
       "0.950    2.9\n",
       "0.990    3.0\n",
       "0.995    3.0\n",
       "Name: clock_speed, dtype: float64"
      ]
     },
     "execution_count": 12,
     "metadata": {},
     "output_type": "execute_result"
    }
   ],
   "source": [
    "data_raw['clock_speed'].quantile([0.005,.01,.05,.1,.5,.9,.95,.99,.995])"
   ]
  },
  {
   "cell_type": "markdown",
   "id": "6cfa6f0d",
   "metadata": {},
   "source": [
    "Есть выбросы, которые удалим далее"
   ]
  },
  {
   "cell_type": "code",
   "execution_count": 13,
   "id": "97dfce63",
   "metadata": {},
   "outputs": [
    {
     "data": {
      "image/png": "[encoded data removed]",
      "text/plain": [
       "<Figure size 432x288 with 1 Axes>"
      ]
     },
     "metadata": {
      "needs_background": "light"
     },
     "output_type": "display_data"
    }
   ],
   "source": [
    "plt.scatter(data_raw['dual_sim'], data_raw['price_range'], alpha=0.4)\n",
    "pass"
   ]
  },
  {
   "cell_type": "markdown",
   "id": "fe2d3602",
   "metadata": {},
   "source": [
    "Выбросов нет"
   ]
  },
  {
   "cell_type": "code",
   "execution_count": 14,
   "id": "e584a448",
   "metadata": {},
   "outputs": [
    {
     "data": {
      "image/png": "[encoded data removed]",
      "text/plain": [
       "<Figure size 432x288 with 1 Axes>"
      ]
     },
     "metadata": {
      "needs_background": "light"
     },
     "output_type": "display_data"
    }
   ],
   "source": [
    "plt.scatter(data_raw['fc'], data_raw['price_range'], alpha=0.4)\n",
    "pass"
   ]
  },
  {
   "cell_type": "code",
   "execution_count": 15,
   "id": "bc241165",
   "metadata": {},
   "outputs": [
    {
     "data": {
      "text/plain": [
       "0.005     0.0\n",
       "0.010     0.0\n",
       "0.050     0.0\n",
       "0.100     0.0\n",
       "0.500     3.0\n",
       "0.900    11.0\n",
       "0.950    13.0\n",
       "0.990    17.0\n",
       "0.995    18.0\n",
       "Name: fc, dtype: float64"
      ]
     },
     "execution_count": 15,
     "metadata": {},
     "output_type": "execute_result"
    }
   ],
   "source": [
    "data_raw['fc'].quantile([0.005,.01,.05,.1,.5,.9,.95,.99,.995])"
   ]
  },
  {
   "cell_type": "markdown",
   "id": "f0e0889f",
   "metadata": {},
   "source": [
    "Есть выбросы"
   ]
  },
  {
   "cell_type": "code",
   "execution_count": 16,
   "id": "533faf62",
   "metadata": {},
   "outputs": [
    {
     "data": {
      "image/png": "[encoded data removed]",
      "text/plain": [
       "<Figure size 432x288 with 1 Axes>"
      ]
     },
     "metadata": {
      "needs_background": "light"
     },
     "output_type": "display_data"
    }
   ],
   "source": [
    "plt.scatter(data_raw['four_g'], data_raw['price_range'], alpha=0.4)\n",
    "pass"
   ]
  },
  {
   "cell_type": "markdown",
   "id": "d525d2e3",
   "metadata": {},
   "source": [
    "Выбросов нет"
   ]
  },
  {
   "cell_type": "code",
   "execution_count": 17,
   "id": "1f70375e",
   "metadata": {},
   "outputs": [
    {
     "data": {
      "image/png": "[encoded data removed]",
      "text/plain": [
       "<Figure size 432x288 with 1 Axes>"
      ]
     },
     "metadata": {
      "needs_background": "light"
     },
     "output_type": "display_data"
    }
   ],
   "source": [
    "plt.scatter(data_raw['int_memory'], data_raw['price_range'], alpha=0.4)\n",
    "pass"
   ]
  },
  {
   "cell_type": "code",
   "execution_count": 18,
   "id": "d5948eea",
   "metadata": {},
   "outputs": [
    {
     "data": {
      "text/plain": [
       "0.005     2.0\n",
       "0.010     2.0\n",
       "0.050     5.0\n",
       "0.100     8.0\n",
       "0.500    33.0\n",
       "0.900    58.0\n",
       "0.950    61.0\n",
       "0.990    64.0\n",
       "0.995    64.0\n",
       "Name: int_memory, dtype: float64"
      ]
     },
     "execution_count": 18,
     "metadata": {},
     "output_type": "execute_result"
    }
   ],
   "source": [
    "data_raw['int_memory'].quantile([0.005,.01,.05,.1,.5,.9,.95,.99,.995])"
   ]
  },
  {
   "cell_type": "markdown",
   "id": "130d8555",
   "metadata": {},
   "source": [
    "Есть выбросы"
   ]
  },
  {
   "cell_type": "code",
   "execution_count": 19,
   "id": "6103b880",
   "metadata": {},
   "outputs": [
    {
     "data": {
      "image/png": "[encoded data removed]",
      "text/plain": [
       "<Figure size 432x288 with 1 Axes>"
      ]
     },
     "metadata": {
      "needs_background": "light"
     },
     "output_type": "display_data"
    }
   ],
   "source": [
    "plt.scatter(data_raw['m_dep'], data_raw['price_range'], alpha=0.4)\n",
    "pass"
   ]
  },
  {
   "cell_type": "code",
   "execution_count": 20,
   "id": "44f81a3f",
   "metadata": {},
   "outputs": [
    {
     "data": {
      "text/plain": [
       "0.005    0.1\n",
       "0.010    0.1\n",
       "0.050    0.1\n",
       "0.100    0.1\n",
       "0.500    0.5\n",
       "0.900    0.9\n",
       "0.950    1.0\n",
       "0.990    1.0\n",
       "0.995    1.0\n",
       "Name: m_dep, dtype: float64"
      ]
     },
     "execution_count": 20,
     "metadata": {},
     "output_type": "execute_result"
    }
   ],
   "source": [
    "data_raw['m_dep'].quantile([0.005,.01,.05,.1,.5,.9,.95,.99,.995])"
   ]
  },
  {
   "cell_type": "markdown",
   "id": "464d1469",
   "metadata": {},
   "source": [
    "Есть выбросы"
   ]
  },
  {
   "cell_type": "code",
   "execution_count": 21,
   "id": "fb69bf84",
   "metadata": {},
   "outputs": [
    {
     "data": {
      "image/png": "[encoded data removed]",
      "text/plain": [
       "<Figure size 432x288 with 1 Axes>"
      ]
     },
     "metadata": {
      "needs_background": "light"
     },
     "output_type": "display_data"
    }
   ],
   "source": [
    "plt.scatter(data_raw['mobile_wt'], data_raw['price_range'], alpha=0.4)\n",
    "pass"
   ]
  },
  {
   "cell_type": "code",
   "execution_count": 22,
   "id": "b649169c",
   "metadata": {},
   "outputs": [
    {
     "data": {
      "text/plain": [
       "0.005     80.0\n",
       "0.010     80.0\n",
       "0.050     85.0\n",
       "0.100     91.0\n",
       "0.500    140.0\n",
       "0.900    189.0\n",
       "0.950    195.3\n",
       "0.990    199.0\n",
       "0.995    200.0\n",
       "Name: mobile_wt, dtype: float64"
      ]
     },
     "execution_count": 22,
     "metadata": {},
     "output_type": "execute_result"
    }
   ],
   "source": [
    "data_raw['mobile_wt'].quantile([0.005,.01,.05,.1,.5,.9,.95,.99,.995])"
   ]
  },
  {
   "cell_type": "markdown",
   "id": "78036faf",
   "metadata": {},
   "source": [
    "Есть выбросы"
   ]
  },
  {
   "cell_type": "code",
   "execution_count": 23,
   "id": "5661da51",
   "metadata": {},
   "outputs": [
    {
     "data": {
      "image/png": "[encoded data removed]",
      "text/plain": [
       "<Figure size 432x288 with 1 Axes>"
      ]
     },
     "metadata": {
      "needs_background": "light"
     },
     "output_type": "display_data"
    }
   ],
   "source": [
    "plt.scatter(data_raw['n_cores'], data_raw['price_range'], alpha=0.4)\n",
    "pass"
   ]
  },
  {
   "cell_type": "markdown",
   "id": "a22e11c3",
   "metadata": {},
   "source": [
    "Выбросов нет"
   ]
  },
  {
   "cell_type": "code",
   "execution_count": 24,
   "id": "dc06bd95",
   "metadata": {},
   "outputs": [
    {
     "data": {
      "image/png": "[encoded data removed]",
      "text/plain": [
       "<Figure size 432x288 with 1 Axes>"
      ]
     },
     "metadata": {
      "needs_background": "light"
     },
     "output_type": "display_data"
    }
   ],
   "source": [
    "plt.scatter(data_raw['pc'], data_raw['price_range'], alpha=0.4)\n",
    "pass"
   ]
  },
  {
   "cell_type": "code",
   "execution_count": 25,
   "id": "fa6a4518",
   "metadata": {},
   "outputs": [
    {
     "data": {
      "text/plain": [
       "0.005     0.0\n",
       "0.010     0.0\n",
       "0.050     1.0\n",
       "0.100     1.0\n",
       "0.500    10.0\n",
       "0.900    18.0\n",
       "0.950    20.0\n",
       "0.990    20.0\n",
       "0.995    20.0\n",
       "Name: pc, dtype: float64"
      ]
     },
     "execution_count": 25,
     "metadata": {},
     "output_type": "execute_result"
    }
   ],
   "source": [
    "data_raw['pc'].quantile([0.005,.01,.05,.1,.5,.9,.95,.99,.995])"
   ]
  },
  {
   "cell_type": "markdown",
   "id": "a55de35d",
   "metadata": {},
   "source": [
    "Есть выбросы"
   ]
  },
  {
   "cell_type": "code",
   "execution_count": 26,
   "id": "c09c7c6c",
   "metadata": {},
   "outputs": [
    {
     "data": {
      "image/png": "[encoded data removed]",
      "text/plain": [
       "<Figure size 432x288 with 1 Axes>"
      ]
     },
     "metadata": {
      "needs_background": "light"
     },
     "output_type": "display_data"
    }
   ],
   "source": [
    "plt.scatter(data_raw['px_height'], data_raw['price_range'], alpha=0.4)\n",
    "pass"
   ]
  },
  {
   "cell_type": "code",
   "execution_count": 27,
   "id": "3f231994",
   "metadata": {},
   "outputs": [
    {
     "data": {
      "text/plain": [
       "0.005       4.00\n",
       "0.010       9.93\n",
       "0.050      62.00\n",
       "0.100     118.00\n",
       "0.500     564.50\n",
       "0.900    1284.70\n",
       "0.950    1464.70\n",
       "0.990    1790.07\n",
       "0.995    1842.35\n",
       "Name: px_height, dtype: float64"
      ]
     },
     "execution_count": 27,
     "metadata": {},
     "output_type": "execute_result"
    }
   ],
   "source": [
    "data_raw['px_height'].quantile([0.005,.01,.05,.1,.5,.9,.95,.99,.995])"
   ]
  },
  {
   "cell_type": "markdown",
   "id": "c857e4b8",
   "metadata": {},
   "source": [
    "Выбросов нет"
   ]
  },
  {
   "cell_type": "code",
   "execution_count": 28,
   "id": "12914ae5",
   "metadata": {},
   "outputs": [
    {
     "data": {
      "image/png": "[encoded data removed]",
      "text/plain": [
       "<Figure size 432x288 with 1 Axes>"
      ]
     },
     "metadata": {
      "needs_background": "light"
     },
     "output_type": "display_data"
    }
   ],
   "source": [
    "plt.scatter(data_raw['px_width'], data_raw['price_range'], alpha=0.4)\n",
    "pass"
   ]
  },
  {
   "cell_type": "code",
   "execution_count": 29,
   "id": "02de0d2e",
   "metadata": {},
   "outputs": [
    {
     "data": {
      "text/plain": [
       "0.005     507.00\n",
       "0.010     512.00\n",
       "0.050     571.00\n",
       "0.100     647.60\n",
       "0.500    1247.00\n",
       "0.900    1846.00\n",
       "0.950    1923.00\n",
       "0.990    1985.00\n",
       "0.995    1989.02\n",
       "Name: px_width, dtype: float64"
      ]
     },
     "execution_count": 29,
     "metadata": {},
     "output_type": "execute_result"
    }
   ],
   "source": [
    "data_raw['px_width'].quantile([0.005,.01,.05,.1,.5,.9,.95,.99,.995])"
   ]
  },
  {
   "cell_type": "markdown",
   "id": "0096b3d6",
   "metadata": {},
   "source": [
    "Есть выбросы"
   ]
  },
  {
   "cell_type": "code",
   "execution_count": 30,
   "id": "dd583e1f",
   "metadata": {},
   "outputs": [
    {
     "data": {
      "image/png": "[encoded data removed]",
      "text/plain": [
       "<Figure size 432x288 with 1 Axes>"
      ]
     },
     "metadata": {
      "needs_background": "light"
     },
     "output_type": "display_data"
    }
   ],
   "source": [
    "plt.scatter(data_raw['ram'], data_raw['price_range'], alpha=0.4)\n",
    "pass"
   ]
  },
  {
   "cell_type": "code",
   "execution_count": 31,
   "id": "e4b33bf0",
   "metadata": {},
   "outputs": [
    {
     "data": {
      "text/plain": [
       "0.005     267.00\n",
       "0.010     292.96\n",
       "0.050     433.80\n",
       "0.100     594.60\n",
       "0.500    2144.00\n",
       "0.900    3628.00\n",
       "0.950    3833.20\n",
       "0.990    3955.08\n",
       "0.995    3970.00\n",
       "Name: ram, dtype: float64"
      ]
     },
     "execution_count": 31,
     "metadata": {},
     "output_type": "execute_result"
    }
   ],
   "source": [
    "data_raw['ram'].quantile([0.005,.01,.05,.1,.5,.9,.95,.99,.995])"
   ]
  },
  {
   "cell_type": "markdown",
   "id": "69db4595",
   "metadata": {},
   "source": [
    "Есть выбросы"
   ]
  },
  {
   "cell_type": "code",
   "execution_count": 32,
   "id": "c59d2980",
   "metadata": {},
   "outputs": [
    {
     "data": {
      "image/png": "[encoded data removed]",
      "text/plain": [
       "<Figure size 432x288 with 1 Axes>"
      ]
     },
     "metadata": {
      "needs_background": "light"
     },
     "output_type": "display_data"
    }
   ],
   "source": [
    "plt.scatter(data_raw['sc_h'], data_raw['price_range'], alpha=0.4)\n",
    "pass"
   ]
  },
  {
   "cell_type": "markdown",
   "id": "a47bf7ab",
   "metadata": {},
   "source": [
    "Выбросов нет"
   ]
  },
  {
   "cell_type": "code",
   "execution_count": 33,
   "id": "12633b2b",
   "metadata": {},
   "outputs": [
    {
     "data": {
      "image/png": "[encoded data removed]",
      "text/plain": [
       "<Figure size 432x288 with 1 Axes>"
      ]
     },
     "metadata": {
      "needs_background": "light"
     },
     "output_type": "display_data"
    }
   ],
   "source": [
    "plt.scatter(data_raw['sc_w'], data_raw['price_range'], alpha=0.4)\n",
    "pass"
   ]
  },
  {
   "cell_type": "markdown",
   "id": "403b44be",
   "metadata": {},
   "source": [
    "Выбросов нет"
   ]
  },
  {
   "cell_type": "code",
   "execution_count": 34,
   "id": "42fc524d",
   "metadata": {},
   "outputs": [
    {
     "data": {
      "image/png": "[encoded data removed]",
      "text/plain": [
       "<Figure size 432x288 with 1 Axes>"
      ]
     },
     "metadata": {
      "needs_background": "light"
     },
     "output_type": "display_data"
    }
   ],
   "source": [
    "plt.scatter(data_raw['talk_time'], data_raw['price_range'], alpha=0.4)\n",
    "pass"
   ]
  },
  {
   "cell_type": "code",
   "execution_count": 35,
   "id": "b6f76ffa",
   "metadata": {},
   "outputs": [
    {
     "data": {
      "text/plain": [
       "0.005     2.0\n",
       "0.010     2.0\n",
       "0.050     2.7\n",
       "0.100     4.0\n",
       "0.500    11.0\n",
       "0.900    19.0\n",
       "0.950    20.0\n",
       "0.990    20.0\n",
       "0.995    20.0\n",
       "Name: talk_time, dtype: float64"
      ]
     },
     "execution_count": 35,
     "metadata": {},
     "output_type": "execute_result"
    }
   ],
   "source": [
    "data_raw['talk_time'].quantile([0.005,.01,.05,.1,.5,.9,.95,.99,.995])"
   ]
  },
  {
   "cell_type": "markdown",
   "id": "38d45a95",
   "metadata": {},
   "source": [
    "Выбросы есть"
   ]
  },
  {
   "cell_type": "code",
   "execution_count": 36,
   "id": "7ec2f9e9",
   "metadata": {},
   "outputs": [
    {
     "data": {
      "image/png": "[encoded data removed]",
      "text/plain": [
       "<Figure size 432x288 with 1 Axes>"
      ]
     },
     "metadata": {
      "needs_background": "light"
     },
     "output_type": "display_data"
    }
   ],
   "source": [
    "plt.scatter(data_raw['three_g'], data_raw['price_range'], alpha=0.4)\n",
    "pass"
   ]
  },
  {
   "cell_type": "markdown",
   "id": "f02d6c89",
   "metadata": {},
   "source": [
    "Выбросов нет"
   ]
  },
  {
   "cell_type": "code",
   "execution_count": 37,
   "id": "f6475462",
   "metadata": {},
   "outputs": [
    {
     "data": {
      "image/png": "[encoded data removed]",
      "text/plain": [
       "<Figure size 432x288 with 1 Axes>"
      ]
     },
     "metadata": {
      "needs_background": "light"
     },
     "output_type": "display_data"
    }
   ],
   "source": [
    "plt.scatter(data_raw['touch_screen'], data_raw['price_range'], alpha=0.4)\n",
    "pass"
   ]
  },
  {
   "cell_type": "markdown",
   "id": "1d767acd",
   "metadata": {},
   "source": [
    "Выбросов нет"
   ]
  },
  {
   "cell_type": "code",
   "execution_count": 38,
   "id": "b294e8ff",
   "metadata": {},
   "outputs": [
    {
     "data": {
      "image/png": "[encoded data removed]",
      "text/plain": [
       "<Figure size 432x288 with 1 Axes>"
      ]
     },
     "metadata": {
      "needs_background": "light"
     },
     "output_type": "display_data"
    }
   ],
   "source": [
    "plt.scatter(data_raw['wifi'], data_raw['price_range'], alpha=0.4)\n",
    "pass"
   ]
  },
  {
   "cell_type": "markdown",
   "id": "85eaff54",
   "metadata": {},
   "source": [
    "Выбросов нет"
   ]
  },
  {
   "cell_type": "markdown",
   "id": "a13b7de6",
   "metadata": {},
   "source": [
    "Удалим все строки таблицы, в которых признаки с выбросами выходят за пределы квантилей $0.005$, $0.995$."
   ]
  },
  {
   "cell_type": "code",
   "execution_count": 39,
   "id": "435701da",
   "metadata": {},
   "outputs": [
    {
     "data": {
      "text/plain": [
       "(2892, 21)"
      ]
     },
     "execution_count": 39,
     "metadata": {},
     "output_type": "execute_result"
    }
   ],
   "source": [
    "rows_to_drop = data_raw[\n",
    "    (data_raw['battery_power'] < data_raw['battery_power'].quantile(0.005)) | (data_raw['battery_power'] > data_raw['battery_power'].quantile(0.995)) | \n",
    "    (data_raw['clock_speed']  < data_raw['clock_speed' ].quantile(0.005)) | (data_raw['clock_speed']  > data_raw['clock_speed' ].quantile(0.995)) | \n",
    "    (data_raw['fc']  < data_raw['fc' ].quantile(0.005)) | (data_raw['fc']  > data_raw['fc' ].quantile(0.995)) |\n",
    "    (data_raw['int_memory']  < data_raw['int_memory' ].quantile(0.005)) | (data_raw['int_memory']  > data_raw['int_memory' ].quantile(0.995)) | \n",
    "    (data_raw['m_dep']  < data_raw['m_dep' ].quantile(0.005)) | (data_raw['m_dep']  > data_raw['m_dep' ].quantile(0.995)) |\n",
    "    (data_raw['mobile_wt']  < data_raw['mobile_wt' ].quantile(0.005)) | (data_raw['mobile_wt']  > data_raw['mobile_wt' ].quantile(0.995)) | \n",
    "    (data_raw['pc']  < data_raw['pc' ].quantile(0.005)) | (data_raw['pc']  > data_raw['pc' ].quantile(0.995)) |\n",
    "    (data_raw['px_width']  < data_raw['px_width' ].quantile(0.005)) | (data_raw['px_width']  > data_raw['px_width' ].quantile(0.995)) | \n",
    "    (data_raw['ram']  < data_raw['ram' ].quantile(0.005)) | (data_raw['ram']  > data_raw['ram' ].quantile(0.995)) |\n",
    "    (data_raw['talk_time']  < data_raw['talk_time' ].quantile(0.005)) | (data_raw['talk_time']  > data_raw['talk_time' ].quantile(0.995))].index\n",
    "data = data_raw.drop(rows_to_drop)\n",
    "data.shape"
   ]
  },
  {
   "cell_type": "code",
   "execution_count": 40,
   "id": "c2338560",
   "metadata": {},
   "outputs": [
    {
     "data": {
      "text/plain": [
       "Int64Index([  18,   24,   43,   61,   69,   94,  152,  167,  185,  193,\n",
       "            ...\n",
       "            2520, 2539, 2580, 2597, 2637, 2706, 2732, 2969, 2976, 2982],\n",
       "           dtype='int64', length=108)"
      ]
     },
     "execution_count": 40,
     "metadata": {},
     "output_type": "execute_result"
    }
   ],
   "source": [
    "rows_to_drop"
   ]
  },
  {
   "cell_type": "markdown",
   "id": "e085deb7",
   "metadata": {},
   "source": [
    " ## 2. Визуализация данных и вычисление основных характеристик"
   ]
  },
  {
   "cell_type": "code",
   "execution_count": 41,
   "id": "c05a84dc",
   "metadata": {},
   "outputs": [
    {
     "data": {
      "text/html": [
       "<div>\n",
       "<style scoped>\n",
       "    .dataframe tbody tr th:only-of-type {\n",
       "        vertical-align: middle;\n",
       "    }\n",
       "\n",
       "    .dataframe tbody tr th {\n",
       "        vertical-align: top;\n",
       "    }\n",
       "\n",
       "    .dataframe thead th {\n",
       "        text-align: right;\n",
       "    }\n",
       "</style>\n",
       "<table border=\"1\" class=\"dataframe\">\n",
       "  <thead>\n",
       "    <tr style=\"text-align: right;\">\n",
       "      <th></th>\n",
       "      <th>battery_power</th>\n",
       "      <th>blue</th>\n",
       "      <th>clock_speed</th>\n",
       "      <th>dual_sim</th>\n",
       "      <th>fc</th>\n",
       "      <th>four_g</th>\n",
       "      <th>int_memory</th>\n",
       "      <th>m_dep</th>\n",
       "      <th>mobile_wt</th>\n",
       "      <th>n_cores</th>\n",
       "      <th>...</th>\n",
       "      <th>px_height</th>\n",
       "      <th>px_width</th>\n",
       "      <th>ram</th>\n",
       "      <th>sc_h</th>\n",
       "      <th>sc_w</th>\n",
       "      <th>talk_time</th>\n",
       "      <th>three_g</th>\n",
       "      <th>touch_screen</th>\n",
       "      <th>wifi</th>\n",
       "      <th>price_range</th>\n",
       "    </tr>\n",
       "  </thead>\n",
       "  <tbody>\n",
       "    <tr>\n",
       "      <th>count</th>\n",
       "      <td>2889.000000</td>\n",
       "      <td>2882.000000</td>\n",
       "      <td>2888.000000</td>\n",
       "      <td>2882.000000</td>\n",
       "      <td>2888.000000</td>\n",
       "      <td>2881.000000</td>\n",
       "      <td>2887.000000</td>\n",
       "      <td>2887.000000</td>\n",
       "      <td>2887.000000</td>\n",
       "      <td>2887.000000</td>\n",
       "      <td>...</td>\n",
       "      <td>2886.000000</td>\n",
       "      <td>2889.000000</td>\n",
       "      <td>2890.000000</td>\n",
       "      <td>2885.000000</td>\n",
       "      <td>2886.000000</td>\n",
       "      <td>2887.000000</td>\n",
       "      <td>2886.00000</td>\n",
       "      <td>2889.000000</td>\n",
       "      <td>2889.000000</td>\n",
       "      <td>2892.000000</td>\n",
       "    </tr>\n",
       "    <tr>\n",
       "      <th>mean</th>\n",
       "      <td>1241.237452</td>\n",
       "      <td>0.503817</td>\n",
       "      <td>1.528566</td>\n",
       "      <td>0.511450</td>\n",
       "      <td>4.378809</td>\n",
       "      <td>0.507116</td>\n",
       "      <td>32.605819</td>\n",
       "      <td>0.505819</td>\n",
       "      <td>140.118116</td>\n",
       "      <td>4.447523</td>\n",
       "      <td>...</td>\n",
       "      <td>638.255544</td>\n",
       "      <td>1244.218415</td>\n",
       "      <td>2129.287889</td>\n",
       "      <td>12.184402</td>\n",
       "      <td>5.586625</td>\n",
       "      <td>11.042951</td>\n",
       "      <td>0.75745</td>\n",
       "      <td>0.502942</td>\n",
       "      <td>0.507788</td>\n",
       "      <td>1.484440</td>\n",
       "    </tr>\n",
       "    <tr>\n",
       "      <th>std</th>\n",
       "      <td>435.361349</td>\n",
       "      <td>0.500072</td>\n",
       "      <td>0.823072</td>\n",
       "      <td>0.499956</td>\n",
       "      <td>4.358684</td>\n",
       "      <td>0.500036</td>\n",
       "      <td>18.124191</td>\n",
       "      <td>0.285636</td>\n",
       "      <td>35.185868</td>\n",
       "      <td>2.292067</td>\n",
       "      <td>...</td>\n",
       "      <td>439.787173</td>\n",
       "      <td>431.753477</td>\n",
       "      <td>1079.198267</td>\n",
       "      <td>4.247782</td>\n",
       "      <td>4.317705</td>\n",
       "      <td>5.473513</td>\n",
       "      <td>0.42870</td>\n",
       "      <td>0.500078</td>\n",
       "      <td>0.500026</td>\n",
       "      <td>1.116571</td>\n",
       "    </tr>\n",
       "    <tr>\n",
       "      <th>min</th>\n",
       "      <td>504.000000</td>\n",
       "      <td>0.000000</td>\n",
       "      <td>0.500000</td>\n",
       "      <td>0.000000</td>\n",
       "      <td>0.000000</td>\n",
       "      <td>0.000000</td>\n",
       "      <td>2.000000</td>\n",
       "      <td>0.100000</td>\n",
       "      <td>80.000000</td>\n",
       "      <td>1.000000</td>\n",
       "      <td>...</td>\n",
       "      <td>0.000000</td>\n",
       "      <td>507.000000</td>\n",
       "      <td>267.000000</td>\n",
       "      <td>5.000000</td>\n",
       "      <td>0.000000</td>\n",
       "      <td>2.000000</td>\n",
       "      <td>0.00000</td>\n",
       "      <td>0.000000</td>\n",
       "      <td>0.000000</td>\n",
       "      <td>0.000000</td>\n",
       "    </tr>\n",
       "    <tr>\n",
       "      <th>25%</th>\n",
       "      <td>864.000000</td>\n",
       "      <td>0.000000</td>\n",
       "      <td>0.700000</td>\n",
       "      <td>0.000000</td>\n",
       "      <td>1.000000</td>\n",
       "      <td>0.000000</td>\n",
       "      <td>16.000000</td>\n",
       "      <td>0.200000</td>\n",
       "      <td>109.000000</td>\n",
       "      <td>2.000000</td>\n",
       "      <td>...</td>\n",
       "      <td>275.000000</td>\n",
       "      <td>864.000000</td>\n",
       "      <td>1214.000000</td>\n",
       "      <td>9.000000</td>\n",
       "      <td>2.000000</td>\n",
       "      <td>6.000000</td>\n",
       "      <td>1.00000</td>\n",
       "      <td>0.000000</td>\n",
       "      <td>0.000000</td>\n",
       "      <td>0.000000</td>\n",
       "    </tr>\n",
       "    <tr>\n",
       "      <th>50%</th>\n",
       "      <td>1232.000000</td>\n",
       "      <td>1.000000</td>\n",
       "      <td>1.500000</td>\n",
       "      <td>1.000000</td>\n",
       "      <td>3.000000</td>\n",
       "      <td>1.000000</td>\n",
       "      <td>33.000000</td>\n",
       "      <td>0.500000</td>\n",
       "      <td>141.000000</td>\n",
       "      <td>4.000000</td>\n",
       "      <td>...</td>\n",
       "      <td>565.000000</td>\n",
       "      <td>1247.000000</td>\n",
       "      <td>2153.500000</td>\n",
       "      <td>12.000000</td>\n",
       "      <td>5.000000</td>\n",
       "      <td>11.000000</td>\n",
       "      <td>1.00000</td>\n",
       "      <td>1.000000</td>\n",
       "      <td>1.000000</td>\n",
       "      <td>1.000000</td>\n",
       "    </tr>\n",
       "    <tr>\n",
       "      <th>75%</th>\n",
       "      <td>1617.000000</td>\n",
       "      <td>1.000000</td>\n",
       "      <td>2.300000</td>\n",
       "      <td>1.000000</td>\n",
       "      <td>7.000000</td>\n",
       "      <td>1.000000</td>\n",
       "      <td>48.000000</td>\n",
       "      <td>0.800000</td>\n",
       "      <td>170.000000</td>\n",
       "      <td>6.000000</td>\n",
       "      <td>...</td>\n",
       "      <td>931.750000</td>\n",
       "      <td>1629.000000</td>\n",
       "      <td>3059.750000</td>\n",
       "      <td>16.000000</td>\n",
       "      <td>8.000000</td>\n",
       "      <td>16.000000</td>\n",
       "      <td>1.00000</td>\n",
       "      <td>1.000000</td>\n",
       "      <td>1.000000</td>\n",
       "      <td>2.000000</td>\n",
       "    </tr>\n",
       "    <tr>\n",
       "      <th>max</th>\n",
       "      <td>1993.000000</td>\n",
       "      <td>1.000000</td>\n",
       "      <td>3.000000</td>\n",
       "      <td>1.000000</td>\n",
       "      <td>18.000000</td>\n",
       "      <td>1.000000</td>\n",
       "      <td>64.000000</td>\n",
       "      <td>1.000000</td>\n",
       "      <td>200.000000</td>\n",
       "      <td>8.000000</td>\n",
       "      <td>...</td>\n",
       "      <td>1960.000000</td>\n",
       "      <td>1989.000000</td>\n",
       "      <td>3970.000000</td>\n",
       "      <td>19.000000</td>\n",
       "      <td>18.000000</td>\n",
       "      <td>20.000000</td>\n",
       "      <td>1.00000</td>\n",
       "      <td>1.000000</td>\n",
       "      <td>1.000000</td>\n",
       "      <td>3.000000</td>\n",
       "    </tr>\n",
       "  </tbody>\n",
       "</table>\n",
       "<p>8 rows × 21 columns</p>\n",
       "</div>"
      ],
      "text/plain": [
       "       battery_power         blue  clock_speed     dual_sim           fc  \\\n",
       "count    2889.000000  2882.000000  2888.000000  2882.000000  2888.000000   \n",
       "mean     1241.237452     0.503817     1.528566     0.511450     4.378809   \n",
       "std       435.361349     0.500072     0.823072     0.499956     4.358684   \n",
       "min       504.000000     0.000000     0.500000     0.000000     0.000000   \n",
       "25%       864.000000     0.000000     0.700000     0.000000     1.000000   \n",
       "50%      1232.000000     1.000000     1.500000     1.000000     3.000000   \n",
       "75%      1617.000000     1.000000     2.300000     1.000000     7.000000   \n",
       "max      1993.000000     1.000000     3.000000     1.000000    18.000000   \n",
       "\n",
       "            four_g   int_memory        m_dep    mobile_wt      n_cores  ...  \\\n",
       "count  2881.000000  2887.000000  2887.000000  2887.000000  2887.000000  ...   \n",
       "mean      0.507116    32.605819     0.505819   140.118116     4.447523  ...   \n",
       "std       0.500036    18.124191     0.285636    35.185868     2.292067  ...   \n",
       "min       0.000000     2.000000     0.100000    80.000000     1.000000  ...   \n",
       "25%       0.000000    16.000000     0.200000   109.000000     2.000000  ...   \n",
       "50%       1.000000    33.000000     0.500000   141.000000     4.000000  ...   \n",
       "75%       1.000000    48.000000     0.800000   170.000000     6.000000  ...   \n",
       "max       1.000000    64.000000     1.000000   200.000000     8.000000  ...   \n",
       "\n",
       "         px_height     px_width          ram         sc_h         sc_w  \\\n",
       "count  2886.000000  2889.000000  2890.000000  2885.000000  2886.000000   \n",
       "mean    638.255544  1244.218415  2129.287889    12.184402     5.586625   \n",
       "std     439.787173   431.753477  1079.198267     4.247782     4.317705   \n",
       "min       0.000000   507.000000   267.000000     5.000000     0.000000   \n",
       "25%     275.000000   864.000000  1214.000000     9.000000     2.000000   \n",
       "50%     565.000000  1247.000000  2153.500000    12.000000     5.000000   \n",
       "75%     931.750000  1629.000000  3059.750000    16.000000     8.000000   \n",
       "max    1960.000000  1989.000000  3970.000000    19.000000    18.000000   \n",
       "\n",
       "         talk_time     three_g  touch_screen         wifi  price_range  \n",
       "count  2887.000000  2886.00000   2889.000000  2889.000000  2892.000000  \n",
       "mean     11.042951     0.75745      0.502942     0.507788     1.484440  \n",
       "std       5.473513     0.42870      0.500078     0.500026     1.116571  \n",
       "min       2.000000     0.00000      0.000000     0.000000     0.000000  \n",
       "25%       6.000000     1.00000      0.000000     0.000000     0.000000  \n",
       "50%      11.000000     1.00000      1.000000     1.000000     1.000000  \n",
       "75%      16.000000     1.00000      1.000000     1.000000     2.000000  \n",
       "max      20.000000     1.00000      1.000000     1.000000     3.000000  \n",
       "\n",
       "[8 rows x 21 columns]"
      ]
     },
     "execution_count": 41,
     "metadata": {},
     "output_type": "execute_result"
    }
   ],
   "source": [
    "data.describe()"
   ]
  },
  {
   "cell_type": "markdown",
   "id": "d4c602c5",
   "metadata": {},
   "source": [
    "В описании видим:\n",
    "\n",
    "1. count - количество значений для каждого признака. Из-за пропусков в таблице все значения различны. Минимальное значение у dual_sim = 2881, число пропусков = 11, что составлеят 0,4% от общего числа.\n",
    "2. mean - среднее значение\n",
    "3. std - стандартное отклонение\n",
    "4. min - минимальное значение \n",
    "5. 25% - первый квартиль\n",
    "6. 50% - медиана\n",
    "7. 75% - третий квартиль\n",
    "8. max - максимальное значение (заметим подозрительно большие значения - выбросы, с которыми будм бороться в дальнейшем)\n",
    "\n",
    "Рассмотрим некоторые из характеристик"
   ]
  },
  {
   "cell_type": "code",
   "execution_count": 42,
   "id": "5cf97745",
   "metadata": {},
   "outputs": [
    {
     "data": {
      "image/png": "[encoded data removed]",
      "text/plain": [
       "<Figure size 360x360 with 1 Axes>"
      ]
     },
     "metadata": {
      "needs_background": "light"
     },
     "output_type": "display_data"
    }
   ],
   "source": [
    "sns.displot(data['dual_sim'], bins=2)\n",
    "plt.grid()\n",
    "pass"
   ]
  },
  {
   "cell_type": "markdown",
   "id": "b6624465",
   "metadata": {},
   "source": [
    "На гистограмме видно распределение по 2 категориям: наличие и отсутствие поддержки 2 симкарт. Среднее значение = 0.511450., отклонение = 0.499956 и 75% = 1. Можно сделать вывод, что чуть больше половины моделей имеет 2 симкарты."
   ]
  },
  {
   "cell_type": "code",
   "execution_count": 43,
   "id": "6320e31a",
   "metadata": {},
   "outputs": [
    {
     "data": {
      "image/png": "[encoded data removed]",
      "text/plain": [
       "<Figure size 360x360 with 1 Axes>"
      ]
     },
     "metadata": {
      "needs_background": "light"
     },
     "output_type": "display_data"
    }
   ],
   "source": [
    "sns.displot(data['touch_screen'], bins=2)\n",
    "plt.grid()\n",
    "pass"
   ]
  },
  {
   "cell_type": "markdown",
   "id": "edd8c1da",
   "metadata": {},
   "source": [
    "Видим нормальное распределение по категориям: наличие и отсутствие сенсорного экрана. При среднем = 0.502942 и отклонении = 0.500078, то есть, число моделей с сенсорным экраном и обычным примерно равны."
   ]
  },
  {
   "cell_type": "code",
   "execution_count": 44,
   "id": "ad8d85bd",
   "metadata": {},
   "outputs": [
    {
     "data": {
      "image/png": "[encoded data removed]",
      "text/plain": [
       "<Figure size 360x360 with 1 Axes>"
      ]
     },
     "metadata": {
      "needs_background": "light"
     },
     "output_type": "display_data"
    }
   ],
   "source": [
    "sns.displot(data['ram'], bins=20)\n",
    "plt.grid()\n",
    "pass"
   ]
  },
  {
   "cell_type": "markdown",
   "id": "9c8df2ae",
   "metadata": {},
   "source": [
    "Распределение оперативной памяти при среднем = 2129 и отклонении = 1079. При этом 25% = 1214, 50% = 2153, 75% = 3060. \n",
    "\n",
    "Вычислим матрицу корреляции"
   ]
  },
  {
   "cell_type": "code",
   "execution_count": 45,
   "id": "15994b36",
   "metadata": {},
   "outputs": [
    {
     "data": {
      "text/html": [
       "<div>\n",
       "<style scoped>\n",
       "    .dataframe tbody tr th:only-of-type {\n",
       "        vertical-align: middle;\n",
       "    }\n",
       "\n",
       "    .dataframe tbody tr th {\n",
       "        vertical-align: top;\n",
       "    }\n",
       "\n",
       "    .dataframe thead th {\n",
       "        text-align: right;\n",
       "    }\n",
       "</style>\n",
       "<table border=\"1\" class=\"dataframe\">\n",
       "  <thead>\n",
       "    <tr style=\"text-align: right;\">\n",
       "      <th></th>\n",
       "      <th>battery_power</th>\n",
       "      <th>blue</th>\n",
       "      <th>clock_speed</th>\n",
       "      <th>dual_sim</th>\n",
       "      <th>fc</th>\n",
       "      <th>four_g</th>\n",
       "      <th>int_memory</th>\n",
       "      <th>m_dep</th>\n",
       "      <th>mobile_wt</th>\n",
       "      <th>n_cores</th>\n",
       "      <th>...</th>\n",
       "      <th>px_height</th>\n",
       "      <th>px_width</th>\n",
       "      <th>ram</th>\n",
       "      <th>sc_h</th>\n",
       "      <th>sc_w</th>\n",
       "      <th>talk_time</th>\n",
       "      <th>three_g</th>\n",
       "      <th>touch_screen</th>\n",
       "      <th>wifi</th>\n",
       "      <th>price_range</th>\n",
       "    </tr>\n",
       "  </thead>\n",
       "  <tbody>\n",
       "    <tr>\n",
       "      <th>battery_power</th>\n",
       "      <td>1.000000</td>\n",
       "      <td>-0.011036</td>\n",
       "      <td>-0.003906</td>\n",
       "      <td>-0.045550</td>\n",
       "      <td>0.026354</td>\n",
       "      <td>-0.002826</td>\n",
       "      <td>0.000120</td>\n",
       "      <td>0.024801</td>\n",
       "      <td>-0.013987</td>\n",
       "      <td>-0.017992</td>\n",
       "      <td>...</td>\n",
       "      <td>0.024465</td>\n",
       "      <td>0.013516</td>\n",
       "      <td>-0.011973</td>\n",
       "      <td>-0.046432</td>\n",
       "      <td>-0.031701</td>\n",
       "      <td>0.034727</td>\n",
       "      <td>0.016383</td>\n",
       "      <td>-0.010256</td>\n",
       "      <td>-0.002667</td>\n",
       "      <td>0.125416</td>\n",
       "    </tr>\n",
       "    <tr>\n",
       "      <th>blue</th>\n",
       "      <td>-0.011036</td>\n",
       "      <td>1.000000</td>\n",
       "      <td>0.030063</td>\n",
       "      <td>0.015893</td>\n",
       "      <td>-0.017909</td>\n",
       "      <td>0.005131</td>\n",
       "      <td>0.030997</td>\n",
       "      <td>0.015312</td>\n",
       "      <td>-0.004707</td>\n",
       "      <td>0.027085</td>\n",
       "      <td>...</td>\n",
       "      <td>-0.021561</td>\n",
       "      <td>-0.030947</td>\n",
       "      <td>0.042629</td>\n",
       "      <td>-0.001254</td>\n",
       "      <td>-0.000812</td>\n",
       "      <td>-0.007364</td>\n",
       "      <td>-0.019206</td>\n",
       "      <td>-0.008036</td>\n",
       "      <td>-0.006709</td>\n",
       "      <td>0.018435</td>\n",
       "    </tr>\n",
       "    <tr>\n",
       "      <th>clock_speed</th>\n",
       "      <td>-0.003906</td>\n",
       "      <td>0.030063</td>\n",
       "      <td>1.000000</td>\n",
       "      <td>0.000122</td>\n",
       "      <td>0.008186</td>\n",
       "      <td>-0.042194</td>\n",
       "      <td>-0.004440</td>\n",
       "      <td>-0.006059</td>\n",
       "      <td>0.002963</td>\n",
       "      <td>-0.011779</td>\n",
       "      <td>...</td>\n",
       "      <td>-0.009886</td>\n",
       "      <td>0.016592</td>\n",
       "      <td>0.009285</td>\n",
       "      <td>-0.029317</td>\n",
       "      <td>-0.016415</td>\n",
       "      <td>-0.035416</td>\n",
       "      <td>-0.040529</td>\n",
       "      <td>0.031627</td>\n",
       "      <td>-0.034618</td>\n",
       "      <td>-0.007072</td>\n",
       "    </tr>\n",
       "    <tr>\n",
       "      <th>dual_sim</th>\n",
       "      <td>-0.045550</td>\n",
       "      <td>0.015893</td>\n",
       "      <td>0.000122</td>\n",
       "      <td>1.000000</td>\n",
       "      <td>0.001027</td>\n",
       "      <td>0.009079</td>\n",
       "      <td>-0.008131</td>\n",
       "      <td>-0.009951</td>\n",
       "      <td>-0.009938</td>\n",
       "      <td>-0.015167</td>\n",
       "      <td>...</td>\n",
       "      <td>-0.011380</td>\n",
       "      <td>0.013076</td>\n",
       "      <td>0.042413</td>\n",
       "      <td>-0.008950</td>\n",
       "      <td>-0.009231</td>\n",
       "      <td>-0.023975</td>\n",
       "      <td>-0.005686</td>\n",
       "      <td>0.007883</td>\n",
       "      <td>0.033362</td>\n",
       "      <td>0.005593</td>\n",
       "    </tr>\n",
       "    <tr>\n",
       "      <th>fc</th>\n",
       "      <td>0.026354</td>\n",
       "      <td>-0.017909</td>\n",
       "      <td>0.008186</td>\n",
       "      <td>0.001027</td>\n",
       "      <td>1.000000</td>\n",
       "      <td>0.003252</td>\n",
       "      <td>-0.025360</td>\n",
       "      <td>0.008105</td>\n",
       "      <td>0.026626</td>\n",
       "      <td>-0.001845</td>\n",
       "      <td>...</td>\n",
       "      <td>-0.012181</td>\n",
       "      <td>0.004417</td>\n",
       "      <td>-0.001380</td>\n",
       "      <td>0.007687</td>\n",
       "      <td>-0.002178</td>\n",
       "      <td>-0.022223</td>\n",
       "      <td>-0.002446</td>\n",
       "      <td>-0.001031</td>\n",
       "      <td>-0.008320</td>\n",
       "      <td>0.019970</td>\n",
       "    </tr>\n",
       "    <tr>\n",
       "      <th>four_g</th>\n",
       "      <td>-0.002826</td>\n",
       "      <td>0.005131</td>\n",
       "      <td>-0.042194</td>\n",
       "      <td>0.009079</td>\n",
       "      <td>0.003252</td>\n",
       "      <td>1.000000</td>\n",
       "      <td>-0.013895</td>\n",
       "      <td>-0.000166</td>\n",
       "      <td>-0.011626</td>\n",
       "      <td>0.002577</td>\n",
       "      <td>...</td>\n",
       "      <td>-0.003107</td>\n",
       "      <td>0.019322</td>\n",
       "      <td>0.016773</td>\n",
       "      <td>0.012477</td>\n",
       "      <td>0.025503</td>\n",
       "      <td>-0.029387</td>\n",
       "      <td>0.574514</td>\n",
       "      <td>0.008934</td>\n",
       "      <td>-0.023898</td>\n",
       "      <td>0.017764</td>\n",
       "    </tr>\n",
       "    <tr>\n",
       "      <th>int_memory</th>\n",
       "      <td>0.000120</td>\n",
       "      <td>0.030997</td>\n",
       "      <td>-0.004440</td>\n",
       "      <td>-0.008131</td>\n",
       "      <td>-0.025360</td>\n",
       "      <td>-0.013895</td>\n",
       "      <td>1.000000</td>\n",
       "      <td>-0.001654</td>\n",
       "      <td>-0.024645</td>\n",
       "      <td>-0.016797</td>\n",
       "      <td>...</td>\n",
       "      <td>-0.004154</td>\n",
       "      <td>-0.013669</td>\n",
       "      <td>0.019511</td>\n",
       "      <td>0.018765</td>\n",
       "      <td>0.015554</td>\n",
       "      <td>0.010695</td>\n",
       "      <td>-0.014205</td>\n",
       "      <td>-0.002711</td>\n",
       "      <td>0.008933</td>\n",
       "      <td>0.016394</td>\n",
       "    </tr>\n",
       "    <tr>\n",
       "      <th>m_dep</th>\n",
       "      <td>0.024801</td>\n",
       "      <td>0.015312</td>\n",
       "      <td>-0.006059</td>\n",
       "      <td>-0.009951</td>\n",
       "      <td>0.008105</td>\n",
       "      <td>-0.000166</td>\n",
       "      <td>-0.001654</td>\n",
       "      <td>1.000000</td>\n",
       "      <td>-0.000140</td>\n",
       "      <td>-0.006297</td>\n",
       "      <td>...</td>\n",
       "      <td>0.034499</td>\n",
       "      <td>0.022965</td>\n",
       "      <td>0.000478</td>\n",
       "      <td>-0.025951</td>\n",
       "      <td>-0.018419</td>\n",
       "      <td>0.015854</td>\n",
       "      <td>-0.027267</td>\n",
       "      <td>0.016135</td>\n",
       "      <td>-0.033811</td>\n",
       "      <td>-0.007218</td>\n",
       "    </tr>\n",
       "    <tr>\n",
       "      <th>mobile_wt</th>\n",
       "      <td>-0.013987</td>\n",
       "      <td>-0.004707</td>\n",
       "      <td>0.002963</td>\n",
       "      <td>-0.009938</td>\n",
       "      <td>0.026626</td>\n",
       "      <td>-0.011626</td>\n",
       "      <td>-0.024645</td>\n",
       "      <td>-0.000140</td>\n",
       "      <td>1.000000</td>\n",
       "      <td>-0.026891</td>\n",
       "      <td>...</td>\n",
       "      <td>0.009051</td>\n",
       "      <td>-0.006512</td>\n",
       "      <td>0.013205</td>\n",
       "      <td>-0.028354</td>\n",
       "      <td>-0.010790</td>\n",
       "      <td>-0.009635</td>\n",
       "      <td>0.000557</td>\n",
       "      <td>0.010636</td>\n",
       "      <td>0.025156</td>\n",
       "      <td>-0.009145</td>\n",
       "    </tr>\n",
       "    <tr>\n",
       "      <th>n_cores</th>\n",
       "      <td>-0.017992</td>\n",
       "      <td>0.027085</td>\n",
       "      <td>-0.011779</td>\n",
       "      <td>-0.015167</td>\n",
       "      <td>-0.001845</td>\n",
       "      <td>0.002577</td>\n",
       "      <td>-0.016797</td>\n",
       "      <td>-0.006297</td>\n",
       "      <td>-0.026891</td>\n",
       "      <td>1.000000</td>\n",
       "      <td>...</td>\n",
       "      <td>-0.021810</td>\n",
       "      <td>-0.005965</td>\n",
       "      <td>-0.008014</td>\n",
       "      <td>-0.005618</td>\n",
       "      <td>0.025884</td>\n",
       "      <td>0.007883</td>\n",
       "      <td>0.006688</td>\n",
       "      <td>0.010871</td>\n",
       "      <td>-0.012614</td>\n",
       "      <td>0.015841</td>\n",
       "    </tr>\n",
       "    <tr>\n",
       "      <th>pc</th>\n",
       "      <td>0.030836</td>\n",
       "      <td>-0.020355</td>\n",
       "      <td>0.017458</td>\n",
       "      <td>0.009998</td>\n",
       "      <td>0.646720</td>\n",
       "      <td>0.015042</td>\n",
       "      <td>-0.012015</td>\n",
       "      <td>0.014767</td>\n",
       "      <td>0.023215</td>\n",
       "      <td>0.003330</td>\n",
       "      <td>...</td>\n",
       "      <td>-0.001220</td>\n",
       "      <td>0.017519</td>\n",
       "      <td>0.011877</td>\n",
       "      <td>0.013846</td>\n",
       "      <td>-0.012835</td>\n",
       "      <td>-0.005086</td>\n",
       "      <td>-0.004333</td>\n",
       "      <td>0.006740</td>\n",
       "      <td>-0.017471</td>\n",
       "      <td>0.045733</td>\n",
       "    </tr>\n",
       "    <tr>\n",
       "      <th>px_height</th>\n",
       "      <td>0.024465</td>\n",
       "      <td>-0.021561</td>\n",
       "      <td>-0.009886</td>\n",
       "      <td>-0.011380</td>\n",
       "      <td>-0.012181</td>\n",
       "      <td>-0.003107</td>\n",
       "      <td>-0.004154</td>\n",
       "      <td>0.034499</td>\n",
       "      <td>0.009051</td>\n",
       "      <td>-0.021810</td>\n",
       "      <td>...</td>\n",
       "      <td>1.000000</td>\n",
       "      <td>0.511191</td>\n",
       "      <td>-0.009146</td>\n",
       "      <td>0.041625</td>\n",
       "      <td>0.043356</td>\n",
       "      <td>0.007907</td>\n",
       "      <td>-0.027034</td>\n",
       "      <td>0.007404</td>\n",
       "      <td>0.024886</td>\n",
       "      <td>0.086334</td>\n",
       "    </tr>\n",
       "    <tr>\n",
       "      <th>px_width</th>\n",
       "      <td>0.013516</td>\n",
       "      <td>-0.030947</td>\n",
       "      <td>0.016592</td>\n",
       "      <td>0.013076</td>\n",
       "      <td>0.004417</td>\n",
       "      <td>0.019322</td>\n",
       "      <td>-0.013669</td>\n",
       "      <td>0.022965</td>\n",
       "      <td>-0.006512</td>\n",
       "      <td>-0.005965</td>\n",
       "      <td>...</td>\n",
       "      <td>0.511191</td>\n",
       "      <td>1.000000</td>\n",
       "      <td>-0.012385</td>\n",
       "      <td>0.005289</td>\n",
       "      <td>0.024491</td>\n",
       "      <td>0.020251</td>\n",
       "      <td>0.009069</td>\n",
       "      <td>-0.016715</td>\n",
       "      <td>-0.007677</td>\n",
       "      <td>0.098234</td>\n",
       "    </tr>\n",
       "    <tr>\n",
       "      <th>ram</th>\n",
       "      <td>-0.011973</td>\n",
       "      <td>0.042629</td>\n",
       "      <td>0.009285</td>\n",
       "      <td>0.042413</td>\n",
       "      <td>-0.001380</td>\n",
       "      <td>0.016773</td>\n",
       "      <td>0.019511</td>\n",
       "      <td>0.000478</td>\n",
       "      <td>0.013205</td>\n",
       "      <td>-0.008014</td>\n",
       "      <td>...</td>\n",
       "      <td>-0.009146</td>\n",
       "      <td>-0.012385</td>\n",
       "      <td>1.000000</td>\n",
       "      <td>0.018811</td>\n",
       "      <td>0.033682</td>\n",
       "      <td>0.004916</td>\n",
       "      <td>0.020846</td>\n",
       "      <td>-0.032903</td>\n",
       "      <td>0.002610</td>\n",
       "      <td>0.611585</td>\n",
       "    </tr>\n",
       "    <tr>\n",
       "      <th>sc_h</th>\n",
       "      <td>-0.046432</td>\n",
       "      <td>-0.001254</td>\n",
       "      <td>-0.029317</td>\n",
       "      <td>-0.008950</td>\n",
       "      <td>0.007687</td>\n",
       "      <td>0.012477</td>\n",
       "      <td>0.018765</td>\n",
       "      <td>-0.025951</td>\n",
       "      <td>-0.028354</td>\n",
       "      <td>-0.005618</td>\n",
       "      <td>...</td>\n",
       "      <td>0.041625</td>\n",
       "      <td>0.005289</td>\n",
       "      <td>0.018811</td>\n",
       "      <td>1.000000</td>\n",
       "      <td>0.501217</td>\n",
       "      <td>-0.001429</td>\n",
       "      <td>0.002405</td>\n",
       "      <td>-0.014724</td>\n",
       "      <td>0.011982</td>\n",
       "      <td>0.018765</td>\n",
       "    </tr>\n",
       "    <tr>\n",
       "      <th>sc_w</th>\n",
       "      <td>-0.031701</td>\n",
       "      <td>-0.000812</td>\n",
       "      <td>-0.016415</td>\n",
       "      <td>-0.009231</td>\n",
       "      <td>-0.002178</td>\n",
       "      <td>0.025503</td>\n",
       "      <td>0.015554</td>\n",
       "      <td>-0.018419</td>\n",
       "      <td>-0.010790</td>\n",
       "      <td>0.025884</td>\n",
       "      <td>...</td>\n",
       "      <td>0.043356</td>\n",
       "      <td>0.024491</td>\n",
       "      <td>0.033682</td>\n",
       "      <td>0.501217</td>\n",
       "      <td>1.000000</td>\n",
       "      <td>0.006240</td>\n",
       "      <td>0.020389</td>\n",
       "      <td>-0.006745</td>\n",
       "      <td>0.026283</td>\n",
       "      <td>0.035517</td>\n",
       "    </tr>\n",
       "    <tr>\n",
       "      <th>talk_time</th>\n",
       "      <td>0.034727</td>\n",
       "      <td>-0.007364</td>\n",
       "      <td>-0.035416</td>\n",
       "      <td>-0.023975</td>\n",
       "      <td>-0.022223</td>\n",
       "      <td>-0.029387</td>\n",
       "      <td>0.010695</td>\n",
       "      <td>0.015854</td>\n",
       "      <td>-0.009635</td>\n",
       "      <td>0.007883</td>\n",
       "      <td>...</td>\n",
       "      <td>0.007907</td>\n",
       "      <td>0.020251</td>\n",
       "      <td>0.004916</td>\n",
       "      <td>-0.001429</td>\n",
       "      <td>0.006240</td>\n",
       "      <td>1.000000</td>\n",
       "      <td>-0.033353</td>\n",
       "      <td>0.025557</td>\n",
       "      <td>-0.005501</td>\n",
       "      <td>0.016314</td>\n",
       "    </tr>\n",
       "    <tr>\n",
       "      <th>three_g</th>\n",
       "      <td>0.016383</td>\n",
       "      <td>-0.019206</td>\n",
       "      <td>-0.040529</td>\n",
       "      <td>-0.005686</td>\n",
       "      <td>-0.002446</td>\n",
       "      <td>0.574514</td>\n",
       "      <td>-0.014205</td>\n",
       "      <td>-0.027267</td>\n",
       "      <td>0.000557</td>\n",
       "      <td>0.006688</td>\n",
       "      <td>...</td>\n",
       "      <td>-0.027034</td>\n",
       "      <td>0.009069</td>\n",
       "      <td>0.020846</td>\n",
       "      <td>0.002405</td>\n",
       "      <td>0.020389</td>\n",
       "      <td>-0.033353</td>\n",
       "      <td>1.000000</td>\n",
       "      <td>0.009418</td>\n",
       "      <td>-0.006116</td>\n",
       "      <td>0.027586</td>\n",
       "    </tr>\n",
       "    <tr>\n",
       "      <th>touch_screen</th>\n",
       "      <td>-0.010256</td>\n",
       "      <td>-0.008036</td>\n",
       "      <td>0.031627</td>\n",
       "      <td>0.007883</td>\n",
       "      <td>-0.001031</td>\n",
       "      <td>0.008934</td>\n",
       "      <td>-0.002711</td>\n",
       "      <td>0.016135</td>\n",
       "      <td>0.010636</td>\n",
       "      <td>0.010871</td>\n",
       "      <td>...</td>\n",
       "      <td>0.007404</td>\n",
       "      <td>-0.016715</td>\n",
       "      <td>-0.032903</td>\n",
       "      <td>-0.014724</td>\n",
       "      <td>-0.006745</td>\n",
       "      <td>0.025557</td>\n",
       "      <td>0.009418</td>\n",
       "      <td>1.000000</td>\n",
       "      <td>-0.004254</td>\n",
       "      <td>-0.001310</td>\n",
       "    </tr>\n",
       "    <tr>\n",
       "      <th>wifi</th>\n",
       "      <td>-0.002667</td>\n",
       "      <td>-0.006709</td>\n",
       "      <td>-0.034618</td>\n",
       "      <td>0.033362</td>\n",
       "      <td>-0.008320</td>\n",
       "      <td>-0.023898</td>\n",
       "      <td>0.008933</td>\n",
       "      <td>-0.033811</td>\n",
       "      <td>0.025156</td>\n",
       "      <td>-0.012614</td>\n",
       "      <td>...</td>\n",
       "      <td>0.024886</td>\n",
       "      <td>-0.007677</td>\n",
       "      <td>0.002610</td>\n",
       "      <td>0.011982</td>\n",
       "      <td>0.026283</td>\n",
       "      <td>-0.005501</td>\n",
       "      <td>-0.006116</td>\n",
       "      <td>-0.004254</td>\n",
       "      <td>1.000000</td>\n",
       "      <td>0.020234</td>\n",
       "    </tr>\n",
       "    <tr>\n",
       "      <th>price_range</th>\n",
       "      <td>0.125416</td>\n",
       "      <td>0.018435</td>\n",
       "      <td>-0.007072</td>\n",
       "      <td>0.005593</td>\n",
       "      <td>0.019970</td>\n",
       "      <td>0.017764</td>\n",
       "      <td>0.016394</td>\n",
       "      <td>-0.007218</td>\n",
       "      <td>-0.009145</td>\n",
       "      <td>0.015841</td>\n",
       "      <td>...</td>\n",
       "      <td>0.086334</td>\n",
       "      <td>0.098234</td>\n",
       "      <td>0.611585</td>\n",
       "      <td>0.018765</td>\n",
       "      <td>0.035517</td>\n",
       "      <td>0.016314</td>\n",
       "      <td>0.027586</td>\n",
       "      <td>-0.001310</td>\n",
       "      <td>0.020234</td>\n",
       "      <td>1.000000</td>\n",
       "    </tr>\n",
       "  </tbody>\n",
       "</table>\n",
       "<p>21 rows × 21 columns</p>\n",
       "</div>"
      ],
      "text/plain": [
       "               battery_power      blue  clock_speed  dual_sim        fc  \\\n",
       "battery_power       1.000000 -0.011036    -0.003906 -0.045550  0.026354   \n",
       "blue               -0.011036  1.000000     0.030063  0.015893 -0.017909   \n",
       "clock_speed        -0.003906  0.030063     1.000000  0.000122  0.008186   \n",
       "dual_sim           -0.045550  0.015893     0.000122  1.000000  0.001027   \n",
       "fc                  0.026354 -0.017909     0.008186  0.001027  1.000000   \n",
       "four_g             -0.002826  0.005131    -0.042194  0.009079  0.003252   \n",
       "int_memory          0.000120  0.030997    -0.004440 -0.008131 -0.025360   \n",
       "m_dep               0.024801  0.015312    -0.006059 -0.009951  0.008105   \n",
       "mobile_wt          -0.013987 -0.004707     0.002963 -0.009938  0.026626   \n",
       "n_cores            -0.017992  0.027085    -0.011779 -0.015167 -0.001845   \n",
       "pc                  0.030836 -0.020355     0.017458  0.009998  0.646720   \n",
       "px_height           0.024465 -0.021561    -0.009886 -0.011380 -0.012181   \n",
       "px_width            0.013516 -0.030947     0.016592  0.013076  0.004417   \n",
       "ram                -0.011973  0.042629     0.009285  0.042413 -0.001380   \n",
       "sc_h               -0.046432 -0.001254    -0.029317 -0.008950  0.007687   \n",
       "sc_w               -0.031701 -0.000812    -0.016415 -0.009231 -0.002178   \n",
       "talk_time           0.034727 -0.007364    -0.035416 -0.023975 -0.022223   \n",
       "three_g             0.016383 -0.019206    -0.040529 -0.005686 -0.002446   \n",
       "touch_screen       -0.010256 -0.008036     0.031627  0.007883 -0.001031   \n",
       "wifi               -0.002667 -0.006709    -0.034618  0.033362 -0.008320   \n",
       "price_range         0.125416  0.018435    -0.007072  0.005593  0.019970   \n",
       "\n",
       "                 four_g  int_memory     m_dep  mobile_wt   n_cores  ...  \\\n",
       "battery_power -0.002826    0.000120  0.024801  -0.013987 -0.017992  ...   \n",
       "blue           0.005131    0.030997  0.015312  -0.004707  0.027085  ...   \n",
       "clock_speed   -0.042194   -0.004440 -0.006059   0.002963 -0.011779  ...   \n",
       "dual_sim       0.009079   -0.008131 -0.009951  -0.009938 -0.015167  ...   \n",
       "fc             0.003252   -0.025360  0.008105   0.026626 -0.001845  ...   \n",
       "four_g         1.000000   -0.013895 -0.000166  -0.011626  0.002577  ...   \n",
       "int_memory    -0.013895    1.000000 -0.001654  -0.024645 -0.016797  ...   \n",
       "m_dep         -0.000166   -0.001654  1.000000  -0.000140 -0.006297  ...   \n",
       "mobile_wt     -0.011626   -0.024645 -0.000140   1.000000 -0.026891  ...   \n",
       "n_cores        0.002577   -0.016797 -0.006297  -0.026891  1.000000  ...   \n",
       "pc             0.015042   -0.012015  0.014767   0.023215  0.003330  ...   \n",
       "px_height     -0.003107   -0.004154  0.034499   0.009051 -0.021810  ...   \n",
       "px_width       0.019322   -0.013669  0.022965  -0.006512 -0.005965  ...   \n",
       "ram            0.016773    0.019511  0.000478   0.013205 -0.008014  ...   \n",
       "sc_h           0.012477    0.018765 -0.025951  -0.028354 -0.005618  ...   \n",
       "sc_w           0.025503    0.015554 -0.018419  -0.010790  0.025884  ...   \n",
       "talk_time     -0.029387    0.010695  0.015854  -0.009635  0.007883  ...   \n",
       "three_g        0.574514   -0.014205 -0.027267   0.000557  0.006688  ...   \n",
       "touch_screen   0.008934   -0.002711  0.016135   0.010636  0.010871  ...   \n",
       "wifi          -0.023898    0.008933 -0.033811   0.025156 -0.012614  ...   \n",
       "price_range    0.017764    0.016394 -0.007218  -0.009145  0.015841  ...   \n",
       "\n",
       "               px_height  px_width       ram      sc_h      sc_w  talk_time  \\\n",
       "battery_power   0.024465  0.013516 -0.011973 -0.046432 -0.031701   0.034727   \n",
       "blue           -0.021561 -0.030947  0.042629 -0.001254 -0.000812  -0.007364   \n",
       "clock_speed    -0.009886  0.016592  0.009285 -0.029317 -0.016415  -0.035416   \n",
       "dual_sim       -0.011380  0.013076  0.042413 -0.008950 -0.009231  -0.023975   \n",
       "fc             -0.012181  0.004417 -0.001380  0.007687 -0.002178  -0.022223   \n",
       "four_g         -0.003107  0.019322  0.016773  0.012477  0.025503  -0.029387   \n",
       "int_memory     -0.004154 -0.013669  0.019511  0.018765  0.015554   0.010695   \n",
       "m_dep           0.034499  0.022965  0.000478 -0.025951 -0.018419   0.015854   \n",
       "mobile_wt       0.009051 -0.006512  0.013205 -0.028354 -0.010790  -0.009635   \n",
       "n_cores        -0.021810 -0.005965 -0.008014 -0.005618  0.025884   0.007883   \n",
       "pc             -0.001220  0.017519  0.011877  0.013846 -0.012835  -0.005086   \n",
       "px_height       1.000000  0.511191 -0.009146  0.041625  0.043356   0.007907   \n",
       "px_width        0.511191  1.000000 -0.012385  0.005289  0.024491   0.020251   \n",
       "ram            -0.009146 -0.012385  1.000000  0.018811  0.033682   0.004916   \n",
       "sc_h            0.041625  0.005289  0.018811  1.000000  0.501217  -0.001429   \n",
       "sc_w            0.043356  0.024491  0.033682  0.501217  1.000000   0.006240   \n",
       "talk_time       0.007907  0.020251  0.004916 -0.001429  0.006240   1.000000   \n",
       "three_g        -0.027034  0.009069  0.020846  0.002405  0.020389  -0.033353   \n",
       "touch_screen    0.007404 -0.016715 -0.032903 -0.014724 -0.006745   0.025557   \n",
       "wifi            0.024886 -0.007677  0.002610  0.011982  0.026283  -0.005501   \n",
       "price_range     0.086334  0.098234  0.611585  0.018765  0.035517   0.016314   \n",
       "\n",
       "                three_g  touch_screen      wifi  price_range  \n",
       "battery_power  0.016383     -0.010256 -0.002667     0.125416  \n",
       "blue          -0.019206     -0.008036 -0.006709     0.018435  \n",
       "clock_speed   -0.040529      0.031627 -0.034618    -0.007072  \n",
       "dual_sim      -0.005686      0.007883  0.033362     0.005593  \n",
       "fc            -0.002446     -0.001031 -0.008320     0.019970  \n",
       "four_g         0.574514      0.008934 -0.023898     0.017764  \n",
       "int_memory    -0.014205     -0.002711  0.008933     0.016394  \n",
       "m_dep         -0.027267      0.016135 -0.033811    -0.007218  \n",
       "mobile_wt      0.000557      0.010636  0.025156    -0.009145  \n",
       "n_cores        0.006688      0.010871 -0.012614     0.015841  \n",
       "pc            -0.004333      0.006740 -0.017471     0.045733  \n",
       "px_height     -0.027034      0.007404  0.024886     0.086334  \n",
       "px_width       0.009069     -0.016715 -0.007677     0.098234  \n",
       "ram            0.020846     -0.032903  0.002610     0.611585  \n",
       "sc_h           0.002405     -0.014724  0.011982     0.018765  \n",
       "sc_w           0.020389     -0.006745  0.026283     0.035517  \n",
       "talk_time     -0.033353      0.025557 -0.005501     0.016314  \n",
       "three_g        1.000000      0.009418 -0.006116     0.027586  \n",
       "touch_screen   0.009418      1.000000 -0.004254    -0.001310  \n",
       "wifi          -0.006116     -0.004254  1.000000     0.020234  \n",
       "price_range    0.027586     -0.001310  0.020234     1.000000  \n",
       "\n",
       "[21 rows x 21 columns]"
      ]
     },
     "execution_count": 45,
     "metadata": {},
     "output_type": "execute_result"
    }
   ],
   "source": [
    "corr_matrix = data.corr()\n",
    "corr_matrix"
   ]
  },
  {
   "cell_type": "code",
   "execution_count": 46,
   "id": "ce1bee8e",
   "metadata": {},
   "outputs": [
    {
     "data": {
      "image/png": "[encoded data removed]",
      "text/plain": [
       "<Figure size 432x288 with 2 Axes>"
      ]
     },
     "metadata": {
      "needs_background": "light"
     },
     "output_type": "display_data"
    }
   ],
   "source": [
    "sns.heatmap(corr_matrix, square=True, cmap='coolwarm')\n",
    "pass"
   ]
  },
  {
   "cell_type": "markdown",
   "id": "5fe2acc2",
   "metadata": {},
   "source": [
    "Выведем коэффициенты корреляции, большие заданного значения:"
   ]
  },
  {
   "cell_type": "code",
   "execution_count": 47,
   "id": "fcb801b2",
   "metadata": {},
   "outputs": [
    {
     "data": {
      "text/html": [
       "<div>\n",
       "<style scoped>\n",
       "    .dataframe tbody tr th:only-of-type {\n",
       "        vertical-align: middle;\n",
       "    }\n",
       "\n",
       "    .dataframe tbody tr th {\n",
       "        vertical-align: top;\n",
       "    }\n",
       "\n",
       "    .dataframe thead th {\n",
       "        text-align: right;\n",
       "    }\n",
       "</style>\n",
       "<table border=\"1\" class=\"dataframe\">\n",
       "  <thead>\n",
       "    <tr style=\"text-align: right;\">\n",
       "      <th></th>\n",
       "      <th>battery_power</th>\n",
       "      <th>blue</th>\n",
       "      <th>clock_speed</th>\n",
       "      <th>dual_sim</th>\n",
       "      <th>fc</th>\n",
       "      <th>four_g</th>\n",
       "      <th>int_memory</th>\n",
       "      <th>m_dep</th>\n",
       "      <th>mobile_wt</th>\n",
       "      <th>n_cores</th>\n",
       "      <th>...</th>\n",
       "      <th>px_height</th>\n",
       "      <th>px_width</th>\n",
       "      <th>ram</th>\n",
       "      <th>sc_h</th>\n",
       "      <th>sc_w</th>\n",
       "      <th>talk_time</th>\n",
       "      <th>three_g</th>\n",
       "      <th>touch_screen</th>\n",
       "      <th>wifi</th>\n",
       "      <th>price_range</th>\n",
       "    </tr>\n",
       "  </thead>\n",
       "  <tbody>\n",
       "    <tr>\n",
       "      <th>battery_power</th>\n",
       "      <td>True</td>\n",
       "      <td>False</td>\n",
       "      <td>False</td>\n",
       "      <td>False</td>\n",
       "      <td>False</td>\n",
       "      <td>False</td>\n",
       "      <td>False</td>\n",
       "      <td>False</td>\n",
       "      <td>False</td>\n",
       "      <td>False</td>\n",
       "      <td>...</td>\n",
       "      <td>False</td>\n",
       "      <td>False</td>\n",
       "      <td>False</td>\n",
       "      <td>False</td>\n",
       "      <td>False</td>\n",
       "      <td>False</td>\n",
       "      <td>False</td>\n",
       "      <td>False</td>\n",
       "      <td>False</td>\n",
       "      <td>False</td>\n",
       "    </tr>\n",
       "    <tr>\n",
       "      <th>blue</th>\n",
       "      <td>False</td>\n",
       "      <td>True</td>\n",
       "      <td>False</td>\n",
       "      <td>False</td>\n",
       "      <td>False</td>\n",
       "      <td>False</td>\n",
       "      <td>False</td>\n",
       "      <td>False</td>\n",
       "      <td>False</td>\n",
       "      <td>False</td>\n",
       "      <td>...</td>\n",
       "      <td>False</td>\n",
       "      <td>False</td>\n",
       "      <td>False</td>\n",
       "      <td>False</td>\n",
       "      <td>False</td>\n",
       "      <td>False</td>\n",
       "      <td>False</td>\n",
       "      <td>False</td>\n",
       "      <td>False</td>\n",
       "      <td>False</td>\n",
       "    </tr>\n",
       "    <tr>\n",
       "      <th>clock_speed</th>\n",
       "      <td>False</td>\n",
       "      <td>False</td>\n",
       "      <td>True</td>\n",
       "      <td>False</td>\n",
       "      <td>False</td>\n",
       "      <td>False</td>\n",
       "      <td>False</td>\n",
       "      <td>False</td>\n",
       "      <td>False</td>\n",
       "      <td>False</td>\n",
       "      <td>...</td>\n",
       "      <td>False</td>\n",
       "      <td>False</td>\n",
       "      <td>False</td>\n",
       "      <td>False</td>\n",
       "      <td>False</td>\n",
       "      <td>False</td>\n",
       "      <td>False</td>\n",
       "      <td>False</td>\n",
       "      <td>False</td>\n",
       "      <td>False</td>\n",
       "    </tr>\n",
       "    <tr>\n",
       "      <th>dual_sim</th>\n",
       "      <td>False</td>\n",
       "      <td>False</td>\n",
       "      <td>False</td>\n",
       "      <td>True</td>\n",
       "      <td>False</td>\n",
       "      <td>False</td>\n",
       "      <td>False</td>\n",
       "      <td>False</td>\n",
       "      <td>False</td>\n",
       "      <td>False</td>\n",
       "      <td>...</td>\n",
       "      <td>False</td>\n",
       "      <td>False</td>\n",
       "      <td>False</td>\n",
       "      <td>False</td>\n",
       "      <td>False</td>\n",
       "      <td>False</td>\n",
       "      <td>False</td>\n",
       "      <td>False</td>\n",
       "      <td>False</td>\n",
       "      <td>False</td>\n",
       "    </tr>\n",
       "    <tr>\n",
       "      <th>fc</th>\n",
       "      <td>False</td>\n",
       "      <td>False</td>\n",
       "      <td>False</td>\n",
       "      <td>False</td>\n",
       "      <td>True</td>\n",
       "      <td>False</td>\n",
       "      <td>False</td>\n",
       "      <td>False</td>\n",
       "      <td>False</td>\n",
       "      <td>False</td>\n",
       "      <td>...</td>\n",
       "      <td>False</td>\n",
       "      <td>False</td>\n",
       "      <td>False</td>\n",
       "      <td>False</td>\n",
       "      <td>False</td>\n",
       "      <td>False</td>\n",
       "      <td>False</td>\n",
       "      <td>False</td>\n",
       "      <td>False</td>\n",
       "      <td>False</td>\n",
       "    </tr>\n",
       "    <tr>\n",
       "      <th>four_g</th>\n",
       "      <td>False</td>\n",
       "      <td>False</td>\n",
       "      <td>False</td>\n",
       "      <td>False</td>\n",
       "      <td>False</td>\n",
       "      <td>True</td>\n",
       "      <td>False</td>\n",
       "      <td>False</td>\n",
       "      <td>False</td>\n",
       "      <td>False</td>\n",
       "      <td>...</td>\n",
       "      <td>False</td>\n",
       "      <td>False</td>\n",
       "      <td>False</td>\n",
       "      <td>False</td>\n",
       "      <td>False</td>\n",
       "      <td>False</td>\n",
       "      <td>True</td>\n",
       "      <td>False</td>\n",
       "      <td>False</td>\n",
       "      <td>False</td>\n",
       "    </tr>\n",
       "    <tr>\n",
       "      <th>int_memory</th>\n",
       "      <td>False</td>\n",
       "      <td>False</td>\n",
       "      <td>False</td>\n",
       "      <td>False</td>\n",
       "      <td>False</td>\n",
       "      <td>False</td>\n",
       "      <td>True</td>\n",
       "      <td>False</td>\n",
       "      <td>False</td>\n",
       "      <td>False</td>\n",
       "      <td>...</td>\n",
       "      <td>False</td>\n",
       "      <td>False</td>\n",
       "      <td>False</td>\n",
       "      <td>False</td>\n",
       "      <td>False</td>\n",
       "      <td>False</td>\n",
       "      <td>False</td>\n",
       "      <td>False</td>\n",
       "      <td>False</td>\n",
       "      <td>False</td>\n",
       "    </tr>\n",
       "    <tr>\n",
       "      <th>m_dep</th>\n",
       "      <td>False</td>\n",
       "      <td>False</td>\n",
       "      <td>False</td>\n",
       "      <td>False</td>\n",
       "      <td>False</td>\n",
       "      <td>False</td>\n",
       "      <td>False</td>\n",
       "      <td>True</td>\n",
       "      <td>False</td>\n",
       "      <td>False</td>\n",
       "      <td>...</td>\n",
       "      <td>False</td>\n",
       "      <td>False</td>\n",
       "      <td>False</td>\n",
       "      <td>False</td>\n",
       "      <td>False</td>\n",
       "      <td>False</td>\n",
       "      <td>False</td>\n",
       "      <td>False</td>\n",
       "      <td>False</td>\n",
       "      <td>False</td>\n",
       "    </tr>\n",
       "    <tr>\n",
       "      <th>mobile_wt</th>\n",
       "      <td>False</td>\n",
       "      <td>False</td>\n",
       "      <td>False</td>\n",
       "      <td>False</td>\n",
       "      <td>False</td>\n",
       "      <td>False</td>\n",
       "      <td>False</td>\n",
       "      <td>False</td>\n",
       "      <td>True</td>\n",
       "      <td>False</td>\n",
       "      <td>...</td>\n",
       "      <td>False</td>\n",
       "      <td>False</td>\n",
       "      <td>False</td>\n",
       "      <td>False</td>\n",
       "      <td>False</td>\n",
       "      <td>False</td>\n",
       "      <td>False</td>\n",
       "      <td>False</td>\n",
       "      <td>False</td>\n",
       "      <td>False</td>\n",
       "    </tr>\n",
       "    <tr>\n",
       "      <th>n_cores</th>\n",
       "      <td>False</td>\n",
       "      <td>False</td>\n",
       "      <td>False</td>\n",
       "      <td>False</td>\n",
       "      <td>False</td>\n",
       "      <td>False</td>\n",
       "      <td>False</td>\n",
       "      <td>False</td>\n",
       "      <td>False</td>\n",
       "      <td>True</td>\n",
       "      <td>...</td>\n",
       "      <td>False</td>\n",
       "      <td>False</td>\n",
       "      <td>False</td>\n",
       "      <td>False</td>\n",
       "      <td>False</td>\n",
       "      <td>False</td>\n",
       "      <td>False</td>\n",
       "      <td>False</td>\n",
       "      <td>False</td>\n",
       "      <td>False</td>\n",
       "    </tr>\n",
       "    <tr>\n",
       "      <th>pc</th>\n",
       "      <td>False</td>\n",
       "      <td>False</td>\n",
       "      <td>False</td>\n",
       "      <td>False</td>\n",
       "      <td>True</td>\n",
       "      <td>False</td>\n",
       "      <td>False</td>\n",
       "      <td>False</td>\n",
       "      <td>False</td>\n",
       "      <td>False</td>\n",
       "      <td>...</td>\n",
       "      <td>False</td>\n",
       "      <td>False</td>\n",
       "      <td>False</td>\n",
       "      <td>False</td>\n",
       "      <td>False</td>\n",
       "      <td>False</td>\n",
       "      <td>False</td>\n",
       "      <td>False</td>\n",
       "      <td>False</td>\n",
       "      <td>False</td>\n",
       "    </tr>\n",
       "    <tr>\n",
       "      <th>px_height</th>\n",
       "      <td>False</td>\n",
       "      <td>False</td>\n",
       "      <td>False</td>\n",
       "      <td>False</td>\n",
       "      <td>False</td>\n",
       "      <td>False</td>\n",
       "      <td>False</td>\n",
       "      <td>False</td>\n",
       "      <td>False</td>\n",
       "      <td>False</td>\n",
       "      <td>...</td>\n",
       "      <td>True</td>\n",
       "      <td>True</td>\n",
       "      <td>False</td>\n",
       "      <td>False</td>\n",
       "      <td>False</td>\n",
       "      <td>False</td>\n",
       "      <td>False</td>\n",
       "      <td>False</td>\n",
       "      <td>False</td>\n",
       "      <td>False</td>\n",
       "    </tr>\n",
       "    <tr>\n",
       "      <th>px_width</th>\n",
       "      <td>False</td>\n",
       "      <td>False</td>\n",
       "      <td>False</td>\n",
       "      <td>False</td>\n",
       "      <td>False</td>\n",
       "      <td>False</td>\n",
       "      <td>False</td>\n",
       "      <td>False</td>\n",
       "      <td>False</td>\n",
       "      <td>False</td>\n",
       "      <td>...</td>\n",
       "      <td>True</td>\n",
       "      <td>True</td>\n",
       "      <td>False</td>\n",
       "      <td>False</td>\n",
       "      <td>False</td>\n",
       "      <td>False</td>\n",
       "      <td>False</td>\n",
       "      <td>False</td>\n",
       "      <td>False</td>\n",
       "      <td>False</td>\n",
       "    </tr>\n",
       "    <tr>\n",
       "      <th>ram</th>\n",
       "      <td>False</td>\n",
       "      <td>False</td>\n",
       "      <td>False</td>\n",
       "      <td>False</td>\n",
       "      <td>False</td>\n",
       "      <td>False</td>\n",
       "      <td>False</td>\n",
       "      <td>False</td>\n",
       "      <td>False</td>\n",
       "      <td>False</td>\n",
       "      <td>...</td>\n",
       "      <td>False</td>\n",
       "      <td>False</td>\n",
       "      <td>True</td>\n",
       "      <td>False</td>\n",
       "      <td>False</td>\n",
       "      <td>False</td>\n",
       "      <td>False</td>\n",
       "      <td>False</td>\n",
       "      <td>False</td>\n",
       "      <td>True</td>\n",
       "    </tr>\n",
       "    <tr>\n",
       "      <th>sc_h</th>\n",
       "      <td>False</td>\n",
       "      <td>False</td>\n",
       "      <td>False</td>\n",
       "      <td>False</td>\n",
       "      <td>False</td>\n",
       "      <td>False</td>\n",
       "      <td>False</td>\n",
       "      <td>False</td>\n",
       "      <td>False</td>\n",
       "      <td>False</td>\n",
       "      <td>...</td>\n",
       "      <td>False</td>\n",
       "      <td>False</td>\n",
       "      <td>False</td>\n",
       "      <td>True</td>\n",
       "      <td>True</td>\n",
       "      <td>False</td>\n",
       "      <td>False</td>\n",
       "      <td>False</td>\n",
       "      <td>False</td>\n",
       "      <td>False</td>\n",
       "    </tr>\n",
       "    <tr>\n",
       "      <th>sc_w</th>\n",
       "      <td>False</td>\n",
       "      <td>False</td>\n",
       "      <td>False</td>\n",
       "      <td>False</td>\n",
       "      <td>False</td>\n",
       "      <td>False</td>\n",
       "      <td>False</td>\n",
       "      <td>False</td>\n",
       "      <td>False</td>\n",
       "      <td>False</td>\n",
       "      <td>...</td>\n",
       "      <td>False</td>\n",
       "      <td>False</td>\n",
       "      <td>False</td>\n",
       "      <td>True</td>\n",
       "      <td>True</td>\n",
       "      <td>False</td>\n",
       "      <td>False</td>\n",
       "      <td>False</td>\n",
       "      <td>False</td>\n",
       "      <td>False</td>\n",
       "    </tr>\n",
       "    <tr>\n",
       "      <th>talk_time</th>\n",
       "      <td>False</td>\n",
       "      <td>False</td>\n",
       "      <td>False</td>\n",
       "      <td>False</td>\n",
       "      <td>False</td>\n",
       "      <td>False</td>\n",
       "      <td>False</td>\n",
       "      <td>False</td>\n",
       "      <td>False</td>\n",
       "      <td>False</td>\n",
       "      <td>...</td>\n",
       "      <td>False</td>\n",
       "      <td>False</td>\n",
       "      <td>False</td>\n",
       "      <td>False</td>\n",
       "      <td>False</td>\n",
       "      <td>True</td>\n",
       "      <td>False</td>\n",
       "      <td>False</td>\n",
       "      <td>False</td>\n",
       "      <td>False</td>\n",
       "    </tr>\n",
       "    <tr>\n",
       "      <th>three_g</th>\n",
       "      <td>False</td>\n",
       "      <td>False</td>\n",
       "      <td>False</td>\n",
       "      <td>False</td>\n",
       "      <td>False</td>\n",
       "      <td>True</td>\n",
       "      <td>False</td>\n",
       "      <td>False</td>\n",
       "      <td>False</td>\n",
       "      <td>False</td>\n",
       "      <td>...</td>\n",
       "      <td>False</td>\n",
       "      <td>False</td>\n",
       "      <td>False</td>\n",
       "      <td>False</td>\n",
       "      <td>False</td>\n",
       "      <td>False</td>\n",
       "      <td>True</td>\n",
       "      <td>False</td>\n",
       "      <td>False</td>\n",
       "      <td>False</td>\n",
       "    </tr>\n",
       "    <tr>\n",
       "      <th>touch_screen</th>\n",
       "      <td>False</td>\n",
       "      <td>False</td>\n",
       "      <td>False</td>\n",
       "      <td>False</td>\n",
       "      <td>False</td>\n",
       "      <td>False</td>\n",
       "      <td>False</td>\n",
       "      <td>False</td>\n",
       "      <td>False</td>\n",
       "      <td>False</td>\n",
       "      <td>...</td>\n",
       "      <td>False</td>\n",
       "      <td>False</td>\n",
       "      <td>False</td>\n",
       "      <td>False</td>\n",
       "      <td>False</td>\n",
       "      <td>False</td>\n",
       "      <td>False</td>\n",
       "      <td>True</td>\n",
       "      <td>False</td>\n",
       "      <td>False</td>\n",
       "    </tr>\n",
       "    <tr>\n",
       "      <th>wifi</th>\n",
       "      <td>False</td>\n",
       "      <td>False</td>\n",
       "      <td>False</td>\n",
       "      <td>False</td>\n",
       "      <td>False</td>\n",
       "      <td>False</td>\n",
       "      <td>False</td>\n",
       "      <td>False</td>\n",
       "      <td>False</td>\n",
       "      <td>False</td>\n",
       "      <td>...</td>\n",
       "      <td>False</td>\n",
       "      <td>False</td>\n",
       "      <td>False</td>\n",
       "      <td>False</td>\n",
       "      <td>False</td>\n",
       "      <td>False</td>\n",
       "      <td>False</td>\n",
       "      <td>False</td>\n",
       "      <td>True</td>\n",
       "      <td>False</td>\n",
       "    </tr>\n",
       "    <tr>\n",
       "      <th>price_range</th>\n",
       "      <td>False</td>\n",
       "      <td>False</td>\n",
       "      <td>False</td>\n",
       "      <td>False</td>\n",
       "      <td>False</td>\n",
       "      <td>False</td>\n",
       "      <td>False</td>\n",
       "      <td>False</td>\n",
       "      <td>False</td>\n",
       "      <td>False</td>\n",
       "      <td>...</td>\n",
       "      <td>False</td>\n",
       "      <td>False</td>\n",
       "      <td>True</td>\n",
       "      <td>False</td>\n",
       "      <td>False</td>\n",
       "      <td>False</td>\n",
       "      <td>False</td>\n",
       "      <td>False</td>\n",
       "      <td>False</td>\n",
       "      <td>True</td>\n",
       "    </tr>\n",
       "  </tbody>\n",
       "</table>\n",
       "<p>21 rows × 21 columns</p>\n",
       "</div>"
      ],
      "text/plain": [
       "               battery_power   blue  clock_speed  dual_sim     fc  four_g  \\\n",
       "battery_power           True  False        False     False  False   False   \n",
       "blue                   False   True        False     False  False   False   \n",
       "clock_speed            False  False         True     False  False   False   \n",
       "dual_sim               False  False        False      True  False   False   \n",
       "fc                     False  False        False     False   True   False   \n",
       "four_g                 False  False        False     False  False    True   \n",
       "int_memory             False  False        False     False  False   False   \n",
       "m_dep                  False  False        False     False  False   False   \n",
       "mobile_wt              False  False        False     False  False   False   \n",
       "n_cores                False  False        False     False  False   False   \n",
       "pc                     False  False        False     False   True   False   \n",
       "px_height              False  False        False     False  False   False   \n",
       "px_width               False  False        False     False  False   False   \n",
       "ram                    False  False        False     False  False   False   \n",
       "sc_h                   False  False        False     False  False   False   \n",
       "sc_w                   False  False        False     False  False   False   \n",
       "talk_time              False  False        False     False  False   False   \n",
       "three_g                False  False        False     False  False    True   \n",
       "touch_screen           False  False        False     False  False   False   \n",
       "wifi                   False  False        False     False  False   False   \n",
       "price_range            False  False        False     False  False   False   \n",
       "\n",
       "               int_memory  m_dep  mobile_wt  n_cores  ...  px_height  \\\n",
       "battery_power       False  False      False    False  ...      False   \n",
       "blue                False  False      False    False  ...      False   \n",
       "clock_speed         False  False      False    False  ...      False   \n",
       "dual_sim            False  False      False    False  ...      False   \n",
       "fc                  False  False      False    False  ...      False   \n",
       "four_g              False  False      False    False  ...      False   \n",
       "int_memory           True  False      False    False  ...      False   \n",
       "m_dep               False   True      False    False  ...      False   \n",
       "mobile_wt           False  False       True    False  ...      False   \n",
       "n_cores             False  False      False     True  ...      False   \n",
       "pc                  False  False      False    False  ...      False   \n",
       "px_height           False  False      False    False  ...       True   \n",
       "px_width            False  False      False    False  ...       True   \n",
       "ram                 False  False      False    False  ...      False   \n",
       "sc_h                False  False      False    False  ...      False   \n",
       "sc_w                False  False      False    False  ...      False   \n",
       "talk_time           False  False      False    False  ...      False   \n",
       "three_g             False  False      False    False  ...      False   \n",
       "touch_screen        False  False      False    False  ...      False   \n",
       "wifi                False  False      False    False  ...      False   \n",
       "price_range         False  False      False    False  ...      False   \n",
       "\n",
       "               px_width    ram   sc_h   sc_w  talk_time  three_g  \\\n",
       "battery_power     False  False  False  False      False    False   \n",
       "blue              False  False  False  False      False    False   \n",
       "clock_speed       False  False  False  False      False    False   \n",
       "dual_sim          False  False  False  False      False    False   \n",
       "fc                False  False  False  False      False    False   \n",
       "four_g            False  False  False  False      False     True   \n",
       "int_memory        False  False  False  False      False    False   \n",
       "m_dep             False  False  False  False      False    False   \n",
       "mobile_wt         False  False  False  False      False    False   \n",
       "n_cores           False  False  False  False      False    False   \n",
       "pc                False  False  False  False      False    False   \n",
       "px_height          True  False  False  False      False    False   \n",
       "px_width           True  False  False  False      False    False   \n",
       "ram               False   True  False  False      False    False   \n",
       "sc_h              False  False   True   True      False    False   \n",
       "sc_w              False  False   True   True      False    False   \n",
       "talk_time         False  False  False  False       True    False   \n",
       "three_g           False  False  False  False      False     True   \n",
       "touch_screen      False  False  False  False      False    False   \n",
       "wifi              False  False  False  False      False    False   \n",
       "price_range       False   True  False  False      False    False   \n",
       "\n",
       "               touch_screen   wifi  price_range  \n",
       "battery_power         False  False        False  \n",
       "blue                  False  False        False  \n",
       "clock_speed           False  False        False  \n",
       "dual_sim              False  False        False  \n",
       "fc                    False  False        False  \n",
       "four_g                False  False        False  \n",
       "int_memory            False  False        False  \n",
       "m_dep                 False  False        False  \n",
       "mobile_wt             False  False        False  \n",
       "n_cores               False  False        False  \n",
       "pc                    False  False        False  \n",
       "px_height             False  False        False  \n",
       "px_width              False  False        False  \n",
       "ram                   False  False         True  \n",
       "sc_h                  False  False        False  \n",
       "sc_w                  False  False        False  \n",
       "talk_time             False  False        False  \n",
       "three_g               False  False        False  \n",
       "touch_screen           True  False        False  \n",
       "wifi                  False   True        False  \n",
       "price_range           False  False         True  \n",
       "\n",
       "[21 rows x 21 columns]"
      ]
     },
     "execution_count": 47,
     "metadata": {},
     "output_type": "execute_result"
    }
   ],
   "source": [
    "corr_matrix >= 0.5"
   ]
  },
  {
   "cell_type": "markdown",
   "id": "1129e4a1",
   "metadata": {},
   "source": [
    "Коэффициент корреляции > 0,5 имеют: px_width и px_height, sc_h и sc_w, four_g и three_g, price_range и ram, что говорит о наличие связи между признаками.\n",
    "Для признаков, у которых коэффициент корреляции < 0,5, можно сказать, что связь между ними слабая\n",
    "\n",
    "Перейдем к рассмотрению категориальных признаков"
   ]
  },
  {
   "cell_type": "code",
   "execution_count": 48,
   "id": "9ff8296d",
   "metadata": {},
   "outputs": [
    {
     "data": {
      "text/plain": [
       "1.0    1452\n",
       "0.0    1430\n",
       "Name: blue, dtype: int64"
      ]
     },
     "execution_count": 48,
     "metadata": {},
     "output_type": "execute_result"
    }
   ],
   "source": [
    "data['blue'].value_counts()"
   ]
  },
  {
   "cell_type": "code",
   "execution_count": 49,
   "id": "1630eec9",
   "metadata": {},
   "outputs": [
    {
     "data": {
      "image/png": "[encoded data removed]",
      "text/plain": [
       "<Figure size 432x288 with 1 Axes>"
      ]
     },
     "metadata": {
      "needs_background": "light"
     },
     "output_type": "display_data"
    }
   ],
   "source": [
    "sns.countplot(x='blue', data=data)\n",
    "pass"
   ]
  },
  {
   "cell_type": "markdown",
   "id": "e0e741c4",
   "metadata": {},
   "source": [
    "Число моделей с bluetooth приблизительно равно числу моделей без него."
   ]
  },
  {
   "cell_type": "code",
   "execution_count": 50,
   "id": "f703a517",
   "metadata": {},
   "outputs": [
    {
     "data": {
      "text/plain": [
       "1.0    1474\n",
       "0.0    1408\n",
       "Name: dual_sim, dtype: int64"
      ]
     },
     "execution_count": 50,
     "metadata": {},
     "output_type": "execute_result"
    }
   ],
   "source": [
    "data['dual_sim'].value_counts()"
   ]
  },
  {
   "cell_type": "code",
   "execution_count": 51,
   "id": "5dcec950",
   "metadata": {},
   "outputs": [
    {
     "data": {
      "image/png": "[encoded data removed]",
      "text/plain": [
       "<Figure size 432x288 with 1 Axes>"
      ]
     },
     "metadata": {
      "needs_background": "light"
     },
     "output_type": "display_data"
    }
   ],
   "source": [
    "sns.countplot(x='dual_sim', data=data)\n",
    "pass"
   ]
  },
  {
   "cell_type": "markdown",
   "id": "408af0a5",
   "metadata": {},
   "source": [
    "Число моделей с поддержкой 2 симкарт немного больше."
   ]
  },
  {
   "cell_type": "code",
   "execution_count": 52,
   "id": "add5c877",
   "metadata": {},
   "outputs": [
    {
     "data": {
      "text/plain": [
       "1.0    1461\n",
       "0.0    1420\n",
       "Name: four_g, dtype: int64"
      ]
     },
     "execution_count": 52,
     "metadata": {},
     "output_type": "execute_result"
    }
   ],
   "source": [
    "data['four_g'].value_counts()"
   ]
  },
  {
   "cell_type": "code",
   "execution_count": 53,
   "id": "7d72e5ee",
   "metadata": {},
   "outputs": [
    {
     "data": {
      "image/png": "[encoded data removed]",
      "text/plain": [
       "<Figure size 432x288 with 1 Axes>"
      ]
     },
     "metadata": {
      "needs_background": "light"
     },
     "output_type": "display_data"
    }
   ],
   "source": [
    "sns.countplot(x='four_g', data=data)\n",
    "pass"
   ]
  },
  {
   "cell_type": "markdown",
   "id": "ea729484",
   "metadata": {},
   "source": [
    "Число моделей с поддержкой 4G немного больше."
   ]
  },
  {
   "cell_type": "code",
   "execution_count": 54,
   "id": "e969a868",
   "metadata": {},
   "outputs": [
    {
     "data": {
      "text/plain": [
       "1.0    2186\n",
       "0.0     700\n",
       "Name: three_g, dtype: int64"
      ]
     },
     "execution_count": 54,
     "metadata": {},
     "output_type": "execute_result"
    }
   ],
   "source": [
    "data['three_g'].value_counts()"
   ]
  },
  {
   "cell_type": "code",
   "execution_count": 55,
   "id": "6378ce67",
   "metadata": {},
   "outputs": [
    {
     "data": {
      "image/png": "[encoded data removed]",
      "text/plain": [
       "<Figure size 432x288 with 1 Axes>"
      ]
     },
     "metadata": {
      "needs_background": "light"
     },
     "output_type": "display_data"
    }
   ],
   "source": [
    "sns.countplot(x='three_g', data=data)\n",
    "pass"
   ]
  },
  {
   "cell_type": "markdown",
   "id": "29d948bf",
   "metadata": {},
   "source": [
    "Число моделей с поддержкой 3G примерно в 3 раза больше"
   ]
  },
  {
   "cell_type": "code",
   "execution_count": 56,
   "id": "ca183104",
   "metadata": {},
   "outputs": [
    {
     "data": {
      "text/plain": [
       "1.0    1453\n",
       "0.0    1436\n",
       "Name: touch_screen, dtype: int64"
      ]
     },
     "execution_count": 56,
     "metadata": {},
     "output_type": "execute_result"
    }
   ],
   "source": [
    "data['touch_screen'].value_counts()"
   ]
  },
  {
   "cell_type": "code",
   "execution_count": 57,
   "id": "a0e0d348",
   "metadata": {},
   "outputs": [
    {
     "data": {
      "image/png": "[encoded data removed]",
      "text/plain": [
       "<Figure size 432x288 with 1 Axes>"
      ]
     },
     "metadata": {
      "needs_background": "light"
     },
     "output_type": "display_data"
    }
   ],
   "source": [
    "sns.countplot(x='touch_screen', data=data)\n",
    "pass"
   ]
  },
  {
   "cell_type": "markdown",
   "id": "c62f4730",
   "metadata": {},
   "source": [
    "Число моделей с сенсорным экраном приблизительно равно числу моделей без него"
   ]
  },
  {
   "cell_type": "code",
   "execution_count": 58,
   "id": "89b26a49",
   "metadata": {},
   "outputs": [
    {
     "data": {
      "text/plain": [
       "1.0    1467\n",
       "0.0    1422\n",
       "Name: wifi, dtype: int64"
      ]
     },
     "execution_count": 58,
     "metadata": {},
     "output_type": "execute_result"
    }
   ],
   "source": [
    "data['wifi'].value_counts()"
   ]
  },
  {
   "cell_type": "code",
   "execution_count": 59,
   "id": "0762ee7c",
   "metadata": {},
   "outputs": [
    {
     "data": {
      "image/png": "[encoded data removed]",
      "text/plain": [
       "<Figure size 432x288 with 1 Axes>"
      ]
     },
     "metadata": {
      "needs_background": "light"
     },
     "output_type": "display_data"
    }
   ],
   "source": [
    "sns.countplot(x='wifi', data=data)\n",
    "pass"
   ]
  },
  {
   "cell_type": "markdown",
   "id": "6c765dae",
   "metadata": {},
   "source": [
    "Число моделей с поддержкой WiFi немного больше."
   ]
  },
  {
   "cell_type": "code",
   "execution_count": 60,
   "id": "ac7b43df",
   "metadata": {},
   "outputs": [
    {
     "data": {
      "text/plain": [
       "0    734\n",
       "1    730\n",
       "2    721\n",
       "3    707\n",
       "Name: price_range, dtype: int64"
      ]
     },
     "execution_count": 60,
     "metadata": {},
     "output_type": "execute_result"
    }
   ],
   "source": [
    "data['price_range'].value_counts()"
   ]
  },
  {
   "cell_type": "code",
   "execution_count": 61,
   "id": "597d981a",
   "metadata": {},
   "outputs": [
    {
     "data": {
      "image/png": "[encoded data removed]",
      "text/plain": [
       "<Figure size 432x288 with 1 Axes>"
      ]
     },
     "metadata": {
      "needs_background": "light"
     },
     "output_type": "display_data"
    }
   ],
   "source": [
    "sns.countplot(x='price_range', data=data)\n",
    "pass"
   ]
  },
  {
   "cell_type": "markdown",
   "id": "292307ab",
   "metadata": {},
   "source": [
    "Ценовой диапозон выставлен примерно одинаково"
   ]
  },
  {
   "cell_type": "markdown",
   "id": "1042acd3",
   "metadata": {},
   "source": [
    "## 3. Обработка пропущенных значений \n",
    "Число пропущенных значений мало - удалим строки с пропущенными значениями"
   ]
  },
  {
   "cell_type": "code",
   "execution_count": 62,
   "id": "420ef49e",
   "metadata": {},
   "outputs": [
    {
     "name": "stdout",
     "output_type": "stream",
     "text": [
      "(2785, 21)\n"
     ]
    },
    {
     "data": {
      "text/plain": [
       "battery_power    0\n",
       "blue             0\n",
       "clock_speed      0\n",
       "dual_sim         0\n",
       "fc               0\n",
       "four_g           0\n",
       "int_memory       0\n",
       "m_dep            0\n",
       "mobile_wt        0\n",
       "n_cores          0\n",
       "pc               0\n",
       "px_height        0\n",
       "px_width         0\n",
       "ram              0\n",
       "sc_h             0\n",
       "sc_w             0\n",
       "talk_time        0\n",
       "three_g          0\n",
       "touch_screen     0\n",
       "wifi             0\n",
       "price_range      0\n",
       "dtype: int64"
      ]
     },
     "execution_count": 62,
     "metadata": {},
     "output_type": "execute_result"
    }
   ],
   "source": [
    "data.dropna(axis=0, how='all', subset=['battery_power'], inplace=True)\n",
    "data.dropna(axis=0, how='all', subset=['blue'], inplace=True)\n",
    "data.dropna(axis=0, how='all', subset=['clock_speed'], inplace=True)\n",
    "data.dropna(axis=0, how='all', subset=['dual_sim'], inplace=True)\n",
    "data.dropna(axis=0, how='all', subset=['fc'], inplace=True)\n",
    "data.dropna(axis=0, how='all', subset=['four_g'], inplace=True)\n",
    "data.dropna(axis=0, how='all', subset=['int_memory'], inplace=True)\n",
    "data.dropna(axis=0, how='all', subset=['m_dep'], inplace=True)\n",
    "data.dropna(axis=0, how='all', subset=['mobile_wt'], inplace=True)\n",
    "data.dropna(axis=0, how='all', subset=['n_cores'], inplace=True)\n",
    "data.dropna(axis=0, how='all', subset=['pc'], inplace=True)\n",
    "data.dropna(axis=0, how='all', subset=['px_height'], inplace=True)\n",
    "data.dropna(axis=0, how='all', subset=['px_width'], inplace=True)\n",
    "data.dropna(axis=0, how='all', subset=['ram'], inplace=True)\n",
    "data.dropna(axis=0, how='all', subset=['sc_h'], inplace=True)\n",
    "data.dropna(axis=0, how='all', subset=['sc_w'], inplace=True)\n",
    "data.dropna(axis=0, how='all', subset=['talk_time'], inplace=True)\n",
    "data.dropna(axis=0, how='all', subset=['three_g'], inplace=True)\n",
    "data.dropna(axis=0, how='all', subset=['touch_screen'], inplace=True)\n",
    "data.dropna(axis=0, how='all', subset=['wifi'], inplace=True)\n",
    "print(data.shape)\n",
    "data.isna().sum()"
   ]
  },
  {
   "cell_type": "markdown",
   "id": "a1ceac46",
   "metadata": {},
   "source": [
    "## 4. Обработка категориальных признаков\n",
    "Все категориальные признаки уже заданы числовыми значениями\n",
    "## 5. Нормализация\n",
    "Проведем нормализацию с помощью линейного преобразования к отрезку [0, 1]"
   ]
  },
  {
   "cell_type": "code",
   "execution_count": 63,
   "id": "b4cf77b6",
   "metadata": {},
   "outputs": [
    {
     "data": {
      "text/html": [
       "<div>\n",
       "<style scoped>\n",
       "    .dataframe tbody tr th:only-of-type {\n",
       "        vertical-align: middle;\n",
       "    }\n",
       "\n",
       "    .dataframe tbody tr th {\n",
       "        vertical-align: top;\n",
       "    }\n",
       "\n",
       "    .dataframe thead th {\n",
       "        text-align: right;\n",
       "    }\n",
       "</style>\n",
       "<table border=\"1\" class=\"dataframe\">\n",
       "  <thead>\n",
       "    <tr style=\"text-align: right;\">\n",
       "      <th></th>\n",
       "      <th>battery_power</th>\n",
       "      <th>blue</th>\n",
       "      <th>clock_speed</th>\n",
       "      <th>dual_sim</th>\n",
       "      <th>fc</th>\n",
       "      <th>four_g</th>\n",
       "      <th>int_memory</th>\n",
       "      <th>m_dep</th>\n",
       "      <th>mobile_wt</th>\n",
       "      <th>n_cores</th>\n",
       "      <th>...</th>\n",
       "      <th>px_height</th>\n",
       "      <th>px_width</th>\n",
       "      <th>ram</th>\n",
       "      <th>sc_h</th>\n",
       "      <th>sc_w</th>\n",
       "      <th>talk_time</th>\n",
       "      <th>three_g</th>\n",
       "      <th>touch_screen</th>\n",
       "      <th>wifi</th>\n",
       "      <th>price_range</th>\n",
       "    </tr>\n",
       "  </thead>\n",
       "  <tbody>\n",
       "    <tr>\n",
       "      <th>count</th>\n",
       "      <td>2785.000000</td>\n",
       "      <td>2785.000000</td>\n",
       "      <td>2785.000000</td>\n",
       "      <td>2785.000000</td>\n",
       "      <td>2785.000000</td>\n",
       "      <td>2785.000000</td>\n",
       "      <td>2785.000000</td>\n",
       "      <td>2785.000000</td>\n",
       "      <td>2785.000000</td>\n",
       "      <td>2785.000000</td>\n",
       "      <td>...</td>\n",
       "      <td>2785.000000</td>\n",
       "      <td>2785.000000</td>\n",
       "      <td>2785.000000</td>\n",
       "      <td>2785.000000</td>\n",
       "      <td>2785.000000</td>\n",
       "      <td>2785.000000</td>\n",
       "      <td>2785.000000</td>\n",
       "      <td>2785.000000</td>\n",
       "      <td>2785.000000</td>\n",
       "      <td>2785.000000</td>\n",
       "    </tr>\n",
       "    <tr>\n",
       "      <th>mean</th>\n",
       "      <td>0.495550</td>\n",
       "      <td>0.504847</td>\n",
       "      <td>0.411619</td>\n",
       "      <td>0.509515</td>\n",
       "      <td>0.243886</td>\n",
       "      <td>0.507361</td>\n",
       "      <td>0.493016</td>\n",
       "      <td>0.452703</td>\n",
       "      <td>0.501538</td>\n",
       "      <td>0.493665</td>\n",
       "      <td>...</td>\n",
       "      <td>0.324988</td>\n",
       "      <td>0.497683</td>\n",
       "      <td>0.503888</td>\n",
       "      <td>0.512439</td>\n",
       "      <td>0.309655</td>\n",
       "      <td>0.501576</td>\n",
       "      <td>0.757989</td>\n",
       "      <td>0.501257</td>\n",
       "      <td>0.508079</td>\n",
       "      <td>0.496349</td>\n",
       "    </tr>\n",
       "    <tr>\n",
       "      <th>std</th>\n",
       "      <td>0.291676</td>\n",
       "      <td>0.500066</td>\n",
       "      <td>0.329427</td>\n",
       "      <td>0.499999</td>\n",
       "      <td>0.242487</td>\n",
       "      <td>0.500036</td>\n",
       "      <td>0.292439</td>\n",
       "      <td>0.317942</td>\n",
       "      <td>0.292959</td>\n",
       "      <td>0.327604</td>\n",
       "      <td>...</td>\n",
       "      <td>0.223974</td>\n",
       "      <td>0.291744</td>\n",
       "      <td>0.291065</td>\n",
       "      <td>0.303096</td>\n",
       "      <td>0.239730</td>\n",
       "      <td>0.303923</td>\n",
       "      <td>0.428378</td>\n",
       "      <td>0.500088</td>\n",
       "      <td>0.500025</td>\n",
       "      <td>0.371708</td>\n",
       "    </tr>\n",
       "    <tr>\n",
       "      <th>min</th>\n",
       "      <td>0.000000</td>\n",
       "      <td>0.000000</td>\n",
       "      <td>0.000000</td>\n",
       "      <td>0.000000</td>\n",
       "      <td>0.000000</td>\n",
       "      <td>0.000000</td>\n",
       "      <td>0.000000</td>\n",
       "      <td>0.000000</td>\n",
       "      <td>0.000000</td>\n",
       "      <td>0.000000</td>\n",
       "      <td>...</td>\n",
       "      <td>0.000000</td>\n",
       "      <td>0.000000</td>\n",
       "      <td>0.000000</td>\n",
       "      <td>0.000000</td>\n",
       "      <td>0.000000</td>\n",
       "      <td>0.000000</td>\n",
       "      <td>0.000000</td>\n",
       "      <td>0.000000</td>\n",
       "      <td>0.000000</td>\n",
       "      <td>0.000000</td>\n",
       "    </tr>\n",
       "    <tr>\n",
       "      <th>25%</th>\n",
       "      <td>0.243116</td>\n",
       "      <td>0.000000</td>\n",
       "      <td>0.080000</td>\n",
       "      <td>0.000000</td>\n",
       "      <td>0.055556</td>\n",
       "      <td>0.000000</td>\n",
       "      <td>0.225806</td>\n",
       "      <td>0.111111</td>\n",
       "      <td>0.241667</td>\n",
       "      <td>0.142857</td>\n",
       "      <td>...</td>\n",
       "      <td>0.140306</td>\n",
       "      <td>0.240891</td>\n",
       "      <td>0.256819</td>\n",
       "      <td>0.285714</td>\n",
       "      <td>0.111111</td>\n",
       "      <td>0.222222</td>\n",
       "      <td>1.000000</td>\n",
       "      <td>0.000000</td>\n",
       "      <td>0.000000</td>\n",
       "      <td>0.000000</td>\n",
       "    </tr>\n",
       "    <tr>\n",
       "      <th>50%</th>\n",
       "      <td>0.490262</td>\n",
       "      <td>1.000000</td>\n",
       "      <td>0.400000</td>\n",
       "      <td>1.000000</td>\n",
       "      <td>0.166667</td>\n",
       "      <td>1.000000</td>\n",
       "      <td>0.500000</td>\n",
       "      <td>0.444444</td>\n",
       "      <td>0.508333</td>\n",
       "      <td>0.428571</td>\n",
       "      <td>...</td>\n",
       "      <td>0.287755</td>\n",
       "      <td>0.499325</td>\n",
       "      <td>0.511747</td>\n",
       "      <td>0.500000</td>\n",
       "      <td>0.277778</td>\n",
       "      <td>0.500000</td>\n",
       "      <td>1.000000</td>\n",
       "      <td>1.000000</td>\n",
       "      <td>1.000000</td>\n",
       "      <td>0.333333</td>\n",
       "    </tr>\n",
       "    <tr>\n",
       "      <th>75%</th>\n",
       "      <td>0.746138</td>\n",
       "      <td>1.000000</td>\n",
       "      <td>0.720000</td>\n",
       "      <td>1.000000</td>\n",
       "      <td>0.388889</td>\n",
       "      <td>1.000000</td>\n",
       "      <td>0.741935</td>\n",
       "      <td>0.777778</td>\n",
       "      <td>0.750000</td>\n",
       "      <td>0.714286</td>\n",
       "      <td>...</td>\n",
       "      <td>0.472959</td>\n",
       "      <td>0.757760</td>\n",
       "      <td>0.754253</td>\n",
       "      <td>0.785714</td>\n",
       "      <td>0.444444</td>\n",
       "      <td>0.777778</td>\n",
       "      <td>1.000000</td>\n",
       "      <td>1.000000</td>\n",
       "      <td>1.000000</td>\n",
       "      <td>0.666667</td>\n",
       "    </tr>\n",
       "    <tr>\n",
       "      <th>max</th>\n",
       "      <td>1.000000</td>\n",
       "      <td>1.000000</td>\n",
       "      <td>1.000000</td>\n",
       "      <td>1.000000</td>\n",
       "      <td>1.000000</td>\n",
       "      <td>1.000000</td>\n",
       "      <td>1.000000</td>\n",
       "      <td>1.000000</td>\n",
       "      <td>1.000000</td>\n",
       "      <td>1.000000</td>\n",
       "      <td>...</td>\n",
       "      <td>1.000000</td>\n",
       "      <td>1.000000</td>\n",
       "      <td>1.000000</td>\n",
       "      <td>1.000000</td>\n",
       "      <td>1.000000</td>\n",
       "      <td>1.000000</td>\n",
       "      <td>1.000000</td>\n",
       "      <td>1.000000</td>\n",
       "      <td>1.000000</td>\n",
       "      <td>1.000000</td>\n",
       "    </tr>\n",
       "  </tbody>\n",
       "</table>\n",
       "<p>8 rows × 21 columns</p>\n",
       "</div>"
      ],
      "text/plain": [
       "       battery_power         blue  clock_speed     dual_sim           fc  \\\n",
       "count    2785.000000  2785.000000  2785.000000  2785.000000  2785.000000   \n",
       "mean        0.495550     0.504847     0.411619     0.509515     0.243886   \n",
       "std         0.291676     0.500066     0.329427     0.499999     0.242487   \n",
       "min         0.000000     0.000000     0.000000     0.000000     0.000000   \n",
       "25%         0.243116     0.000000     0.080000     0.000000     0.055556   \n",
       "50%         0.490262     1.000000     0.400000     1.000000     0.166667   \n",
       "75%         0.746138     1.000000     0.720000     1.000000     0.388889   \n",
       "max         1.000000     1.000000     1.000000     1.000000     1.000000   \n",
       "\n",
       "            four_g   int_memory        m_dep    mobile_wt      n_cores  ...  \\\n",
       "count  2785.000000  2785.000000  2785.000000  2785.000000  2785.000000  ...   \n",
       "mean      0.507361     0.493016     0.452703     0.501538     0.493665  ...   \n",
       "std       0.500036     0.292439     0.317942     0.292959     0.327604  ...   \n",
       "min       0.000000     0.000000     0.000000     0.000000     0.000000  ...   \n",
       "25%       0.000000     0.225806     0.111111     0.241667     0.142857  ...   \n",
       "50%       1.000000     0.500000     0.444444     0.508333     0.428571  ...   \n",
       "75%       1.000000     0.741935     0.777778     0.750000     0.714286  ...   \n",
       "max       1.000000     1.000000     1.000000     1.000000     1.000000  ...   \n",
       "\n",
       "         px_height     px_width          ram         sc_h         sc_w  \\\n",
       "count  2785.000000  2785.000000  2785.000000  2785.000000  2785.000000   \n",
       "mean      0.324988     0.497683     0.503888     0.512439     0.309655   \n",
       "std       0.223974     0.291744     0.291065     0.303096     0.239730   \n",
       "min       0.000000     0.000000     0.000000     0.000000     0.000000   \n",
       "25%       0.140306     0.240891     0.256819     0.285714     0.111111   \n",
       "50%       0.287755     0.499325     0.511747     0.500000     0.277778   \n",
       "75%       0.472959     0.757760     0.754253     0.785714     0.444444   \n",
       "max       1.000000     1.000000     1.000000     1.000000     1.000000   \n",
       "\n",
       "         talk_time      three_g  touch_screen         wifi  price_range  \n",
       "count  2785.000000  2785.000000   2785.000000  2785.000000  2785.000000  \n",
       "mean      0.501576     0.757989      0.501257     0.508079     0.496349  \n",
       "std       0.303923     0.428378      0.500088     0.500025     0.371708  \n",
       "min       0.000000     0.000000      0.000000     0.000000     0.000000  \n",
       "25%       0.222222     1.000000      0.000000     0.000000     0.000000  \n",
       "50%       0.500000     1.000000      1.000000     1.000000     0.333333  \n",
       "75%       0.777778     1.000000      1.000000     1.000000     0.666667  \n",
       "max       1.000000     1.000000      1.000000     1.000000     1.000000  \n",
       "\n",
       "[8 rows x 21 columns]"
      ]
     },
     "execution_count": 63,
     "metadata": {},
     "output_type": "execute_result"
    }
   ],
   "source": [
    "data_norm = (data - data.min(axis=0)) / (data.max(axis=0) - data.min(axis=0))\n",
    "data_norm.describe()"
   ]
  },
  {
   "cell_type": "markdown",
   "id": "1fd73e22",
   "metadata": {},
   "source": [
    "## 6. Обучающая и тестовая выборки\n",
    "Для классификации используем все признаки. Разобьем данные на обучающую и тестовую выборки. За обучающую примем 75%, оставшиеся  - за тестовую"
   ]
  },
  {
   "cell_type": "code",
   "execution_count": 64,
   "id": "28e1b2ea",
   "metadata": {},
   "outputs": [
    {
     "data": {
      "text/plain": [
       "(2088, 697)"
      ]
     },
     "execution_count": 64,
     "metadata": {},
     "output_type": "execute_result"
    }
   ],
   "source": [
    "X = data_norm.drop(['price_range'], axis=1)\n",
    "y = data['price_range']\n",
    "from sklearn.model_selection import train_test_split\n",
    "X_train, X_test, y_train, y_test = train_test_split(X, y, test_size = 0.25, random_state = 42)\n",
    "\n",
    "N_train, _ = X_train.shape \n",
    "N_test,  _ = X_test.shape \n",
    "\n",
    "N_train, N_test"
   ]
  },
  {
   "cell_type": "markdown",
   "id": "b4869380",
   "metadata": {},
   "source": [
    "## 7-8-9. Обучение модели\n",
    "### K ближайших соседей\n",
    "Пусть К = 5 (по умолчанию)"
   ]
  },
  {
   "cell_type": "code",
   "execution_count": 65,
   "id": "7b21a5eb",
   "metadata": {},
   "outputs": [
    {
     "name": "stdout",
     "output_type": "stream",
     "text": [
      "Accuracy. Train : 54.93%, Test: 32.28%. \n"
     ]
    }
   ],
   "source": [
    "from sklearn.neighbors import KNeighborsClassifier\n",
    "\n",
    "knn_def = KNeighborsClassifier()\n",
    "knn_def.fit(X_train, y_train)\n",
    "knn_train_pred = 100 * knn_def.score(X_train, y_train)\n",
    "knn_test_pred = 100 * knn_def.score(X_test, y_test)\n",
    "print(\"Accuracy. Train : {:.2f}%, Test: {:.2f}%. \".format(knn_train_pred, knn_test_pred))"
   ]
  },
  {
   "cell_type": "markdown",
   "id": "faee345c",
   "metadata": {},
   "source": [
    "Увеличим число соседей до 7"
   ]
  },
  {
   "cell_type": "code",
   "execution_count": 66,
   "id": "b7f86e34",
   "metadata": {},
   "outputs": [
    {
     "name": "stdout",
     "output_type": "stream",
     "text": [
      "Accuracy. Train : 51.44%, Test: 30.85%. \n"
     ]
    }
   ],
   "source": [
    "knn_7 = KNeighborsClassifier(n_neighbors = 7)\n",
    "knn_7.fit(X_train, y_train)\n",
    "knn_train_pred = 100 * knn_7.score(X_train, y_train)\n",
    "knn_test_pred = 100 * knn_7.score(X_test, y_test)\n",
    "print(\"Accuracy. Train : {:.2f}%, Test: {:.2f}%. \".format(knn_train_pred, knn_test_pred))"
   ]
  },
  {
   "cell_type": "markdown",
   "id": "a269f7b6",
   "metadata": {},
   "source": [
    "Точность полученной модели снизилась, попробуем К = 3"
   ]
  },
  {
   "cell_type": "code",
   "execution_count": 67,
   "id": "fbbd4323",
   "metadata": {},
   "outputs": [
    {
     "name": "stdout",
     "output_type": "stream",
     "text": [
      "Accuracy. Train : 60.68%, Test: 31.71%. \n"
     ]
    }
   ],
   "source": [
    "knn_3 = KNeighborsClassifier(n_neighbors = 3)\n",
    "knn_3.fit(X_train, y_train)\n",
    "knn_train_pred = 100 * knn_3.score(X_train, y_train)\n",
    "knn_test_pred = 100 * knn_3.score(X_test, y_test)\n",
    "print(\"Accuracy. Train : {:.2f}%, Test: {:.2f}%. \".format(knn_train_pred, knn_test_pred))"
   ]
  },
  {
   "cell_type": "markdown",
   "id": "2a37caca",
   "metadata": {},
   "source": [
    "Точность увеличилась. Вычислим среднеквадратическую ошибку для алгоритма с количеством ближайших соседей по умолчанию"
   ]
  },
  {
   "cell_type": "code",
   "execution_count": 68,
   "id": "188d4f41",
   "metadata": {},
   "outputs": [
    {
     "name": "stdout",
     "output_type": "stream",
     "text": [
      "MSE. Train : 2.14, Test: 2.57. \n"
     ]
    }
   ],
   "source": [
    "knn_train_pred = knn_def.score(X_train, y_train)\n",
    "knn_test_pred = knn_def.score(X_test, y_test)\n",
    "MSE_train = np.mean((knn_train_pred - y_train)**2)\n",
    "MSE_test  = np.mean((knn_test_pred - y_test)**2)\n",
    "print(\"MSE. Train : {:.2f}, Test: {:.2f}. \".format(MSE_train, MSE_test))"
   ]
  },
  {
   "cell_type": "markdown",
   "id": "af8f14c9",
   "metadata": {},
   "source": [
    "### Дерево решений\n",
    "Воспользуемся параметрами по умолчанию - глубина отсутствует"
   ]
  },
  {
   "cell_type": "code",
   "execution_count": 69,
   "id": "ac175170",
   "metadata": {},
   "outputs": [
    {
     "name": "stdout",
     "output_type": "stream",
     "text": [
      "Depth: 21\n",
      "Leaves: 574\n",
      "Accuracy. Train : 100.00%, Test: 49.07%. \n"
     ]
    }
   ],
   "source": [
    "from sklearn.tree import DecisionTreeClassifier\n",
    "desTrCl = DecisionTreeClassifier()\n",
    "desTrCl.fit(X_train,y_train)\n",
    "desTrCl_train_sc = 100 * desTrCl.score(X_train, y_train)\n",
    "print ('Depth:', desTrCl.get_depth())\n",
    "print ('Leaves:', desTrCl.get_n_leaves())\n",
    "desTrCl_test_sc = 100 * desTrCl.score(X_test, y_test)\n",
    "print(\"Accuracy. Train : {:.2f}%, Test: {:.2f}%. \".format(desTrCl_train_sc, desTrCl_test_sc))"
   ]
  },
  {
   "cell_type": "markdown",
   "id": "b269c05e",
   "metadata": {},
   "source": [
    "Максимальная глубина = 21. Уменьшим до 10"
   ]
  },
  {
   "cell_type": "code",
   "execution_count": 70,
   "id": "3572359f",
   "metadata": {},
   "outputs": [
    {
     "name": "stdout",
     "output_type": "stream",
     "text": [
      "Depth: 10\n",
      "Leaves: 334\n",
      "Accuracy. Train : 87.40%, Test: 55.95%. \n"
     ]
    }
   ],
   "source": [
    "desTrCl_10 = DecisionTreeClassifier(max_depth=10)\n",
    "desTrCl_10.fit(X_train,y_train)\n",
    "desTrCl_train_sc = 100 * desTrCl_10.score(X_train, y_train)\n",
    "print ('Depth:', desTrCl_10.get_depth())\n",
    "print ('Leaves:', desTrCl_10.get_n_leaves())\n",
    "desTrCl_test_sc = 100 * desTrCl_10.score(X_test, y_test)\n",
    "print(\"Accuracy. Train : {:.2f}%, Test: {:.2f}%. \".format(desTrCl_train_sc, desTrCl_test_sc))"
   ]
  },
  {
   "cell_type": "markdown",
   "id": "0761c119",
   "metadata": {},
   "source": [
    "Качество модели на тестовой выборке повысилось, а на обучающей снизилось.\n",
    "\n",
    "Увеличим глубину до 15"
   ]
  },
  {
   "cell_type": "code",
   "execution_count": 71,
   "id": "24a983ba",
   "metadata": {},
   "outputs": [
    {
     "name": "stdout",
     "output_type": "stream",
     "text": [
      "Depth: 15\n",
      "Leaves: 526\n",
      "Accuracy. Train : 97.56%, Test: 50.36%. \n"
     ]
    }
   ],
   "source": [
    "desTrCl_15 = DecisionTreeClassifier(max_depth=15)\n",
    "desTrCl_15.fit(X_train,y_train)\n",
    "desTrCl_train_sc = 100 * desTrCl_15.score(X_train, y_train)\n",
    "print ('Depth:', desTrCl_15.get_depth())\n",
    "print ('Leaves:', desTrCl_15.get_n_leaves())\n",
    "desTrCl_test_sc = 100 * desTrCl_15.score(X_test, y_test)\n",
    "print(\"Accuracy. Train : {:.2f}%, Test: {:.2f}%. \".format(desTrCl_train_sc, desTrCl_test_sc))"
   ]
  },
  {
   "cell_type": "markdown",
   "id": "c3185799",
   "metadata": {},
   "source": [
    "Качество модели на тестовой выборке снизилось, а на обучающей повысилось.\n",
    "\n",
    "Алгоритм дерева решений оказался точнее алгоритма к-ближайших соседей при оптимальных параметрах каждого из методов, как на обучающей выборке, так и на тестовой.\n",
    "\n",
    "## 10. Общие выводы\n",
    "\n",
    "В работе производился анализ данных о ценовом диапазоне мобильных телефонов и решение задачи классификации с помощью моделей, которые были натренированы методами К-ближайших соседей и дерева решений.\n",
    "\n",
    "Перед тренировкой моделей была произведена подготовка данных:\n",
    "1. Работа с выбросами\n",
    "2. Вычисление основных статистических характеристик и их анализ\n",
    "3. Обработка пропущенных значений (удаление строк с пропущенными значениями)\n",
    "4. Нормализация количественных признаков (с помощью линейного преобразования к отрезку [0, 1])\n",
    "5. Разбиение данных на обучающую и тестовую выборки\n",
    "6. Выбор алгоритма классификации и проверка качества модели\n",
    "\n",
    "Алгоритм дерева решений оказался лучше метода к-ближайших соседей (в этой работе)."
   ]
  },
  {
   "cell_type": "code",
   "execution_count": null,
   "id": "0d97062a",
   "metadata": {},
   "outputs": [],
   "source": []
  }
 ],
 "metadata": {
  "kernelspec": {
   "display_name": "Python 3",
   "language": "python",
   "name": "python3"
  },
  "language_info": {
   "codemirror_mode": {
    "name": "ipython",
    "version": 3
   },
   "file_extension": ".py",
   "mimetype": "text/x-python",
   "name": "python",
   "nbconvert_exporter": "python",
   "pygments_lexer": "ipython3",
   "version": "3.8.8"
  }
 },
 "nbformat": 4,
 "nbformat_minor": 5
}
