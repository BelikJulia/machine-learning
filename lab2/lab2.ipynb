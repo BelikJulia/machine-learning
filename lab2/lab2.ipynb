{
 "cells": [
  {
   "cell_type": "code",
   "execution_count": 1,
   "id": "98b598f8",
   "metadata": {},
   "outputs": [],
   "source": [
    "import numpy as np          \n",
    "import matplotlib.pyplot as plt\n",
    "%matplotlib inline \n",
    "import pandas as pd       \n",
    "import seaborn as sns       \n",
    "import sklearn   \n",
    "from tqdm import tqdm\n",
    "from sklearn.neural_network import MLPClassifier\n",
    "from sklearn.model_selection import train_test_split\n",
    "from sklearn.metrics import accuracy_score"
   ]
  },
  {
   "cell_type": "markdown",
   "id": "0a720715",
   "metadata": {},
   "source": [
    "# 1. Загрузка и подготовка данных"
   ]
  },
  {
   "cell_type": "code",
   "execution_count": 2,
   "id": "7054dbd9",
   "metadata": {},
   "outputs": [
    {
     "data": {
      "text/plain": [
       "(3000, 21)"
      ]
     },
     "execution_count": 2,
     "metadata": {},
     "output_type": "execute_result"
    }
   ],
   "source": [
    "url = \"https://raw.githubusercontent.com/BelikJulia/machine-learning/main/DataSet/MP.csv\"\n",
    "data_raw = pd.read_csv(url)\n",
    "data_raw.shape"
   ]
  },
  {
   "cell_type": "markdown",
   "id": "46db0ece",
   "metadata": {},
   "source": [
    "Удалим выбросы"
   ]
  },
  {
   "cell_type": "code",
   "execution_count": 3,
   "id": "9f86bf31",
   "metadata": {},
   "outputs": [
    {
     "data": {
      "text/plain": [
       "(2879, 21)"
      ]
     },
     "execution_count": 3,
     "metadata": {},
     "output_type": "execute_result"
    }
   ],
   "source": [
    "rows_to_drop = data_raw[\n",
    "    (data_raw['battery_power'] < data_raw['battery_power'].quantile(0.005)) | (data_raw['battery_power'] > data_raw['battery_power'].quantile(0.995)) | \n",
    "    (data_raw['clock_speed']  < data_raw['clock_speed' ].quantile(0.005)) | (data_raw['clock_speed']  > data_raw['clock_speed' ].quantile(0.995)) | \n",
    "    (data_raw['fc']  < data_raw['fc' ].quantile(0.005)) | (data_raw['fc']  > data_raw['fc' ].quantile(0.995)) |\n",
    "    (data_raw['int_memory']  < data_raw['int_memory' ].quantile(0.005)) | (data_raw['int_memory']  > data_raw['int_memory' ].quantile(0.995)) | \n",
    "    (data_raw['m_dep']  < data_raw['m_dep' ].quantile(0.005)) | (data_raw['m_dep']  > data_raw['m_dep' ].quantile(0.995)) |\n",
    "    (data_raw['mobile_wt']  < data_raw['mobile_wt' ].quantile(0.005)) | (data_raw['mobile_wt']  > data_raw['mobile_wt' ].quantile(0.995)) | \n",
    "    (data_raw['pc']  < data_raw['pc' ].quantile(0.005)) | (data_raw['pc']  > data_raw['pc' ].quantile(0.995)) |\n",
    "    (data_raw['px_width']  < data_raw['px_width' ].quantile(0.005)) | (data_raw['px_width']  > data_raw['px_width' ].quantile(0.995)) | \n",
    "    (data_raw['ram']  < data_raw['ram' ].quantile(0.005)) | (data_raw['ram']  > data_raw['ram' ].quantile(0.995)) |\n",
    "    (data_raw['talk_time']  < data_raw['talk_time' ].quantile(0.005)) | (data_raw['talk_time']  > data_raw['talk_time' ].quantile(0.995))].index\n",
    "data = data_raw.drop(rows_to_drop)\n",
    "data.shape"
   ]
  },
  {
   "cell_type": "code",
   "execution_count": 4,
   "id": "370873eb",
   "metadata": {},
   "outputs": [
    {
     "name": "stdout",
     "output_type": "stream",
     "text": [
      "(2721, 21)\n"
     ]
    },
    {
     "data": {
      "text/plain": [
       "battery_power    0\n",
       "blue             0\n",
       "clock_speed      0\n",
       "dual_sim         0\n",
       "fc               0\n",
       "four_g           0\n",
       "int_memory       0\n",
       "m_dep            0\n",
       "mobile_wt        0\n",
       "n_cores          0\n",
       "pc               0\n",
       "px_height        0\n",
       "px_width         0\n",
       "ram              0\n",
       "sc_h             0\n",
       "sc_w             0\n",
       "talk_time        0\n",
       "three_g          0\n",
       "touch_screen     0\n",
       "wifi             0\n",
       "price_range      0\n",
       "dtype: int64"
      ]
     },
     "execution_count": 4,
     "metadata": {},
     "output_type": "execute_result"
    }
   ],
   "source": [
    "data.dropna(axis=0, how='all', subset=['battery_power'], inplace=True)\n",
    "data.dropna(axis=0, how='all', subset=['blue'], inplace=True)\n",
    "data.dropna(axis=0, how='all', subset=['clock_speed'], inplace=True)\n",
    "data.dropna(axis=0, how='all', subset=['dual_sim'], inplace=True)\n",
    "data.dropna(axis=0, how='all', subset=['fc'], inplace=True)\n",
    "data.dropna(axis=0, how='all', subset=['four_g'], inplace=True)\n",
    "data.dropna(axis=0, how='all', subset=['int_memory'], inplace=True)\n",
    "data.dropna(axis=0, how='all', subset=['m_dep'], inplace=True)\n",
    "data.dropna(axis=0, how='all', subset=['mobile_wt'], inplace=True)\n",
    "data.dropna(axis=0, how='all', subset=['n_cores'], inplace=True)\n",
    "data.dropna(axis=0, how='all', subset=['pc'], inplace=True)\n",
    "data.dropna(axis=0, how='all', subset=['px_height'], inplace=True)\n",
    "data.dropna(axis=0, how='all', subset=['px_width'], inplace=True)\n",
    "data.dropna(axis=0, how='all', subset=['ram'], inplace=True)\n",
    "data.dropna(axis=0, how='all', subset=['sc_h'], inplace=True)\n",
    "data.dropna(axis=0, how='all', subset=['sc_w'], inplace=True)\n",
    "data.dropna(axis=0, how='all', subset=['talk_time'], inplace=True)\n",
    "data.dropna(axis=0, how='all', subset=['three_g'], inplace=True)\n",
    "data.dropna(axis=0, how='all', subset=['touch_screen'], inplace=True)\n",
    "data.dropna(axis=0, how='all', subset=['wifi'], inplace=True)\n",
    "print(data.shape)\n",
    "data.isna().sum()"
   ]
  },
  {
   "cell_type": "markdown",
   "id": "f994cbb3",
   "metadata": {},
   "source": [
    "Проведем нормализацию"
   ]
  },
  {
   "cell_type": "code",
   "execution_count": 5,
   "id": "1aa1a50f",
   "metadata": {},
   "outputs": [
    {
     "data": {
      "text/html": [
       "<div>\n",
       "<style scoped>\n",
       "    .dataframe tbody tr th:only-of-type {\n",
       "        vertical-align: middle;\n",
       "    }\n",
       "\n",
       "    .dataframe tbody tr th {\n",
       "        vertical-align: top;\n",
       "    }\n",
       "\n",
       "    .dataframe thead th {\n",
       "        text-align: right;\n",
       "    }\n",
       "</style>\n",
       "<table border=\"1\" class=\"dataframe\">\n",
       "  <thead>\n",
       "    <tr style=\"text-align: right;\">\n",
       "      <th></th>\n",
       "      <th>battery_power</th>\n",
       "      <th>blue</th>\n",
       "      <th>clock_speed</th>\n",
       "      <th>dual_sim</th>\n",
       "      <th>fc</th>\n",
       "      <th>four_g</th>\n",
       "      <th>int_memory</th>\n",
       "      <th>m_dep</th>\n",
       "      <th>mobile_wt</th>\n",
       "      <th>n_cores</th>\n",
       "      <th>...</th>\n",
       "      <th>px_height</th>\n",
       "      <th>px_width</th>\n",
       "      <th>ram</th>\n",
       "      <th>sc_h</th>\n",
       "      <th>sc_w</th>\n",
       "      <th>talk_time</th>\n",
       "      <th>three_g</th>\n",
       "      <th>touch_screen</th>\n",
       "      <th>wifi</th>\n",
       "      <th>price_range</th>\n",
       "    </tr>\n",
       "  </thead>\n",
       "  <tbody>\n",
       "    <tr>\n",
       "      <th>count</th>\n",
       "      <td>2721.000000</td>\n",
       "      <td>2721.000000</td>\n",
       "      <td>2721.000000</td>\n",
       "      <td>2721.000000</td>\n",
       "      <td>2721.000000</td>\n",
       "      <td>2721.000000</td>\n",
       "      <td>2721.000000</td>\n",
       "      <td>2721.000000</td>\n",
       "      <td>2721.000000</td>\n",
       "      <td>2721.000000</td>\n",
       "      <td>...</td>\n",
       "      <td>2721.000000</td>\n",
       "      <td>2721.000000</td>\n",
       "      <td>2721.000000</td>\n",
       "      <td>2721.000000</td>\n",
       "      <td>2721.000000</td>\n",
       "      <td>2721.000000</td>\n",
       "      <td>2721.000000</td>\n",
       "      <td>2721.000000</td>\n",
       "      <td>2721.000000</td>\n",
       "      <td>2721.000000</td>\n",
       "    </tr>\n",
       "    <tr>\n",
       "      <th>mean</th>\n",
       "      <td>0.494282</td>\n",
       "      <td>0.488423</td>\n",
       "      <td>0.409247</td>\n",
       "      <td>0.508269</td>\n",
       "      <td>0.238985</td>\n",
       "      <td>0.514149</td>\n",
       "      <td>0.490190</td>\n",
       "      <td>0.448242</td>\n",
       "      <td>0.506517</td>\n",
       "      <td>0.504069</td>\n",
       "      <td>...</td>\n",
       "      <td>0.327427</td>\n",
       "      <td>0.499883</td>\n",
       "      <td>0.505929</td>\n",
       "      <td>0.524203</td>\n",
       "      <td>0.318857</td>\n",
       "      <td>0.498489</td>\n",
       "      <td>0.755972</td>\n",
       "      <td>0.505696</td>\n",
       "      <td>0.514884</td>\n",
       "      <td>0.507902</td>\n",
       "    </tr>\n",
       "    <tr>\n",
       "      <th>std</th>\n",
       "      <td>0.293952</td>\n",
       "      <td>0.499958</td>\n",
       "      <td>0.328669</td>\n",
       "      <td>0.500024</td>\n",
       "      <td>0.241883</td>\n",
       "      <td>0.499892</td>\n",
       "      <td>0.293178</td>\n",
       "      <td>0.318928</td>\n",
       "      <td>0.294342</td>\n",
       "      <td>0.326937</td>\n",
       "      <td>...</td>\n",
       "      <td>0.226641</td>\n",
       "      <td>0.289104</td>\n",
       "      <td>0.292533</td>\n",
       "      <td>0.300177</td>\n",
       "      <td>0.242910</td>\n",
       "      <td>0.301650</td>\n",
       "      <td>0.429588</td>\n",
       "      <td>0.500059</td>\n",
       "      <td>0.499870</td>\n",
       "      <td>0.373484</td>\n",
       "    </tr>\n",
       "    <tr>\n",
       "      <th>min</th>\n",
       "      <td>0.000000</td>\n",
       "      <td>0.000000</td>\n",
       "      <td>0.000000</td>\n",
       "      <td>0.000000</td>\n",
       "      <td>0.000000</td>\n",
       "      <td>0.000000</td>\n",
       "      <td>0.000000</td>\n",
       "      <td>0.000000</td>\n",
       "      <td>0.000000</td>\n",
       "      <td>0.000000</td>\n",
       "      <td>...</td>\n",
       "      <td>0.000000</td>\n",
       "      <td>0.000000</td>\n",
       "      <td>0.000000</td>\n",
       "      <td>0.000000</td>\n",
       "      <td>0.000000</td>\n",
       "      <td>0.000000</td>\n",
       "      <td>0.000000</td>\n",
       "      <td>0.000000</td>\n",
       "      <td>0.000000</td>\n",
       "      <td>0.000000</td>\n",
       "    </tr>\n",
       "    <tr>\n",
       "      <th>25%</th>\n",
       "      <td>0.233557</td>\n",
       "      <td>0.000000</td>\n",
       "      <td>0.080000</td>\n",
       "      <td>0.000000</td>\n",
       "      <td>0.055556</td>\n",
       "      <td>0.000000</td>\n",
       "      <td>0.225806</td>\n",
       "      <td>0.111111</td>\n",
       "      <td>0.241667</td>\n",
       "      <td>0.285714</td>\n",
       "      <td>...</td>\n",
       "      <td>0.140306</td>\n",
       "      <td>0.247811</td>\n",
       "      <td>0.254531</td>\n",
       "      <td>0.285714</td>\n",
       "      <td>0.111111</td>\n",
       "      <td>0.222222</td>\n",
       "      <td>1.000000</td>\n",
       "      <td>0.000000</td>\n",
       "      <td>0.000000</td>\n",
       "      <td>0.333333</td>\n",
       "    </tr>\n",
       "    <tr>\n",
       "      <th>50%</th>\n",
       "      <td>0.489933</td>\n",
       "      <td>0.000000</td>\n",
       "      <td>0.400000</td>\n",
       "      <td>1.000000</td>\n",
       "      <td>0.166667</td>\n",
       "      <td>1.000000</td>\n",
       "      <td>0.483871</td>\n",
       "      <td>0.444444</td>\n",
       "      <td>0.516667</td>\n",
       "      <td>0.428571</td>\n",
       "      <td>...</td>\n",
       "      <td>0.286224</td>\n",
       "      <td>0.498316</td>\n",
       "      <td>0.520151</td>\n",
       "      <td>0.500000</td>\n",
       "      <td>0.277778</td>\n",
       "      <td>0.500000</td>\n",
       "      <td>1.000000</td>\n",
       "      <td>1.000000</td>\n",
       "      <td>1.000000</td>\n",
       "      <td>0.666667</td>\n",
       "    </tr>\n",
       "    <tr>\n",
       "      <th>75%</th>\n",
       "      <td>0.746980</td>\n",
       "      <td>1.000000</td>\n",
       "      <td>0.680000</td>\n",
       "      <td>1.000000</td>\n",
       "      <td>0.388889</td>\n",
       "      <td>1.000000</td>\n",
       "      <td>0.741935</td>\n",
       "      <td>0.777778</td>\n",
       "      <td>0.758333</td>\n",
       "      <td>0.857143</td>\n",
       "      <td>...</td>\n",
       "      <td>0.485204</td>\n",
       "      <td>0.750168</td>\n",
       "      <td>0.757371</td>\n",
       "      <td>0.785714</td>\n",
       "      <td>0.500000</td>\n",
       "      <td>0.777778</td>\n",
       "      <td>1.000000</td>\n",
       "      <td>1.000000</td>\n",
       "      <td>1.000000</td>\n",
       "      <td>1.000000</td>\n",
       "    </tr>\n",
       "    <tr>\n",
       "      <th>max</th>\n",
       "      <td>1.000000</td>\n",
       "      <td>1.000000</td>\n",
       "      <td>1.000000</td>\n",
       "      <td>1.000000</td>\n",
       "      <td>1.000000</td>\n",
       "      <td>1.000000</td>\n",
       "      <td>1.000000</td>\n",
       "      <td>1.000000</td>\n",
       "      <td>1.000000</td>\n",
       "      <td>1.000000</td>\n",
       "      <td>...</td>\n",
       "      <td>1.000000</td>\n",
       "      <td>1.000000</td>\n",
       "      <td>1.000000</td>\n",
       "      <td>1.000000</td>\n",
       "      <td>1.000000</td>\n",
       "      <td>1.000000</td>\n",
       "      <td>1.000000</td>\n",
       "      <td>1.000000</td>\n",
       "      <td>1.000000</td>\n",
       "      <td>1.000000</td>\n",
       "    </tr>\n",
       "  </tbody>\n",
       "</table>\n",
       "<p>8 rows × 21 columns</p>\n",
       "</div>"
      ],
      "text/plain": [
       "       battery_power         blue  clock_speed     dual_sim           fc  \\\n",
       "count    2721.000000  2721.000000  2721.000000  2721.000000  2721.000000   \n",
       "mean        0.494282     0.488423     0.409247     0.508269     0.238985   \n",
       "std         0.293952     0.499958     0.328669     0.500024     0.241883   \n",
       "min         0.000000     0.000000     0.000000     0.000000     0.000000   \n",
       "25%         0.233557     0.000000     0.080000     0.000000     0.055556   \n",
       "50%         0.489933     0.000000     0.400000     1.000000     0.166667   \n",
       "75%         0.746980     1.000000     0.680000     1.000000     0.388889   \n",
       "max         1.000000     1.000000     1.000000     1.000000     1.000000   \n",
       "\n",
       "            four_g   int_memory        m_dep    mobile_wt      n_cores  ...  \\\n",
       "count  2721.000000  2721.000000  2721.000000  2721.000000  2721.000000  ...   \n",
       "mean      0.514149     0.490190     0.448242     0.506517     0.504069  ...   \n",
       "std       0.499892     0.293178     0.318928     0.294342     0.326937  ...   \n",
       "min       0.000000     0.000000     0.000000     0.000000     0.000000  ...   \n",
       "25%       0.000000     0.225806     0.111111     0.241667     0.285714  ...   \n",
       "50%       1.000000     0.483871     0.444444     0.516667     0.428571  ...   \n",
       "75%       1.000000     0.741935     0.777778     0.758333     0.857143  ...   \n",
       "max       1.000000     1.000000     1.000000     1.000000     1.000000  ...   \n",
       "\n",
       "         px_height     px_width          ram         sc_h         sc_w  \\\n",
       "count  2721.000000  2721.000000  2721.000000  2721.000000  2721.000000   \n",
       "mean      0.327427     0.499883     0.505929     0.524203     0.318857   \n",
       "std       0.226641     0.289104     0.292533     0.300177     0.242910   \n",
       "min       0.000000     0.000000     0.000000     0.000000     0.000000   \n",
       "25%       0.140306     0.247811     0.254531     0.285714     0.111111   \n",
       "50%       0.286224     0.498316     0.520151     0.500000     0.277778   \n",
       "75%       0.485204     0.750168     0.757371     0.785714     0.500000   \n",
       "max       1.000000     1.000000     1.000000     1.000000     1.000000   \n",
       "\n",
       "         talk_time      three_g  touch_screen         wifi  price_range  \n",
       "count  2721.000000  2721.000000   2721.000000  2721.000000  2721.000000  \n",
       "mean      0.498489     0.755972      0.505696     0.514884     0.507902  \n",
       "std       0.301650     0.429588      0.500059     0.499870     0.373484  \n",
       "min       0.000000     0.000000      0.000000     0.000000     0.000000  \n",
       "25%       0.222222     1.000000      0.000000     0.000000     0.333333  \n",
       "50%       0.500000     1.000000      1.000000     1.000000     0.666667  \n",
       "75%       0.777778     1.000000      1.000000     1.000000     1.000000  \n",
       "max       1.000000     1.000000      1.000000     1.000000     1.000000  \n",
       "\n",
       "[8 rows x 21 columns]"
      ]
     },
     "execution_count": 5,
     "metadata": {},
     "output_type": "execute_result"
    }
   ],
   "source": [
    "data_norm = (data - data.min(axis=0)) / (data.max(axis=0) - data.min(axis=0))\n",
    "data_norm.describe()"
   ]
  },
  {
   "cell_type": "markdown",
   "id": "73cb1736",
   "metadata": {},
   "source": [
    "# 2. Разбиение данных на обучающую и тестовую выборки"
   ]
  },
  {
   "cell_type": "code",
   "execution_count": 6,
   "id": "2d32a1ab",
   "metadata": {},
   "outputs": [
    {
     "data": {
      "text/plain": [
       "(2040, 681)"
      ]
     },
     "execution_count": 6,
     "metadata": {},
     "output_type": "execute_result"
    }
   ],
   "source": [
    "X = data_norm.drop(['price_range'], axis=1)\n",
    "y = data['price_range']\n",
    "from sklearn.model_selection import train_test_split\n",
    "X_train, X_test, y_train, y_test = train_test_split(X, y, test_size = 0.25, random_state = 42)\n",
    "\n",
    "N_train, _ = X_train.shape \n",
    "N_test,  _ = X_test.shape \n",
    "\n",
    "N_train, N_test"
   ]
  },
  {
   "cell_type": "code",
   "execution_count": 7,
   "id": "307c14a6",
   "metadata": {},
   "outputs": [],
   "source": [
    "mean = X_train.mean(axis = 0)\n",
    "std = X_train.std(axis = 0)\n",
    "\n",
    "X_train = (X_train - mean) / std\n",
    "X_test =  (X_test  - mean) / std\n",
    "\n",
    "X_train = X_train.to_numpy()\n",
    "X_test = X_test.to_numpy()"
   ]
  },
  {
   "cell_type": "markdown",
   "id": "f89e660c",
   "metadata": {},
   "source": [
    "# 3. Подбор гиперпараметров\n",
    "## Подбор числа нейронов в однослойном классификаторе\n",
    "В качестве  алгоритма оптимизации выберем алгоритм Adam, в качестве функции активации выберем Relu, в качетве метрики оценки классификатора возьмем accuracy_score."
   ]
  },
  {
   "cell_type": "code",
   "execution_count": 8,
   "id": "bfe1b2d3",
   "metadata": {},
   "outputs": [
    {
     "name": "stderr",
     "output_type": "stream",
     "text": [
      "100%|██████████| 60/60 [03:24<00:00,  3.41s/it]\n"
     ]
    }
   ],
   "source": [
    "hidden_layer_size = np.linspace(1, 60, 60)\n",
    "hidden_layer_size = hidden_layer_size.astype(int)\n",
    "test_err, train_err = [], []\n",
    "train_acc, test_acc = [], []\n",
    "\n",
    "for size in tqdm(hidden_layer_size):\n",
    "    model = MLPClassifier(hidden_layer_sizes=(size,), \n",
    "                          solver='adam', activation='relu', max_iter=3000, random_state=13)\n",
    "    model.fit(X_train, y_train)\n",
    "\n",
    "    y_train_pred = model.predict(X_train)\n",
    "    y_test_pred = model.predict(X_test)\n",
    "    \n",
    "    train_err.append(np.mean(y_train != y_train_pred))\n",
    "    test_err.append(np.mean(y_test != y_test_pred))\n",
    "    \n",
    "    train_acc.append(accuracy_score(y_train, y_train_pred))\n",
    "    test_acc.append(accuracy_score(y_test, y_test_pred))"
   ]
  },
  {
   "cell_type": "code",
   "execution_count": 9,
   "id": "4a00365c",
   "metadata": {},
   "outputs": [
    {
     "name": "stdout",
     "output_type": "stream",
     "text": [
      "Train: минимальное значение ошибки = 0.0, число нейронов = 14\n",
      "Test: минимальное значение ошибки = 0.016152716593245228, число нейронов = 3\n"
     ]
    },
    {
     "data": {
      "image/png": "[encoded data removed]",
      "text/plain": [
       "<Figure size 432x288 with 1 Axes>"
      ]
     },
     "metadata": {
      "needs_background": "light"
     },
     "output_type": "display_data"
    }
   ],
   "source": [
    "plt.plot(hidden_layer_size, train_err, 'b-o', label = 'train')\n",
    "plt.plot(hidden_layer_size, test_err, 'r-o', label = 'test')\n",
    "plt.xlim([np.min(hidden_layer_size), np.max(hidden_layer_size)])\n",
    "plt.title('Error is as a function of hidden_layer_size')\n",
    "plt.xlabel('hidden_layer_size')\n",
    "plt.ylabel('error')\n",
    "plt.legend()\n",
    "\n",
    "print(f\"Train: минимальное значение ошибки = {np.min(train_err)}, число нейронов = {hidden_layer_size[np.argmin(train_err)]}\")\n",
    "print(f\"Test: минимальное значение ошибки = {np.min(test_err)}, число нейронов = {hidden_layer_size[np.argmin(test_err)]}\")"
   ]
  },
  {
   "cell_type": "markdown",
   "id": "efecbebb",
   "metadata": {},
   "source": [
    "Рассмотрим как у нас менялась метрика в зависимости от гиперпараметра"
   ]
  },
  {
   "cell_type": "code",
   "execution_count": 10,
   "id": "c7384b4a",
   "metadata": {},
   "outputs": [
    {
     "name": "stdout",
     "output_type": "stream",
     "text": [
      "Train: максимальное значение accuracy = 1.0, число нейронов = 14\n",
      "Test: максимальное значение accuracy = 0.9838472834067548, число нейронов = 3\n"
     ]
    },
    {
     "data": {
      "image/png": "[encoded data removed]",
      "text/plain": [
       "<Figure size 432x288 with 1 Axes>"
      ]
     },
     "metadata": {
      "needs_background": "light"
     },
     "output_type": "display_data"
    }
   ],
   "source": [
    "plt.plot(hidden_layer_size, train_acc, 'r-o', label = 'train')\n",
    "plt.plot(hidden_layer_size, test_acc, 'b-o', label = 'test')\n",
    "plt.xlim([np.min(hidden_layer_size), np.max(hidden_layer_size)])\n",
    "plt.title('Accuracy is a function of hidden_layer_size')\n",
    "plt.xlabel('hidden_layer_size')\n",
    "plt.ylabel('Accuracy')\n",
    "plt.legend()\n",
    "\n",
    "print(f\"Train: максимальное значение accuracy = {np.max(train_acc)}, число нейронов = {hidden_layer_size[np.argmax(train_acc)]}\")\n",
    "print(f\"Test: максимальное значение accuracy = {np.max(test_acc)}, число нейронов = {hidden_layer_size[np.argmax(test_acc)]}\")"
   ]
  },
  {
   "cell_type": "markdown",
   "id": "9b96f6d6",
   "metadata": {},
   "source": [
    "## Подбор числа нейронов в двухслойном классификаторе"
   ]
  },
  {
   "cell_type": "code",
   "execution_count": 11,
   "id": "27f5679a",
   "metadata": {},
   "outputs": [
    {
     "name": "stderr",
     "output_type": "stream",
     "text": [
      "10it [03:58, 23.81s/it]\n"
     ]
    }
   ],
   "source": [
    "n = 10\n",
    "sizes = np.linspace(1, 60, n).astype(int)\n",
    "test_err = np.zeros((n, n))\n",
    "train_err = np.zeros((n, n))\n",
    "train_acc = np.zeros((n, n))\n",
    "test_acc = np.zeros((n, n))\n",
    "\n",
    "for i, size_1 in tqdm(enumerate(sizes)):\n",
    "    for j, size_2 in enumerate(sizes):\n",
    "        model = MLPClassifier(hidden_layer_sizes=(size_1, size_2, ), \n",
    "                              solver='adam', activation='relu', max_iter=3000, random_state=13)\n",
    "        model.fit(X_train, y_train)\n",
    "\n",
    "        y_train_pred = model.predict(X_train)\n",
    "        y_test_pred = model.predict(X_test)\n",
    "\n",
    "        train_err[i][j] = np.mean(y_train != y_train_pred)\n",
    "        test_err[i][j] = np.mean(y_test != y_test_pred)\n",
    "\n",
    "        train_acc[i][j] = accuracy_score(y_train, y_train_pred)\n",
    "        test_acc[i][j] = accuracy_score(y_test, y_test_pred)"
   ]
  },
  {
   "cell_type": "code",
   "execution_count": 12,
   "id": "197ccc10",
   "metadata": {},
   "outputs": [
    {
     "name": "stdout",
     "output_type": "stream",
     "text": [
      "Train: минимальное значение ошибки = 0.0, число нейронов = (1, 1)\n",
      "Test: минимальное значение ошибки = 0.016152716593245228, число нейронов = (1, 1)\n"
     ]
    },
    {
     "data": {
      "image/png": "[encoded data removed]",
      "text/plain": [
       "<Figure size 432x288 with 3 Axes>"
      ]
     },
     "metadata": {
      "needs_background": "light"
     },
     "output_type": "display_data"
    }
   ],
   "source": [
    "plt.subplot(121)\n",
    "plt.title(\"Train error\")\n",
    "plt.imshow(train_err)\n",
    "plt.xticks(np.arange(n), np.arange(1, 50, 50 / n))\n",
    "plt.yticks(np.arange(n), np.arange(1, 50, 50 / n))\n",
    "\n",
    "plt.subplot(122)\n",
    "plt.title(\"Test error\")\n",
    "plt.imshow(test_err)\n",
    "plt.xticks(np.arange(n), np.arange(1, 50, 50 / n))\n",
    "plt.yticks(np.arange(n), np.arange(1, 50, 50 / n))\n",
    "\n",
    "cax = plt.axes([0.96, 0.15, 0.02, 0.7])\n",
    "plt.colorbar(cax=cax)\n",
    "\n",
    "train_min_loss = np.where(train_err == np.min(train_err))\n",
    "test_min_loss = np.where(test_err == np.min(test_err))\n",
    "\n",
    "train_min_loss_sizes = np.where(train_err == np.min(train_err))\n",
    "print(f\"Train: минимальное значение ошибки = {np.min(train_err)}, число нейронов = (\" \\\n",
    "      f\"{train_min_loss_sizes[0][0]}, {train_min_loss_sizes[1][0]})\")\n",
    "\n",
    "test_min_loss_sizes = np.where(test_err == np.min(test_err))\n",
    "print(f\"Test: минимальное значение ошибки = {np.min(test_err)}, число нейронов = (\" \\\n",
    "      f\"{test_min_loss_sizes[0][0]}, {test_min_loss_sizes[1][0]})\")"
   ]
  },
  {
   "cell_type": "code",
   "execution_count": 13,
   "id": "461022c2",
   "metadata": {},
   "outputs": [
    {
     "name": "stdout",
     "output_type": "stream",
     "text": [
      "Train: максимальное значение accuracy = 1.0, число нейронов = (1, 1)\n",
      "Test: максимальное значение accuracy = 0.9838472834067548, число нейронов = (1, 1)\n"
     ]
    },
    {
     "data": {
      "image/png": "[encoded data removed]",
      "text/plain": [
       "<Figure size 432x288 with 3 Axes>"
      ]
     },
     "metadata": {
      "needs_background": "light"
     },
     "output_type": "display_data"
    }
   ],
   "source": [
    "plt.subplot(121)\n",
    "plt.title(\"Train accuracy\")\n",
    "plt.imshow(train_acc)\n",
    "plt.xticks(np.arange(n), np.arange(1, 50, 50 / n))\n",
    "plt.yticks(np.arange(n), np.arange(1, 50, 50 / n))\n",
    "\n",
    "plt.subplot(122)\n",
    "plt.title(\"Test accuracy\")\n",
    "plt.imshow(test_acc)\n",
    "plt.xticks(np.arange(n), np.arange(1, 50, 50 / n))\n",
    "plt.yticks(np.arange(n), np.arange(1, 50, 50 / n))\n",
    "\n",
    "cax = plt.axes([0.95, 0.15, 0.02, 0.7])\n",
    "plt.colorbar(cax=cax)\n",
    "\n",
    "train_max_acc = np.where(train_acc == np.max(train_acc))\n",
    "test_max_acc = np.where(test_acc == np.max(test_acc))\n",
    "\n",
    "\n",
    "train_max_acc_sizes = np.where(train_acc == np.max(train_acc))\n",
    "print(f\"Train: максимальное значение accuracy = {np.max(train_acc)}, число нейронов = (\" \\\n",
    "      f\"{train_max_acc_sizes[0][0]}, {train_max_acc_sizes[1][0]})\")\n",
    "\n",
    "test_max_acc_sizes = np.where(test_acc == np.max(test_acc))\n",
    "print(f\"Test: максимальное значение accuracy = {np.max(test_acc)}, число нейронов = (\" \\\n",
    "      f\"{test_max_acc_sizes[0][0]}, {test_max_acc_sizes[1][0]})\")"
   ]
  },
  {
   "cell_type": "markdown",
   "id": "4428abcb",
   "metadata": {},
   "source": [
    "## Подбор параметра регуляризации"
   ]
  },
  {
   "cell_type": "code",
   "execution_count": 14,
   "id": "4a36f6b3",
   "metadata": {},
   "outputs": [
    {
     "name": "stderr",
     "output_type": "stream",
     "text": [
      "100%|██████████| 50/50 [01:38<00:00,  1.96s/it]\n"
     ]
    }
   ],
   "source": [
    "alpha_arr = np.logspace(-5, 5, 50)\n",
    "test_err = []\n",
    "train_err = []\n",
    "train_acc = []\n",
    "test_acc = []\n",
    "\n",
    "for alpha in tqdm(alpha_arr):\n",
    "    mlp_model = MLPClassifier(alpha = alpha, hidden_layer_sizes = (22,), \n",
    "                              solver='adam', activation='relu', max_iter=1000, random_state=13)\n",
    "    mlp_model.fit(X_train, y_train)\n",
    "\n",
    "    y_train_pred = mlp_model.predict(X_train)\n",
    "    y_test_pred = mlp_model.predict(X_test)\n",
    "    \n",
    "    train_err.append(np.mean(y_train != y_train_pred))\n",
    "    test_err.append(np.mean(y_test != y_test_pred))\n",
    "    \n",
    "    train_acc.append(accuracy_score(y_train, y_train_pred))\n",
    "    test_acc.append(accuracy_score(y_test, y_test_pred))"
   ]
  },
  {
   "cell_type": "code",
   "execution_count": 15,
   "id": "7272df0f",
   "metadata": {},
   "outputs": [
    {
     "data": {
      "text/plain": [
       "<matplotlib.legend.Legend at 0x173a585f160>"
      ]
     },
     "execution_count": 15,
     "metadata": {},
     "output_type": "execute_result"
    },
    {
     "data": {
      "image/png": "[encoded data removed]",
      "text/plain": [
       "<Figure size 432x288 with 1 Axes>"
      ]
     },
     "metadata": {
      "needs_background": "light"
     },
     "output_type": "display_data"
    }
   ],
   "source": [
    "plt.semilogx(alpha_arr, train_err, 'b-o', label = 'train')\n",
    "plt.semilogx(alpha_arr, test_err, 'r-o', label = 'test')\n",
    "plt.xlim([np.min(alpha_arr), np.max(alpha_arr)])\n",
    "plt.title('Error vs. alpha')\n",
    "plt.xlabel('alpha')\n",
    "plt.ylabel('error')\n",
    "plt.legend()"
   ]
  },
  {
   "cell_type": "code",
   "execution_count": 16,
   "id": "0564a479",
   "metadata": {},
   "outputs": [
    {
     "data": {
      "text/plain": [
       "<matplotlib.legend.Legend at 0x173a9e89e50>"
      ]
     },
     "execution_count": 16,
     "metadata": {},
     "output_type": "execute_result"
    },
    {
     "data": {
      "image/png": "[encoded data removed]",
      "text/plain": [
       "<Figure size 432x288 with 1 Axes>"
      ]
     },
     "metadata": {
      "needs_background": "light"
     },
     "output_type": "display_data"
    }
   ],
   "source": [
    "plt.semilogx(alpha_arr, train_acc, 'b-o', label = 'train')\n",
    "plt.semilogx(alpha_arr, test_acc, 'r-o', label = 'test')\n",
    "plt.xlim([np.min(alpha_arr), np.max(alpha_arr)])\n",
    "plt.title('Acc vs. alpha')\n",
    "plt.xlabel('alpha')\n",
    "plt.ylabel('acc')\n",
    "plt.legend()"
   ]
  },
  {
   "cell_type": "markdown",
   "id": "d2b5a9ec",
   "metadata": {},
   "source": [
    "# Общие выводы\n",
    "##  Подбор числа нейронов в однослойном классификаторе\n",
    "1) Так как графики Error/Accuracy для train/test почти полностью совпадают, делаем вывод об одиноковом распределении тренировочных и тестовых данных.\n",
    "\n",
    "2) Переобучения нет, следовательно в моделе нет высоких весовых значений и она достаточно простая, чтобы уметь обобщаться.\n",
    "\n",
    "3) Недообучения так же нет, то есть модель достаточно сложная, чтобы решить поставленную задачу.\n",
    "\n",
    "4) Максимальное значение accuracy = 98.4%, число нейронов = 3\n",
    "\n",
    "## Подбор числа нейронов в двухслойном классификаторе\n",
    "1) Переобучения и недобучения также нет.\n",
    "\n",
    "2) Максимальное значение accuracy = 98.4%, число нейронов = (1, 1)\n",
    "\n",
    "3) Число нейронов уменьшилось на 1, значение accuracy не изменилось\n",
    "\n",
    "## Подбор параметра регуляризации\n",
    "C ростом коэффициента регуляризации растет ошибка и падает accuracy, что говорит о том, что после обучения у модели не возникает больших значения весовых коэффициентов, а значит нет переобучения у модели."
   ]
  },
  {
   "cell_type": "code",
   "execution_count": null,
   "id": "7dedc00e",
   "metadata": {},
   "outputs": [],
   "source": []
  }
 ],
 "metadata": {
  "kernelspec": {
   "display_name": "Python 3",
   "language": "python",
   "name": "python3"
  },
  "language_info": {
   "codemirror_mode": {
    "name": "ipython",
    "version": 3
   },
   "file_extension": ".py",
   "mimetype": "text/x-python",
   "name": "python",
   "nbconvert_exporter": "python",
   "pygments_lexer": "ipython3",
   "version": "3.8.8"
  }
 },
 "nbformat": 4,
 "nbformat_minor": 5
}
